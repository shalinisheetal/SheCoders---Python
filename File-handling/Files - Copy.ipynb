{
 "cells": [
  {
   "cell_type": "code",
   "execution_count": 1,
   "metadata": {},
   "outputs": [],
   "source": [
    "import os"
   ]
  },
  {
   "cell_type": "code",
   "execution_count": 2,
   "metadata": {},
   "outputs": [
    {
     "data": {
      "text/plain": [
       "['.ipynb_checkpoints', 'Files.ipynb']"
      ]
     },
     "execution_count": 2,
     "metadata": {},
     "output_type": "execute_result"
    }
   ],
   "source": [
    "os.listdir()"
   ]
  },
  {
   "cell_type": "code",
   "execution_count": 3,
   "metadata": {},
   "outputs": [
    {
     "data": {
      "text/plain": [
       "'D:\\\\Grras_Data\\\\Grras_Delhi\\\\classes\\\\Python 3.30\\\\File Handling'"
      ]
     },
     "execution_count": 3,
     "metadata": {},
     "output_type": "execute_result"
    }
   ],
   "source": [
    "pwd"
   ]
  },
  {
   "cell_type": "code",
   "execution_count": 4,
   "metadata": {},
   "outputs": [],
   "source": [
    "os.mkdir('Hello/')"
   ]
  },
  {
   "cell_type": "code",
   "execution_count": 1,
   "metadata": {},
   "outputs": [],
   "source": [
    "import shutil\n",
    "import time\n",
    "import os"
   ]
  },
  {
   "cell_type": "code",
   "execution_count": 4,
   "metadata": {},
   "outputs": [],
   "source": [
    "time.sleep(5)\n",
    "for i in os.listdir('../../Python4PM/'):\n",
    "    if i[0].lower()=='c':\n",
    "        shutil.copy(f'../../Python4PM/{i}','C:/Users/hp/Desktop/')\n",
    "        time.sleep(1)"
   ]
  },
  {
   "cell_type": "code",
   "execution_count": 3,
   "metadata": {},
   "outputs": [
    {
     "data": {
      "text/plain": [
       "['.ipynb_checkpoints',\n",
       " 'add.py',\n",
       " 'Advanced Functions.html',\n",
       " 'Advanced Functions.ipynb',\n",
       " 'Advanced Python',\n",
       " 'Attandance system.html',\n",
       " 'Attandance system.ipynb',\n",
       " 'attandance.txt',\n",
       " 'Bank',\n",
       " 'Command.txt',\n",
       " 'command1.txt',\n",
       " 'command2.txt',\n",
       " 'Conditional Statements.html',\n",
       " 'Conditional Statements.ipynb',\n",
       " 'covid_19_india.csv',\n",
       " 'DataBase.ipynb',\n",
       " 'database_command.txt',\n",
       " 'Decorators.html',\n",
       " 'Decorators.ipynb',\n",
       " 'Dictionary.html',\n",
       " 'Dictionary.ipynb',\n",
       " 'dictionary.py',\n",
       " 'Exception Handling.html',\n",
       " 'Exception Handling.ipynb',\n",
       " 'File Handling-2.html',\n",
       " 'File Handling-2.ipynb',\n",
       " 'File Handling.html',\n",
       " 'File Handling.ipynb',\n",
       " 'File_Handling',\n",
       " 'For and While Loop.html',\n",
       " 'For and While Loop.ipynb',\n",
       " 'Functions.html',\n",
       " 'Functions.ipynb',\n",
       " 'hello.py',\n",
       " 'Introduction.ipynb',\n",
       " 'Iterations.html',\n",
       " 'Iterations.ipynb',\n",
       " 'Iterators and Generators (2).html',\n",
       " 'Iterators and Generators.ipynb',\n",
       " 'JSON&PICKLE.html',\n",
       " 'JSON&PICKLE.ipynb',\n",
       " 'List (1).html',\n",
       " 'List.html',\n",
       " 'List.ipynb',\n",
       " 'Map Reduce Filter.html',\n",
       " 'Map Reduce Filter.ipynb',\n",
       " 'Modules and Packages.html',\n",
       " 'Modules and Packages.ipynb',\n",
       " 'More About Function.html',\n",
       " 'More About Function.ipynb',\n",
       " 'More On String.html',\n",
       " 'More On String.ipynb',\n",
       " 'Nested Dictionary.html',\n",
       " 'Nested Dictionary.ipynb',\n",
       " 'Number Data Type.html',\n",
       " 'Number Data Type.ipynb',\n",
       " 'OOPS-2 (1).html',\n",
       " 'OOPS-2.ipynb',\n",
       " 'OOPS-3-Inheritance.html',\n",
       " 'OOPS-3-Inheritance.ipynb',\n",
       " 'OOPS-Advnaced.html',\n",
       " 'OOPS-Advnaced.ipynb',\n",
       " 'OOPS.ipynb',\n",
       " 'Operators.html',\n",
       " 'Operators.ipynb',\n",
       " 'package',\n",
       " 'precedence.csv',\n",
       " 'Print Statement.html',\n",
       " 'Print Statement.ipynb',\n",
       " 'Recursion.html',\n",
       " 'Recursion.ipynb',\n",
       " 'set.html',\n",
       " 'Sets.ipynb',\n",
       " 'Shelve',\n",
       " 'start.py',\n",
       " 'String-DataType.html',\n",
       " 'String-DataType.ipynb',\n",
       " 'supermarket',\n",
       " 'Supermarket.html',\n",
       " 'Supermarket.ipynb',\n",
       " 'tested_worldwide.csv',\n",
       " 'Tuples.html',\n",
       " 'Tuples.ipynb',\n",
       " 'While Loop.html',\n",
       " 'While Loop.ipynb',\n",
       " '__pycache__']"
      ]
     },
     "execution_count": 3,
     "metadata": {},
     "output_type": "execute_result"
    }
   ],
   "source": [
    "os.listdir('../../Python4PM/')"
   ]
  },
  {
   "cell_type": "code",
   "execution_count": 11,
   "metadata": {},
   "outputs": [],
   "source": [
    "time.sleep(5)\n",
    "path = 'C:/Users/hp/Desktop/'\n",
    "for i in os.listdir(path):\n",
    "    \n",
    "    if i[0].lower()=='c':\n",
    "        path1=os.path.join(path,i)\n",
    "        shutil.move(path1,f'./Hello/{i}')\n",
    "        time.sleep(1)"
   ]
  },
  {
   "cell_type": "code",
   "execution_count": 6,
   "metadata": {},
   "outputs": [],
   "source": [
    "p1 ='C:Users/hp/'"
   ]
  },
  {
   "cell_type": "code",
   "execution_count": 7,
   "metadata": {},
   "outputs": [],
   "source": [
    "p2 = 'Desktop/comman1.txt'"
   ]
  },
  {
   "cell_type": "code",
   "execution_count": 8,
   "metadata": {},
   "outputs": [
    {
     "data": {
      "text/plain": [
       "'C:Users/hp/Desktop/comman1.txt'"
      ]
     },
     "execution_count": 8,
     "metadata": {},
     "output_type": "execute_result"
    }
   ],
   "source": [
    "p1+p2"
   ]
  },
  {
   "cell_type": "code",
   "execution_count": 9,
   "metadata": {},
   "outputs": [
    {
     "data": {
      "text/plain": [
       "'C:Users/hp/Desktop/comman1.txt'"
      ]
     },
     "execution_count": 9,
     "metadata": {},
     "output_type": "execute_result"
    }
   ],
   "source": [
    "os.path.join(p1,p2)"
   ]
  },
  {
   "cell_type": "code",
   "execution_count": 12,
   "metadata": {},
   "outputs": [],
   "source": [
    "shutil.rmtree('hello/')"
   ]
  },
  {
   "cell_type": "code",
   "execution_count": 13,
   "metadata": {},
   "outputs": [
    {
     "data": {
      "text/plain": [
       "True"
      ]
     },
     "execution_count": 13,
     "metadata": {},
     "output_type": "execute_result"
    }
   ],
   "source": [
    "os.path.exists('D:/Grras_Data/Grras_Delhi/classes/')"
   ]
  },
  {
   "cell_type": "code",
   "execution_count": 16,
   "metadata": {},
   "outputs": [
    {
     "data": {
      "text/plain": [
       "False"
      ]
     },
     "execution_count": 16,
     "metadata": {},
     "output_type": "execute_result"
    }
   ],
   "source": [
    "os.path.exists('D:/Grras_Data/Grras_Delhi/Clses/')"
   ]
  },
  {
   "cell_type": "code",
   "execution_count": 17,
   "metadata": {},
   "outputs": [
    {
     "data": {
      "text/plain": [
       "'D:\\\\Grras_Data\\\\Grras_Delhi\\\\classes\\\\Python 3.30\\\\File Handling'"
      ]
     },
     "execution_count": 17,
     "metadata": {},
     "output_type": "execute_result"
    }
   ],
   "source": [
    "pwd"
   ]
  },
  {
   "cell_type": "code",
   "execution_count": 18,
   "metadata": {},
   "outputs": [
    {
     "data": {
      "text/plain": [
       "False"
      ]
     },
     "execution_count": 18,
     "metadata": {},
     "output_type": "execute_result"
    }
   ],
   "source": [
    "os.path.isabs('../../')"
   ]
  },
  {
   "cell_type": "code",
   "execution_count": 20,
   "metadata": {},
   "outputs": [
    {
     "data": {
      "text/plain": [
       "True"
      ]
     },
     "execution_count": 20,
     "metadata": {},
     "output_type": "execute_result"
    }
   ],
   "source": [
    "os.path.isabs('C:/')"
   ]
  },
  {
   "cell_type": "code",
   "execution_count": 21,
   "metadata": {},
   "outputs": [
    {
     "name": "stdout",
     "output_type": "stream",
     "text": [
      "Writing one\n"
     ]
    }
   ],
   "source": [
    "%%writefile one\n",
    "\n",
    "h=10\n",
    "print(h)"
   ]
  },
  {
   "cell_type": "code",
   "execution_count": 1,
   "metadata": {},
   "outputs": [],
   "source": [
    "import random"
   ]
  },
  {
   "cell_type": "code",
   "execution_count": 23,
   "metadata": {},
   "outputs": [],
   "source": []
  },
  {
   "cell_type": "code",
   "execution_count": null,
   "metadata": {},
   "outputs": [],
   "source": [
    "os.mkdir('Check')"
   ]
  },
  {
   "cell_type": "code",
   "execution_count": 2,
   "metadata": {},
   "outputs": [],
   "source": [
    "import shutil\n",
    "import time\n",
    "import os"
   ]
  },
  {
   "cell_type": "code",
   "execution_count": 3,
   "metadata": {},
   "outputs": [],
   "source": [
    "l = ['one','two','three','four','five','six','seven','eight']\n",
    "\n",
    "while True:\n",
    "    \n",
    "    x = random.randint(1,100)\n",
    "\n",
    "    if x%2==0:\n",
    "\n",
    "        a = random.choice(l)\n",
    "        if a not in os.listdir('Check/'):\n",
    "\n",
    "            f = open(f\"check/{a}\",'w')\n",
    "            f.close()\n",
    "            \n",
    "        else:\n",
    "            pass\n",
    "\n",
    "    else:\n",
    "\n",
    "        a = random.choice(l)\n",
    "        if a not in os.listdir('Check/'):\n",
    "\n",
    "            os.mkdir(f\"check/{a}\")\n",
    "\n",
    "        else:\n",
    "            pass\n",
    "        \n",
    "    if len(os.listdir('check/')) == 8:\n",
    "        break"
   ]
  },
  {
   "cell_type": "code",
   "execution_count": 4,
   "metadata": {},
   "outputs": [],
   "source": [
    "shutil.rmtree('check/')"
   ]
  },
  {
   "cell_type": "code",
   "execution_count": 5,
   "metadata": {},
   "outputs": [],
   "source": [
    "os.mkdir('check/')"
   ]
  },
  {
   "cell_type": "code",
   "execution_count": 6,
   "metadata": {},
   "outputs": [],
   "source": [
    "l = ['one','two','three','four','five','six','seven','eight']\n",
    "\n",
    "while True:\n",
    "    \n",
    "    x = random.randint(1,100)\n",
    "\n",
    "    if x%2==0:\n",
    "\n",
    "        a = random.choice(l)\n",
    "        if a not in os.listdir('Check/'):\n",
    "\n",
    "            f = open(f\"check/{a}\",'w')\n",
    "            f.close()\n",
    "            \n",
    "        else:\n",
    "            pass\n",
    "\n",
    "    else:\n",
    "\n",
    "        a = random.choice(l)\n",
    "        if a not in os.listdir('Check/'):\n",
    "\n",
    "            os.mkdir(f\"check/{a}\")\n",
    "\n",
    "        else:\n",
    "            pass\n",
    "        \n",
    "    if len(os.listdir('check/')) == 8:\n",
    "        break"
   ]
  },
  {
   "cell_type": "code",
   "execution_count": 7,
   "metadata": {},
   "outputs": [
    {
     "data": {
      "text/plain": [
       "['eight', 'five', 'four', 'one', 'seven', 'six', 'three', 'two']"
      ]
     },
     "execution_count": 7,
     "metadata": {},
     "output_type": "execute_result"
    }
   ],
   "source": [
    "os.listdir('check/')"
   ]
  },
  {
   "cell_type": "code",
   "execution_count": 8,
   "metadata": {},
   "outputs": [],
   "source": [
    "dirs=[]\n",
    "files=[]\n",
    "\n",
    "for i in os.listdir('check/'):\n",
    "    \n",
    "    if os.path.isfile(f\"check/{i}\"):\n",
    "        files.append(i)\n",
    "    else:\n",
    "        dirs.append(i)"
   ]
  },
  {
   "cell_type": "code",
   "execution_count": 9,
   "metadata": {},
   "outputs": [
    {
     "data": {
      "text/plain": [
       "['six']"
      ]
     },
     "execution_count": 9,
     "metadata": {},
     "output_type": "execute_result"
    }
   ],
   "source": [
    "dirs"
   ]
  },
  {
   "cell_type": "code",
   "execution_count": 10,
   "metadata": {},
   "outputs": [
    {
     "data": {
      "text/plain": [
       "['eight', 'five', 'four', 'one', 'seven', 'three', 'two']"
      ]
     },
     "execution_count": 10,
     "metadata": {},
     "output_type": "execute_result"
    }
   ],
   "source": [
    "files"
   ]
  },
  {
   "cell_type": "code",
   "execution_count": 11,
   "metadata": {},
   "outputs": [],
   "source": [
    "#shutil.copytree()"
   ]
  },
  {
   "cell_type": "code",
   "execution_count": 12,
   "metadata": {},
   "outputs": [
    {
     "name": "stdout",
     "output_type": "stream",
     "text": [
      "['__add__', '__class__', '__contains__', '__delattr__', '__delitem__', '__dir__', '__doc__', '__eq__', '__format__', '__ge__', '__getattribute__', '__getitem__', '__gt__', '__hash__', '__iadd__', '__imul__', '__init__', '__init_subclass__', '__iter__', '__le__', '__len__', '__lt__', '__mul__', '__ne__', '__new__', '__reduce__', '__reduce_ex__', '__repr__', '__reversed__', '__rmul__', '__setattr__', '__setitem__', '__sizeof__', '__str__', '__subclasshook__', 'append', 'clear', 'copy', 'count', 'extend', 'index', 'insert', 'pop', 'remove', 'reverse', 'sort']\n"
     ]
    }
   ],
   "source": [
    "print(dir(list))"
   ]
  },
  {
   "cell_type": "code",
   "execution_count": 15,
   "metadata": {},
   "outputs": [
    {
     "name": "stdout",
     "output_type": "stream",
     "text": [
      "append\n",
      "clear\n",
      "copy\n",
      "count\n",
      "extend\n",
      "index\n",
      "insert\n",
      "pop\n",
      "remove\n",
      "reverse\n",
      "sort\n"
     ]
    }
   ],
   "source": [
    "print(*[i for i in dir(list) if i[0:2]!='__'],sep='\\n')"
   ]
  },
  {
   "cell_type": "code",
   "execution_count": 16,
   "metadata": {},
   "outputs": [
    {
     "name": "stdout",
     "output_type": "stream",
     "text": [
      "clear\n",
      "copy\n",
      "fromkeys\n",
      "get\n",
      "items\n",
      "keys\n",
      "pop\n",
      "popitem\n",
      "setdefault\n",
      "update\n",
      "values\n"
     ]
    }
   ],
   "source": [
    "print(*[i for i in dir(dict) if i[0:2]!='__'],sep='\\n')"
   ]
  },
  {
   "cell_type": "code",
   "execution_count": 17,
   "metadata": {},
   "outputs": [
    {
     "name": "stdout",
     "output_type": "stream",
     "text": [
      "count\n",
      "index\n"
     ]
    }
   ],
   "source": [
    "print(*[i for i in dir(tuple) if i[0:2]!='__'],sep='\\n')"
   ]
  },
  {
   "cell_type": "code",
   "execution_count": 18,
   "metadata": {},
   "outputs": [
    {
     "name": "stdout",
     "output_type": "stream",
     "text": [
      "add\n",
      "clear\n",
      "copy\n",
      "difference\n",
      "difference_update\n",
      "discard\n",
      "intersection\n",
      "intersection_update\n",
      "isdisjoint\n",
      "issubset\n",
      "issuperset\n",
      "pop\n",
      "remove\n",
      "symmetric_difference\n",
      "symmetric_difference_update\n",
      "union\n",
      "update\n"
     ]
    }
   ],
   "source": [
    "print(*[i for i in dir(set) if i[0:2]!='__'],sep='\\n')"
   ]
  },
  {
   "cell_type": "code",
   "execution_count": 19,
   "metadata": {},
   "outputs": [
    {
     "name": "stdout",
     "output_type": "stream",
     "text": [
      "capitalize\n",
      "casefold\n",
      "center\n",
      "count\n",
      "encode\n",
      "endswith\n",
      "expandtabs\n",
      "find\n",
      "format\n",
      "format_map\n",
      "index\n",
      "isalnum\n",
      "isalpha\n",
      "isascii\n",
      "isdecimal\n",
      "isdigit\n",
      "isidentifier\n",
      "islower\n",
      "isnumeric\n",
      "isprintable\n",
      "isspace\n",
      "istitle\n",
      "isupper\n",
      "join\n",
      "ljust\n",
      "lower\n",
      "lstrip\n",
      "maketrans\n",
      "partition\n",
      "replace\n",
      "rfind\n",
      "rindex\n",
      "rjust\n",
      "rpartition\n",
      "rsplit\n",
      "rstrip\n",
      "split\n",
      "splitlines\n",
      "startswith\n",
      "strip\n",
      "swapcase\n",
      "title\n",
      "translate\n",
      "upper\n",
      "zfill\n"
     ]
    }
   ],
   "source": [
    "print(*[i for i in dir(str) if i[0:2]!='__'],sep='\\n')"
   ]
  },
  {
   "cell_type": "code",
   "execution_count": 20,
   "metadata": {},
   "outputs": [
    {
     "name": "stdout",
     "output_type": "stream",
     "text": [
      "copy\n",
      "difference\n",
      "intersection\n",
      "isdisjoint\n",
      "issubset\n",
      "issuperset\n",
      "symmetric_difference\n",
      "union\n"
     ]
    }
   ],
   "source": [
    "print(*[i for i in dir(frozenset) if i[0:2]!='__'],sep='\\n')"
   ]
  },
  {
   "cell_type": "code",
   "execution_count": 21,
   "metadata": {},
   "outputs": [
    {
     "data": {
      "text/plain": [
       "range(1, 11)"
      ]
     },
     "execution_count": 21,
     "metadata": {},
     "output_type": "execute_result"
    }
   ],
   "source": [
    "range(1,11)"
   ]
  },
  {
   "cell_type": "code",
   "execution_count": 22,
   "metadata": {},
   "outputs": [
    {
     "name": "stdout",
     "output_type": "stream",
     "text": [
      "1\n",
      "2\n",
      "3\n",
      "4\n",
      "5\n",
      "6\n",
      "7\n",
      "8\n",
      "9\n",
      "10\n"
     ]
    }
   ],
   "source": [
    "for i in range(1,11):\n",
    "    print(i)"
   ]
  },
  {
   "cell_type": "code",
   "execution_count": 23,
   "metadata": {},
   "outputs": [
    {
     "name": "stdout",
     "output_type": "stream",
     "text": [
      "1 2 3 4 5 6 7 8 9 10\n"
     ]
    }
   ],
   "source": [
    "print(*range(1,11))"
   ]
  },
  {
   "cell_type": "code",
   "execution_count": 25,
   "metadata": {},
   "outputs": [],
   "source": [
    "f = open('one.txt','w')"
   ]
  },
  {
   "cell_type": "markdown",
   "metadata": {},
   "source": [
    "        by default mode read"
   ]
  },
  {
   "cell_type": "code",
   "execution_count": 26,
   "metadata": {},
   "outputs": [],
   "source": [
    "s = \"\"\"This is the world for python\n",
    "Python is programing language\n",
    "Python is Interpreted Language\n",
    "Python is general purpose programing language\"\"\""
   ]
  },
  {
   "cell_type": "code",
   "execution_count": 27,
   "metadata": {},
   "outputs": [
    {
     "data": {
      "text/plain": [
       "135"
      ]
     },
     "execution_count": 27,
     "metadata": {},
     "output_type": "execute_result"
    }
   ],
   "source": [
    "f.write(s)"
   ]
  },
  {
   "cell_type": "code",
   "execution_count": 28,
   "metadata": {},
   "outputs": [],
   "source": [
    "f.close()"
   ]
  },
  {
   "cell_type": "code",
   "execution_count": 29,
   "metadata": {},
   "outputs": [],
   "source": [
    "with open('two.txt','w') as f:\n",
    "    \n",
    "    f.write('Hello Wolrd')"
   ]
  },
  {
   "cell_type": "code",
   "execution_count": 30,
   "metadata": {},
   "outputs": [],
   "source": [
    "f = open('one.txt')"
   ]
  },
  {
   "cell_type": "code",
   "execution_count": 31,
   "metadata": {},
   "outputs": [],
   "source": [
    "data = f.read()"
   ]
  },
  {
   "cell_type": "code",
   "execution_count": 32,
   "metadata": {},
   "outputs": [
    {
     "name": "stdout",
     "output_type": "stream",
     "text": [
      "This is the world for python\n",
      "Python is programing language\n",
      "Python is Interpreted Language\n",
      "Python is general purpose programing language\n"
     ]
    }
   ],
   "source": [
    "print(data)"
   ]
  },
  {
   "cell_type": "code",
   "execution_count": 33,
   "metadata": {},
   "outputs": [],
   "source": [
    "data = f.read()"
   ]
  },
  {
   "cell_type": "code",
   "execution_count": 34,
   "metadata": {},
   "outputs": [
    {
     "name": "stdout",
     "output_type": "stream",
     "text": [
      "\n"
     ]
    }
   ],
   "source": [
    "print(data)"
   ]
  },
  {
   "cell_type": "code",
   "execution_count": 35,
   "metadata": {},
   "outputs": [],
   "source": [
    "x=f.seek(len('This is the world for python\\n'))"
   ]
  },
  {
   "cell_type": "code",
   "execution_count": 36,
   "metadata": {},
   "outputs": [],
   "source": [
    "data = f.read()"
   ]
  },
  {
   "cell_type": "code",
   "execution_count": 37,
   "metadata": {},
   "outputs": [
    {
     "name": "stdout",
     "output_type": "stream",
     "text": [
      "\n",
      "Python is programing language\n",
      "Python is Interpreted Language\n",
      "Python is general purpose programing language\n"
     ]
    }
   ],
   "source": [
    "print(data)"
   ]
  },
  {
   "cell_type": "code",
   "execution_count": 38,
   "metadata": {},
   "outputs": [
    {
     "data": {
      "text/plain": [
       "138"
      ]
     },
     "execution_count": 38,
     "metadata": {},
     "output_type": "execute_result"
    }
   ],
   "source": [
    "f.tell()"
   ]
  },
  {
   "cell_type": "code",
   "execution_count": 39,
   "metadata": {},
   "outputs": [
    {
     "data": {
      "text/plain": [
       "0"
      ]
     },
     "execution_count": 39,
     "metadata": {},
     "output_type": "execute_result"
    }
   ],
   "source": [
    "f.seek(0)"
   ]
  },
  {
   "cell_type": "code",
   "execution_count": 40,
   "metadata": {},
   "outputs": [
    {
     "data": {
      "text/plain": [
       "0"
      ]
     },
     "execution_count": 40,
     "metadata": {},
     "output_type": "execute_result"
    }
   ],
   "source": [
    "f.tell()"
   ]
  },
  {
   "cell_type": "code",
   "execution_count": 41,
   "metadata": {},
   "outputs": [],
   "source": [
    "f = open('mumbai.jpg','rb')"
   ]
  },
  {
   "cell_type": "code",
   "execution_count": 42,
   "metadata": {},
   "outputs": [],
   "source": [
    "data = f.read()"
   ]
  },
  {
   "cell_type": "code",
   "execution_count": 44,
   "metadata": {},
   "outputs": [
    {
     "data": {
      "text/plain": [
       "18868"
      ]
     },
     "execution_count": 44,
     "metadata": {},
     "output_type": "execute_result"
    }
   ],
   "source": [
    "len(data)"
   ]
  },
  {
   "cell_type": "code",
   "execution_count": 45,
   "metadata": {},
   "outputs": [
    {
     "data": {
      "text/plain": [
       "b'\\xff\\xd8\\xff\\xe0\\x00\\x10JFIF\\x00\\x01\\x01\\x00\\x00\\x01\\x00\\x01\\x00\\x00\\xff\\xdb\\x00\\x84\\x00\\t\\x06\\x07\\x13\\x12\\x12\\x15\\x13\\x13\\x13\\x16\\x16\\x15\\x16\\x18\\x1a\\x1a\\x18\\x18\\x18\\x17\\x1a\\x1a\\x1e\\x18\\x1a\\x18\\x1a\\x1a \\x1d\\x1d\\x17\\x19\\x1d\\x1d( \\x1a\\x1a%\\x1b\\x1d\\x17!1!%)+...\\x17\\x1f383-7(-.+\\x01\\n\\n\\n\\x0e\\r\\x0e\\x1b\\x10\\x10\\x1b2% &-//-1//-//2-00--/5--------/--/--------------------\\xff\\xc0\\x00\\x11\\x08\\x00\\xb2\\x01\\x1b\\x03\\x01\\x11\\x00\\x02\\x11\\x01\\x03\\x11\\x01\\xff\\xc4\\x00\\x1c\\x00\\x00\\x02\\x03\\x01\\x01\\x01\\x01\\x00\\x00\\x00\\x00\\x00\\x00\\x00\\x00\\x00\\x00\\x06\\x04\\x05\\x07\\x03\\x02\\x01\\x08\\xff\\xc4\\x00N\\x10\\x00\\x02\\x01\\x03\\x00\\x06\\x06\\x05\\x06\\n\\t\\x03\\x03\\x05\\x00\\x00\\x01\\x02\\x03\\x00\\x04\\x11\\x05\\x06\\x12!1A\\x13\"Qaq\\x81\\x072B\\x91\\xa1\\x14Rb\\xb1\\xc1\\xd1#3CSrs\\x82\\x92\\xa2\\xe1\\x16$Tc\\x93\\x94\\xb2\\xd2\\xf0\\x15\\x83\\xf1Ud\\xe2\\x17%4\\xa3\\xc2\\xff\\xc4\\x00\\x1b\\x01\\x00\\x02\\x03\\x01\\x01\\x01\\x00\\x00\\x00\\x00\\x00\\x00\\x00\\x00\\x00\\x00\\x00\\x05\\x02\\x03\\x04\\x06\\x01\\x07\\xff\\xc4\\x00D\\x11\\x00\\x01\\x03\\x02\\x03\\x03\\t\\x05\\x07\\x03\\x03\\x04\\x01\\x05\\x00\\x00\\x01\\x00\\x02\\x03\\x04\\x11\\x05\\x12!1AQ\\x13\"2aq\\x81\\x91\\xa1\\xb1\\x06\\x14\\xc1\\xd1\\xf0\\x15#3BR\\x92\\xe1\\x16b\\xf1S\\x82\\xe2$r\\xb2\\xd2\\xc24CTc\\xa2\\xff\\xda\\x00\\x0c\\x03\\x01\\x00\\x02\\x11\\x03\\x11\\x00?\\x00\\xdchB(B(B(B(B(B(B(B(B(B(B(B(B(B(B(B(B(B(B(B(B(B(B(B(B(B(B(B(B(B(B(B(B(B(B(B(B(B(B(B(B(B(B(B(B(B(B(B(B(B(B(B(B\\x87{\\xa5a\\x88\\x85y\\x141\\xe0\\x9c]\\xbfE\\x06Y\\xbc\\x85I\\xacs\\xb5\\x01D\\xbd\\xa3i]\\xa0\\x9c\\xb6\\xfd\\x86Q\\xf4\\xb7\\x1fw\\x11\\xe7\\x8a\\xf0\\x8b/A\\xba\\xed^/QB\\x11B\\x11B\\x11B\\x11B\\x11B\\x11B\\x11B\\x11B\\x11B\\x11B\\x11B\\x11B\\x11B\\x11B\\x11B\\x11B\\x11B\\x11B\\x11B\\x11B\\x11B\\x11B\\x11B\\x11B\\x11B\\x11B\\x11B\\x11B\\x17\\x0f\\x95)m\\x85\\xeb0\\xe2\\x07/\\x13\\xca\\xbd\\xcamu\\xe5\\xc5\\xec\\xbd\\\\\\xdc$jY\\xd8*\\x8e%\\x8e\\x05\\x00\\x12l\\x10H\\x1bR6\\x9c\\xf4\\xa3m\\x19\\xd8\\xb6F\\xb8\\x93\\x80\\xd9\\xdc\\xb9\\xf1\\xc6O\\x905\\xb2:\\'\\x9d]\\xa0Y_V\\xd1\\xa3u+\\x84i\\xa4.W\\xa5\\xbf\\xba\\x166\\xfcz8\\x88G#\\xe99;K\\xbb<\\xfc\\xab\\xd2ba\\xb4m\\xccz\\xd09G\\x0b\\xbc\\xd8.q\\xeb\\x9e\\x89\\xb0\\x05-c29\\xf5\\x9a5\\xc9s\\xda\\xd2\\xb6\\xf6\\xf7\\x9a\\x0c\\x13I\\xab\\xcd\\x87Z\\xf5\\xb2F\\xd3\\x961s\\xd5\\xaa\\xa6\\xd2>\\x97\\xee\\x0f\\xe2m\\xa3N\\xc3#3\\x93\\xe46w\\xf9\\xd4\\xd9G\\x19\\xfc\\xd7\\xec^I4\\xad\\x17-\\xb7j\\xf9a\\xa55\\x82\\xf7|d\\xc4\\x87\\x9fF\\x88\\xbe\\xf7R\\xd5\\'2\\x9a=\\xba\\xaa\\xda\\xea\\x87\\xec\\xd10\\xd9j^\\x91}\\xf7:Va\\xdd\\x130\\xf2\\xceF\\x0fx\\x15C\\xaa\"\\x1d\\x16\\x0e\\xf5h\\x86C\\xd2r\\xbf\\xb2\\xd5\\x04OZ\\xea\\xfaO\\xd3\\xbc\\x98\\x7f\\xa5\\x85Tg\\'p\\xf0\\n\\xe1\\x1f\\x12|U\\xa7\\xc9V\\x11\\x94\\x139\\x1c\\x8c\\xb29?\\xbe\\xe4{\\xea\\xa2\\xe2\\x7f\\xc0C\\xb9\\xa3@O\\xd7Z\\xa8\\xbf\\xd3w\\xab\\xf8\\xbb\\x16#\\xb4\\xb8\\xcf\\xb8}\\xf5Q\\'\\x82\\xc5%MH\\xe8\\xc5\\xe6\\x97\\xee\\xf5\\xde\\xf6#\\xf8KeQ\\xde\\x1b\\xeb\\xce+\\xcc\\xe5`\\x93\\x13\\xa9\\x8c\\xf3\\x99o\\x15\\xde\\xc7\\xd2H\\'\\x12\\xc0@\\xedF\\xcf\\xc0\\x81\\xf5\\xd1\\x9dN<h_\\x9e\\xdf\\x04\\xe1\\xa2t\\xc47+\\xb5\\x13\\x86\\xed\\x1c\\x08\\xf1\\x1cj`\\x82\\x9bCQ\\x1c\\xc2\\xec7S\\xeb\\xd5z(B(B(B(B(B(B(B(B(B(B(B(B(B(B(B(B(B(B(B\\x8f}{\\x1c(d\\x95\\xd5\\x11x\\xb3\\x1c\\x0f\\xfc\\xf7T\\x9a\\xd2\\xe3`\\xa2\\xe7\\x06\\x8b\\x94\\xa7c\\xa7&\\xd2n\\xc2\\xdfj\\x0bD8y\\x8e\\xe7\\x90\\x8ff?\\x9a;O/\\xabK\\xa2l#\\x9d\\xab\\xb8,\\xed\\x90\\xccy\\xba\\x0e*\\x0e\\x97\\xd7\\xb8-\\xff\\x00\\xabXG\\xd3H7do@y\\x92\\xde\\xd9\\xef\\xe1\\xdf^\\x18\\x83[\\xca\\xce\\xec\\xa3\\xad\\x02\\\\\\xce\\xe4\\xe0\\x19\\x8a\\xcc\\xb5\\x8fMMp\\xc4\\xdcLeo\\x9a\\xa7\\xf0i\\xe0\\x06\\xe2\\x7f\\xe6\\xfa\\xdbN\\x0b\\x85\\xd8\\xdc\\xad\\xeb\\xe9\\x1f\\x97\\xafb\\xcbP\\xe0\\xd3g\\xbb3\\xba\\xb6\\x0f\\x9f\\xa7j\\xb3\\xd5\\xd6\\x96%\\xda\\xb5\\x80+\\x9e7\\x12\\x8c\\x91\\xfa\\xa5\\xe4;\\xfe5\\x8e\\xb7\\x11\\xa6\\x88\\xe5\\x91\\xf7?\\xa4|V\\xca\\x1c>\\xa2ax\\xdba\\xfa\\x8f\\xc1A\\xd3S.\\xd17\\x13=\\xcc\\xbd\\x85\\xb7\\x03\\xf5\\x0f\\n\\xaa\\x9ej\\xba\\x91x\\x9a#g\\x13\\xb4\\xfdqZ\\xe6\\x8a\\x86\\x93\\xf1\\x9ce\\x7f\\x01\\xa0\\x1f\\\\\\x15q\\x8ey=H\\x8a/p\\xd9\\x1e\\xf3W\\xe7\\xa3\\x84\\xdeY3\\x1e\\xb3\\x7f \\xa2\\x0e#R2\\xd3\\xc5\\x91\\xbdC/\\x99\\xb2\\x9f\\xa2\\xcd\\xc5\\xb6\\xf8\\xd6%o\\x9e\\xca\\x19\\x87\\x81#uU&+J\\xed\\x05\\xcf\\x90Z\\xa0\\xf6r\\xb9\\xda\\x92\\xd0z\\xc9\\'\\xd3\\xe2\\xa4\\\\\\xebU\\xff\\x00\\x06\\xbeq\\xdc0(eK\\x1f\\xab!%[&\\n!\\xd2j\\xa6\\xb7\\xab\\x7f\\x85\\xee\\xa26\\xb5\\xde\\r\\xe2\\xfaJ\\xd2\\xc0]\\xb6\\x1bw\\x84\\xbeX)\\xd9\\xd1\\xaa\\x0e\\xff\\x00i]`\\xf4\\x83\\xa4c9\\xf9Q\\x7f\\xd2\\x00\\xfd\\x95x\\xa7\\x8d\\xdb[d\\xbd\\xf2\\xb9\\x87G\\x87x\\xfc\\x95\\xfe\\x8b\\xf4\\xc3p\\xb8\\x13E\\x1c\\x83\\x99^\\xa9\\xf2\\xe2*\\xb7\\xd0\\xb4\\xf4J\\x1bX\\xef\\xcc\\x13\\xe6\\x80\\xf4\\x8fcrB\\x99:\\x17>\\xcc\\x9b\\x81=\\xcd\\xc3\\xea\\xac\\x92R\\xc8\\xcd\\xd7ZYP\\xc7oM\\x92F\\xac0\\xc00=\\xa35\\x99\\\\@\"\\xc5(k\\x06\\xa1\\xc5(-o\\x88\\xdf\\xe6\\xfb\\'\\xcb\\xd9\\xf2\\xa8\\x16pJj\\xb0\\x98\\xde/\\x16\\x87\\xc9gj\\xd3Z\\xcd\\xbb1\\xc8\\x87\\xfex\\x8a\\x82\\xe7\\xc1\\x92\\x9eN\\x04-wUt\\xea\\xdeC\\xb7\\xc1\\xd7s\\xafa\\xed\\x1d\\xc6\\xadi\\xba\\xeb(\\xaa\\x85Dy\\xb7\\xefW5\\xea\\xd6\\x8a\\x10\\x8a\\x10\\x8a\\x10\\x8a\\x10\\x8a\\x10\\x8a\\x10\\x8a\\x10\\x8a\\x10\\x8a\\x10\\x8a\\x10\\x8a\\x10\\x8a\\x10\\xb9\\xf4\\xc38\\x1b\\xcfw\\xdaj\\x19\\xc5\\xec5S\\xc8v\\x95\\xe8g\\x9dH]D\\xd9},8f\\xbdQ\\xba\\xfbB\\xf5yG\\x07\\x87-\\xd4!Tk>\\xb2Cc\\x1e\\xdc\\xa7,}D\\x1e\\xb3\\x9e\\xe1\\xd9\\xdfV\\xc3\\x0b\\xa56\\n\\xa9flb\\xe5c\\x1aGK\\xcd\\xa4\\xaeG\\xcae\\xe8\\xe2\\\\\\xb1\\x03\\xd5\\x89\\x07\\x1c\\x0eo\\xcb<ri\\xbb\\x18\\xd8\\xa3\\xbb\\x05\\xcf\\xaaR\\xf7\\xbeY,\\xf3a\\xe8\\xaf\\xae/&\\xbeAon\\r\\xb5\\x84cd\\x01\\xb9\\xa5\\x03\\xe7v\\x83\\xc7\\x1c7\\xef\\xcf$\\xb5\\xd8\\x8c4=.t\\xa7w\\x0e\\xd4\\xd6\\x96\\x8eJ\\xbd\\x0761\\xe6\\xaa&\\xb5i\\t\\xb5\\xb2L \\xdd$\\xbf8\\xf3\\x05\\xb9\\xd6X\\xe5lM\\x15\\x98\\x8b\\xae\\xe3\\xd1o\\x0e\\xc0\\xaf\\x90\\x17\\xde\\x96\\x88Y\\xbf\\x99\\xdc{\\xd5\\xbe\\x8f\\xd5x-\\x80.:Yyn\\xce\\xff\\x00\\xa2\\xbfi\\xa5uX\\xd5Ui-a\\xc8\\xce\\xdbx\\x9f\\x80[)\\xb0\\xfaz[\\x17\\x0c\\xce\\xfa\\xd8>*e\\xc6\\x8e\\x96Q\\x87n\\x89>job;\\xdf\\x80\\xf0\\x1e\\xfa\\xc3\\x15U=9\\xbcm\\xce\\xee\\'`\\xecn\\xfe\\xff\\x00\\x05\\xbd\\xe2i\\xc5\\x9e\\xec\\xad\\xe06\\x9e\\xfd\\xdd\\xde*,z&\\x18\\x7f\\x15\\x0eOn7\\xfe\\xf3U\\xd2V\\xd4T\\xfe4\\x96\\x1c7~\\xd0\\xa7O\\x05=?\\xe0\\xc7\\xaf\\x1d\\xfe%E\\xb9\\x82s\\xc0F\\x9e9c\\xf0\\xc0\\xa9\\xc6\\xeaF\\xf4\\x8b\\x9d\\xd9a\\xeb\\x7fE\\xaf\\x94\\xacwC+{n}-\\xea\\xa9\\xaf4<\\x8d\\xeb\\xccq\\xd8\\x06\\x07\\xba\\x99\\xc1\\x89\\xd3\\xc5\\xf8p\\x8b\\xf1&\\xe7\\xd1f\\x9b\\n\\xa9\\xa9\\xd2Z\\x83n\\x00Xx\\x02/\\xde\\xaa\\'\\xd0dpo\\x853f8\\xd3\\xb5\\x9ek\\t\\xf6E\\xc4s%\\x1d\\xe1s\\xb2W\\x81\\xf6\\xc4qK\\xf4d@\\xea|A\\xdf\\xee5\\xb1\\xb8\\x84\\x12\\x8b\\x12[\\xe4\\xb0O\\xec\\xe5u?84<u|\\x96\\x93\\xaa:\\xe7\\xa3d\"9\\xac\\xe0\\xb6\\x93\\x91\\x11&\\xc1>; \\xa9\\xf1\\xf7\\xd7\\x92\\xc1-\\xb35\\xc4\\x8e\\xd4\\xbd\\x920;+\\xdb\\x94\\xf6-\\x12M\\x13j\\xc3h\\xc1\\x03\\x0cd\\x13\\x1a\\x11\\x8e\\xed\\xd5\\x84\\xca\\xe6\\xef+W&\\xd7nU\\xb7:\\x95\\xa3f\\x1b\\xeda\\xc7lcc\\xfd\\x18\\xa9\\xb2\\xaaM\\xa1\\xdf\\x15\\x17S\\xb2\\xfa\\xb5{\\xd1:\\xba\\xd6\\x9b\\xad\\xe7s\\x17\\xe6e;j?V\\xde\\xb2xo\\x1d\\xdc\\xeb\\xd7\\xcb\\x9f\\xa45\\xe2\\x17\\x8d\\x8f\\'D\\xe8\\x98\\x05R\\xadI\\x9e\\x91\\xf4 \\x92/\\x94(\\xeb\\xc7\\xeb}$\\xef\\xf0\\xfb\\xea\\x0f\\x1b\\xd2|Z\\x94>>Tm\\x1e\\x89c\\xd1\\xde\\x901\\xdd\\x84\\xcfVPT\\x8e\\xfe\"\\xa2\\xd3\\xaa[\\x84\\xcd\\x92|\\xbb\\x8a\\xd6\\xaa\\xd5\\xd5\"\\x84\"\\x84\"\\x84\"\\x84\"\\x84\"\\x84\"\\x84\"\\x84\"\\x84\"\\x84.7wI\\x12\\x96v\\x00\\x0f\\xf9\\xbb\\xb6\\xab\\x96VD\\xdc\\xcf6\\n\\xc8\\xe3t\\x8e\\xca\\xd1r\\xa2\\xc3\\xd2M\\xd6`c\\x8c\\xf0_i\\x87\\xd2\\xf9\\xa3\\xba\\xa8fy\\xb9\\xce\\xe6\\xb7\\x86\\xf3\\xdb\\xc3\\xb1Z\\xec\\x91h\\xdd]\\xc7p\\xec\\xe3\\xda\\xbb]\\xdd\\xc5n\\x9bN\\xca\\x88;~\\xc1\\xcc\\xd6\\x90\\x03F\\x8b\\x1c\\xd35\\x83<\\x85SZi9\\xef7\\xc0\\xbd\\x0c\\x1f\\x9dq\\x96\\x7f\\xd5\\xaf\\x00;\\xcd\\x17\\'b\\xc4\\xc9\\xe5\\xa8\\xd61\\x95\\xbcN\\xd3\\xd8>*\\xee\\xd6\\xcdS\\x86Ksf9\\'\\xce\\xbd\\xb2\\xd8\\xc8\\xc3U\\x16\\xb0i\\xc3\\xd3\\xc7c\\x01\\xfc4\\xbb\\xdd\\x87\\xe4\\xa3\\xe2I\\xfaDg\\x03\\xcf\\xb2\\xb5E\\x174\\xc8\\xed\\x83\\xcc\\xaa\\xa5\\x97\\x9e#n\\xd3\\xe4\\x14\\xadd\\xd3\\x91h\\xfb}\\xb6\\xe5\\xd5\\x8d3\\xbd\\x9b\\xb3\\xed&\\xa1\\x0cN\\x99\\xf6\\nr\\xca\\xd8Yr\\xb1\\x8d3s+\\xe6\\xee\\xe1\\xb3,\\x87\\x11\\xa9\\xe0\\x83\\xb4\\x0eX\\x1c\\x07x\\xabc\\x9d\\xb5\\x13\\xfb\\xb4=\\x06\\xea\\xe3\\xc4\\xf0\\xf9\\xf1U\\xc9\\x0b\\xa9\\xa0\\xf7\\x99\\xban\\xd1\\x83\\x80\\xe2~\\x1c/\\xafW\\xadS\\xd5\\xb3pzI3\\xd1\\x83\\xc3\\xe7\\x9f\\xba\\xb3\\xe3x\\xd0\\xa4\\x1c\\x8c]?O\\xe5y\\x85\\xe1\\xa6s\\xca\\xcb\\xd1\\xf5O\\x12\\xc0\\xd2\\x1e\\x86>\\xa4k\\xb9\\xdc\\x7f\\xa1;\\xfbO/\\x1e\\x1cdr6!\\xcb\\xcb\\xceq\\xd5\\xa0\\xff\\x00\\xe4\\xee\\xae\\x03~\\xdd\\x9bz\\x19\\\\\\xe9\\x0f%\\x1e\\x8d\\x1bO\\xc0|N\\xee\\xd5eih\\x91 H\\xd4*\\x8e\\x00V\\t\\xea$\\x9d\\xe6I\\r\\xc9V\\xc7\\x1bcnV\\x0b\\x05\\xd1#\\x03\\x80\\xdex\\x9e\\xda\\x83\\x9e]\\xb5H4\\x05\\xf4\\xa85\\x10T\\xae\\xa3\\xcd\\x05X\\xd7\\xabZ\\xf5Ywm\\x9e\\xdf*\\xd5\\x1c\\x96W\\xb4\\xdfz\\xa2\\xbe\\xb0ofF\\x1e8#\\xce\\x9aAU\\x18\\xe9\\xc6\\x0f\\x88^\\x98ev\\xac\\x94\\x8f\\x02\\x12\\xde\\x92k\\x88\\xf2HV_\\x9c\\x07\\xd69S\\xcaH\\xa8*\\r\\x9bv\\x9e\\x04\\xfa\\x14\\xbe\\xae\\xb7\\x15\\xa3nb\\x03\\x9a7\\x81\\xea\\x15O\\xfdL\\xf3\\x02\\x99;\\x07\\x8bs\\x8a\\xc5\\x17\\xb6\\x15-\\xe9\\xb0\\x1f\\x10\\x89\\'\\x8eM\\xcc0{j1\\xd3T\\xd2\\x9b\\xc6s\\x0e\\n\\xe9\\xf1<7\\x14nY\\xdb\\xc9\\xbfs\\xb6\\xf8\\xdbwjo\\xd4\\ry{)\\x16\\xde\\xe1\\xb6\\xad\\x89\\xc0<Ly\\xe0G\\xd0\\xed\\x1e\\xea\\xd3$M\\x9d\\x99\\xd9\\xb7\\xeb\\xcd x}$\\x9c\\x94\\x9a\\x8d\\xc4l#q\\x1dKY\\xd2\\x96\\x8c\\xa3\\xa7\\xb7l\\x1e%F\\xf5a\\xda\\x07\\n\\xe6\\xea\\xa0|\\x7f{\\x0e\\x87x\\xe3\\xdc\\x9c\\xd3L\\xc7\\xfd\\xdc\\xba\\x8d\\xc7\\x82\\xe9\\xa14\\xda\\xcf\\xd5=W\\x1c\\xb9\\x1f\\x0f\\xba\\xa5G\\\\\\xd9\\xf9\\xa7G(\\xd5Q\\x98y\\xc3P\\xad\\xebz\\xc4\\xb8\\xde[\\x89#x\\xcf\\x07R\\xa7\\xccb\\x85\\t\\x18\\x1e\\xd2\\xd3\\xbc,SV\\x89\\x17P\\xe3\\x8e\\xd8\\xaaB\\xe3\\xa8\\xcd\\xa7m\\xb8\\xad\\xc6\\xae]\\xa2(B(B(B(B(B(B(B(B(B\\x87\\xa4\\xf4\\x82\\xc0\\x9bM\\xe49\\x93Y\\xea*\\x1b\\x0339_\\x04\\x0e\\x99\\xd9Z\\xab\\xb4]\\x9bL\\xc2\\xe2}\\xe7\\xd8NJ;q\\xdbY)\\xa0t\\xce\\xe5\\xe6\\xee\\x1b\\x82\\xd5Q3bo#\\x17y\\xe2\\xa5k\\x06\\x9a\\x8e\\xd2##\\xef\\'r\\xaf64\\xc8\\x9b$\\xb5U,\\xa7fg%\\r\\x01\\xa3e\\xd2R\\xfc\\xaa\\xeb|Jz\\x91\\xf2=\\xc0|\\xde\\xde\\xda\\x80\\x19\\xb5)U4/\\xac\\x7f-7Gp\\xfa\\xfa+AU\\x00`\\x0c\\x01\\xc0U\\x89\\xf0\\x16UZ\\xd3\\xa6\\xd6\\xce\\xdd\\xe6;\\xc8\\xdc\\x8b\\xf3\\x98\\xf0\\x1e\\x1fu[\\x04FW\\x86\\x85T\\xf2\\x88\\x98\\\\VS\\xe8\\xe3Imi#,\\xcf\\x96u\\x90\\x96=\\xb8\\xcf\\x96\\xe1\\xf6SZ\\xc6Z\\x1c\\xad\\xddd\\xa6\\x8eK\\xcd\\x99\\xcb\\xee\\x92\\xd2\\x07I^\\xb4\\xa7\\xf11\\x1cF\\xbc\\xb09\\xf9\\xf1\\xf7R\\x9cN\\xa7\\xdc\\xa9\\xb96t\\xdd\\xe9\\xf5\\xa2u\\x85R\\xfb\\xedI\\x95\\xfd\\x06l\\xeb?Z\\xaf\\x1asGt\\xf3\\xdb\\xc4\\x0f\\x10\\xe5\\xbb\\x94l\\xef\\xf3\\xe1J0\\x8a\\xc1IK<\\xc4~\\x90:\\xce\\xbf\\xe5o\\xc6i\\xfd\\xe6\\xa6\\x18\\xaf\\xc4\\x9e\\xcd\\x13\\xb5\\x9d\\xb2\\xa2\\x05Q\\x80\\x06\\x069W\\'4\\xce\\x91\\xe5\\xef7\\'R\\x98\\xe5\\rhct\\x01w\\x8d\\x02\\x8c\\x01\\x81U\\xb9\\xc5\\xc6\\xe5D\\x00\\x05\\x82\\x89}\\xa5b\\x88\\x80\\xcd\\x96<\\x11Af>\\n7\\xd6\\xcaL:\\xa2\\xab\\xf0\\x9b\\xa7\\x1d\\x83\\xc5Q=TP\\xf4\\xce\\xbc7\\xf8/p-\\xe4\\x9b\\xd2\\xd0\\xa8\\xfe\\xf6EC\\xee\\x194\\xe1\\x9e\\xce\\xd8}\\xe4\\xa3\\xb8\\x13\\xf2Y\\x0e\"\\xe3\\xd1g\\x89\\xb7\\xcdK\\xe8%Q\\xf8H\\xf6<\\xc3\\x0fx\\xfbiev\\x18\\xfaQ\\x9a\\xf7o\\x15\\xaa\\n\\x91.\\x96\\xb1_)b\\xd4\\xa1\\xdc\\xc5W1\\xca\\xe69-ik\\xae\\x85\\x86\\xdf\\xa8\\xc7\\x01\\xbei\\xecn\\xe3\\xdbNi)\\xbd\\xe1\\x87\\x93\\xe9\\rm\\xc4uu\\xf5x\"J\\xc1N\\xe1\\xcatI\\xb5\\xf8\\x1e\\xbe\\xae\\xbf\\x15\\x12\\xe9+\\xc6\\x1b\\'1\\x9b\\x84\\x99\\xa6\\xec\\x826\\xd2\\xf0?\\x03]\\x9e\\x13Xfac\\xf6\\x8fE\\xc3{E\\x866\\x9aA4b\\xcdv\\xee\\x07\\xf9N\\xfa7\\xd1\\xc4W\\xb6q\\\\[Jc\\x91\\x97\\xac\\x8f\\xd6]\\xb0ppx\\xaeq\\x9e|kC\\xaa\\xdd\\x1b\\xcb\\\\\\x12\\x96\\xd2\\xb5\\xec\\x0ejE\\xd3\\xba\\x12{I:9\\xd0\\xa9\\xe4x\\x86\\x1d\\xaax\\x1a\\xd7\\x1b\\xd8\\xf1\\x99\\xab<\\x8d{l\\xd7n\\xd8\\xb6/C\\xbap\\xcfhas\\x96\\x80\\xec\\x8c\\xf3C\\xea\\xfb\\xb7\\x8fu,\\xad\\x8f+\\xee7\\xad\\xf4\\xb2fe\\xb8.\\xbar\\xdc\\xc1q\\x94\\xdd\\xed)\\x1c\\xbf\\xe1\\xae6\\xb63\\x04\\xf7n\\x9b\\xc2\\xeb)$\\x13Cgk\\xb8\\xa7-\\x1ft%\\x8d\\\\{C\\x7fq\\xe7\\xf1\\xae\\x86\\tD\\xb1\\x87\\xf1H\\xa6\\x8f\\x93\\x90\\xb3\\x82\\xed#\\x80\\t<\\x00\\xc9\\xf2\\xabU$\\xd8\\\\\\xackR\\xad\\xcc\\x97\\xb0\\xf7\\x1d\\xa3\\xe0\\x05R5+\\x91\\xc3Y\\x9a\\xa5\\xbdKg\\xab\\x97^\\x8a\\x10\\x8a\\x10\\x8a\\x10\\x8a\\x10\\x8a\\x10\\x8a\\x10\\x8a\\x10\\x8a\\x10\\xb9\\xdcN\\xa8\\xa5\\xd8\\xe0\\x01\\x93P\\x91\\xedcK\\x9d\\xb0)\\xb1\\x85\\xee\\rn\\xd2\\x95,\\x15\\xaf.\\x0b\\xbf\\xa8\\x9b\\xf1\\xc8\\x0eC\\xef\\xa4p\\x07VO\\x9d\\xfb\\x07\\xd0\\t\\xc4\\xc5\\xb4\\x90\\xe5n\\xd2\\x9b$p\\xaaX\\x9c*\\x8c\\x93\\xd8\\x05?H\\xdc\\xe0\\x05\\xca\\xc8\\xee\\'}\\'|\\x06\\xfd\\x82\\xd8Q\\xf3c\\x1cO\\x89\\x1b\\xcf\\x8dU\\xb4\\xaeQ\\xceuuH\\x1b\\xbd\\x02\\xd6\\xad\\xa0X\\xd5Q@\\n\\xa3\\x00w\\n\\xb5uLh`\\r\\x0b\\xad\\nK#\\xf4\\xb1\\xa4L\\xb7Q\\xdb\\x83\\xd5\\x8cm\\x1f\\xd2o\\xe4>5\\xbe7r\\x14\\xcf\\x9b~\\xe5\\x9e8=\\xf2\\xba*s\\xb2\\xf7=\\x9bO\\x96\\x9d\\xeb=|\\xab\\x1eD\\x1ak\\x1b\\x83\\xd8\\x1c6\\x10\\x91\\xd4F\\xe8\\xa6s\\x1d\\xa1\\x04\\x84\\xe7\\xaa\\xf0\\xe2\\x15\\xef\\xdf\\\\\\x1e?)}[\\x87\\r\\x17\\x7f\\x81D#\\xa1o]\\xca`\\xb3\\xb4\\xfc7I\\xfd\\xd8Q\\xfb\\xc4\\x9f\\xb3\\xddId\\xa8\\xff\\x00\\xa6\\xe4\\x7f\\xbb7\\x95\\x87\\xc5[$_\\xf5\\x06_\\xed\\xb7\\x99*\\xecR\\xd5\\xe2\\xaa\\xd2WR\\xbc\\xa9im\\x834\\x83i\\x98\\xf0\\x8a1\\xc5\\xdb\\xea\\x03\\xf9S\\xec\\x17\\x0bmE\\xe7\\x9f\\xf0\\xdb\\xa7\\xfd\\xc7\\x87g\\x1f\\xf2\\x96WV:2\"\\x8b\\xa4|\\x87\\x14\\xd9\\xa05r\\x1bQ\\x95\\x1br\\x9f^V\\xde\\xcc|y\\x0e\\xe1]S\\x9fq\\x94\\x0b\\x01\\xb0\\r\\x89{#\\r\\xd4\\xeaw\\x95sU\\xab\\x15^\\x9d\\x9cl\\x84\\xe6N|\\x85\"\\xc7*\\x1a#\\x11o:\\xad\\xb4l9\\xb3*J\\xe5\\xd3\\x15\\xcan\\xceu6\\x83\\xb5I\\xa7[%\\x9dj\\xb7\\ro(<\\x90\\xb7\\x9a\\xef\\x1fU:\\xc1\\xe51\\xd6FG\\xea\\x03\\xc7O\\x8a\\x8d{\\x04\\x94\\x92\\x03\\xc0\\x9f\\r~\\t+Di\\xb21\\x1c\\x9c8+vw\\x1e\\xea\\xea\\xf1< :\\xf3C\\xb7i\\x1c{\\x12\\xbc\\x17\\x1c,-\\x82}\\x9b\\x01\\xe1\\xda\\xba\\xeb\\x02\\xfe\\x0c\\xf7\\x11Xpg\\x11R\\x07\\x10S\\xefh\\xda\\x1d\\x878\\x9d\\xc5\\xa4x\\xdb\\xe2\\xb4\\xff\\x00C/\\x9d\\x1f\\x8d\\xfb\\xa5\\x7f\\xff\\x00\\x9e\\x14\\xde\\xb7\\xf1{\\x97\\x1bG\\xf8i\\xa7X4\\x1c7\\x90\\xb43.A\\xe0y\\xa9\\xe4T\\xf25\\x9a9\\x1d\\x1b\\xae\\xd5{\\xd8\\x1e,Va\\xe8\\xdfG\\xcba\\xa5\\xa5\\xb4\\x93\\x89\\x8c\\xef\\x1c\\x19F\\n\\xb0\\xf1\\xf8\\x10G*aT\\xe1$!\\xe1c\\xa7i\\x8eR\\xd2\\x9eu\\xd17\\xc6y\\xef\\x1fUr8\\xb8\\xe8\\x9e\\xd5\\xd3\\xe1gG\\x0e\\xc5;T\\x8f\\xe0?h\\xe3\\xe1Z\\xb0\\xbf\\xc0\\xef+6#\\xf8\\xdd\\xcb\\xe6\\xb9\\xdft6r\\x9el6\\x17\\xc5\\xf7}Y>U\\xbd\\xc6\\xc1$\\xaf\\x97\\x93\\xa7q\\xe3\\xa7\\x8aY\\xf4[\\xa3?\\x19pG\\xd0_\\xad\\x8f\\xd4*,\\x1b\\xd2\\xdc\\x1a\\r\\x0c\\xa7\\xb0-\\x06\\xacO\\x91B\\x11B\\x11B\\x11B\\x11B\\x11B\\x11B\\x11B\\x12\\xb6\\xb8^\\xef\\x11\\x0e]f\\xfb)&+>\\xa2!\\xdaS\\x8c2\\x1d\\x0c\\x87\\xb0+]\\\\\\xb4\\xe8\\xe0^\\xd7\\xeb\\x1f>\\x1f\\x0cV\\xec>.N\\x01\\xc4\\xea\\xb1\\xd7K\\x9ec\\xc0h\\xa1k\\xe5\\xc9\\x8e\\xcaLql/\\xbc\\xef\\xf8f\\xb5\\xbbbI\\x89?%;\\xba\\xf4J\\xde\\x8a\\xed\\x81\\x96Y\\x0f\\xb2\\xa0\\x0e\\xed\\xa3\\xf7\\n\\x8b6\\xa5\\x98+.\\xf79^\\xeb\\x06\\xb1\\xad\\xb5\\xfd\\xbaH\\xd8\\x89\\xe3`\\xc7\\x92\\xb3\\x11\\x82{\\xb7c\\xce\\xb7\\xc3\\x01\\x92\\x17\\x11\\xb56\\x9aq\\x1c\\xcd\\x07aM\\x80\\xe7x\\xac\\x8bb\\xc2\\xf5\\xcc\\xff\\x00\\xf7;\\x8c\\xfc\\xe1\\x8f\\xdd_\\xe7[+\\x018x\\xb2\\x9e\\x02\\xe6\\x8c_]\\xe0\\xdb\\xb6\\xc1C}\\x1c\\xb2\\xef\\xe0\\xdd\\xbf}%\\xa4\\xc5e\\xa5\\x19v\\xb7\\x87\\xc9t\\x98\\xbe\\x03\\x05k\\xb9N\\x8b\\xf8\\x8d\\xfd\\xa3\\xe2\\xad5y\\x8c\\x7f\\x82\\x93q\\x07\\xaay0\\xee=\\xbd\\xd5F0\\xd6T\\x9fz\\x87PG8o\\x07\\xad/\\xc2\\xf9JV\\x9aI\\xc5\\x88<\\xd3\\xb8\\x8e\\xaf\\x92n\\xb3\\xae^D\\xc2EaY\\xd6e\\xd7T\\xec\\xc2Ou+cjC\\x1e\\xc9\\xfa\\n\\xb8\\xc0\\xfd\\xad\\xac\\xf9We\\x85VD\\xeaFB\\r\\x8boq\\xdaot\\x9ax\\x1c\\xd9\\xdf!\\xdfkx&w\\x95G\\x12\\x07\\x9dot\\xd1\\xb0]\\xce\\x01@1\\xc7`U\\xd7z\\\\\\r\\xc9\\xbc\\xf6\\xf2\\x1f}&\\xab\\xc6\\x98\\xd1\\x96\\x1dO\\x1d\\xdf\\xca\\xd7\\x15!:\\xbdSH\\xe5\\x8eI\\xc95\\xcd=\\xee{\\x8b\\x9cnJ`\\x1a\\x1a,\\x17\\x9a\\x82\\xf5Th\\xbb\\xbe\\x99\\xe7\\x90z\\x81\\x84j{v=c\\xfb\\xc7\\x1eT\\xd2\\xb6\\x0fw\\x8e(\\xcfH\\x8c\\xc7\\xbfg\\x92\\xcdK\\'*\\xf7\\xbcl\\xbd\\x87v\\xdf5S\\xaeW;\\x16\\xd2v\\xb0\\xd8\\x1f\\xb5\\xb8\\xfc3\\xee\\xad\\x98\\x14\\x06Z\\xd6uj{\\xbf\\x9b+19\\xb9*7\\x9e:x\\xff\\x00\\x17Y\\xf5\\xc6\\x89u\\xb6\\x8e\\xe4\\xfa\\xb2; \\xf1\\\\\\x7f?u}\\x18H\\x0b\\xcb8. \\xc6C\\x03\\xd7k\\xdb\\x9d\\xabt\\xcf\\x12q\\xfb\\xbf\\xf0RZZP\\xccA\\xf6\\xd8\\x05\\xfc~\\x8a\\xea\\xeb\\xab\\x8c\\x98,A\\xc7W\\x1bw6\\xff\\x00\\xc2\\xd9}\\x12\\xda\\x98\\xf4td\\xfbl\\xef\\xe4N>\\xca\\x9da\\xbc\\xa5)\\xa5\\x16\\x88\\'*\\xca\\xb4\\xaak\\xed\\x12\\x1a\\xf6\\xde\\xe4\\x0e\\xb2,\\x88\\xdd\\xea\\xc3#>\\x04\\x7f\\x11\\xab\\x1a\\xfeaj\\x81o<9Uk\\x8c\\xd9\\x91P{#\\'\\xc4\\xff\\x00*\\xe7qg\\xdd\\xe1\\xbc\\x02}\\x862\\xcc.\\xe2\\x98t5\\xafE\\n)\\xe3\\x8c\\x9f\\x13\\xbf\\xf9ySZH\\xb9(Z\\xd3\\xb5,\\xaa\\x97\\x94\\x94\\xb8$}u\\x9d\\xef.\\xa3\\xb3\\x87~\\xc9\\xeb\\x1eA\\x8f\\x12{\\x94U\\xae\\xd4\\xd9s\\x18\\x83\\x9dS;`\\x8fv\\xd4\\xf7\\xa3,V\\x08\\x92$\\xf5Pc\\xc7\\xb4\\x9e\\xf2r|\\xea`Y:\\x86&\\xc4\\xc0\\xc6\\xec\\nUz\\xadE\\x08E\\x08E\\x08E\\x08E\\x08E\\x08E\\x08A\\xa1\\x0b;\\xbf\\x93\\xa5\\x99\\x8f\\xcel|q\\\\\\x94\\xee\\xe5f\\'\\x89\\xfe\\x17O\\x0by8\\x80\\xe0\\x16\\x86\\xa3\\x03\\x03\\x80\\xae\\xb0\\x0b\\x0b\\x05\\xcc\\x93}U\\x16\\xbcY\\x99l\\xe5\\x03yP\\x1f\\xf7x\\xfc3^;b\\xc1\\x88\\xc7\\x9e\\x9d\\xc0n\\xd5*\\xfa*\\xb8\\x02I\\x93\\x9b(a\\xfb\\'\\xf9\\xd4Y\\xb5,\\xc1_\\xcesT?L\\xb6\\x87\\xa4\\x82\\\\uJ\\x95> \\xe7\\xea\\xa7Xk\\xb4sV\\x9cM\\xa6\\xedrZ\\xd0Z\\xedwj\\x02+\\xed\\xa0\\xe0\\xaf\\xbf\\x03\\xb0\\x1e\"\\xb4\\xcbI\\x14\\x9a\\xefY\\xa2\\xac\\x96-7u\\xa8\\x1a\\xc5\\xa6\\xcd\\xd4\\xfd>\\xc0F \\x02\\x01$\\x129\\xef\\xaf[L\\xd1\\x11\\x89\\xda\\x82\\xbd\\xf7\\xd7\\xb6v\\xce\\xcd\\x1c\\x14\\x9d\\x1d|\\xa7\\x198=\\x87\\xec\\xaeB\\xbf\\x0b\\x9a\\x02H\\x19\\x9b\\xc4|W\\xd1\\xf0\\xfc~\\x9a\\xb5\\x808\\x86\\xbfx?\\x03\\xbf\\xd50\\xdb`\\xf1\\xdfH\\\\KN\\x85n\\x95\\x81\\xc3P\\xae\\xec\\xda\\xb1H\\xb1\\xbd\\xaa\\xcdMe+)_k\\xc5\\xe2\\r\\x07]\\xa8^%\\x94(,\\xc4\\x008\\x93Sc\\x1c\\xf7\\x06\\xb4\\\\\\x95\\xe3\\x9c\\x1a.v/\\x10;6\\xf26G x\\xf8\\x9e\\xcf\\n\\x94\\xadky\\xa0\\xdc\\xef;\\xbb\\xbej,$\\xeatK\\x9a\\xf1\\xac=\\x04}\\x14g\\xf0\\xae9{\\ny\\xf8\\x9e^\\xfa\\x7f\\xec\\xf6\\x12j\\xa5\\xe5\\xa4\\x1c\\xc6\\xf9\\x9e\\x1d\\x83\\x7f\\x82Y\\x8aWr,\\xe4\\xd8y\\xc7\\xc8+=\\x0bl!\\xb6\\x89\\x00\\xc7P\\x13\\xe2FNin#9\\x9e\\xb2G\\x9e$w\\r\\x13\\n\\x18\\x84p\\xb5\\xa3\\x82E\\xd6\\xfb\\xc6\\xb9\\xb8Kx\\xba\\xd8`\\xa0\\x0fi\\xdbw\\xc3\\x87\\xbe\\xbb?g\\xa8}\\xde\\x03<\\x9a\\x17y7\\xf9\\xdb\\xe0\\x91cU|\\xb4\\xa2\\x16l\\x1e\\xbf\\xc2h\\xf4\\x9f\\xa2\\xd6\\xd7F\\xda@=\\x89\\x00\\xc8\\xe6\\xdb\\r\\xb4|\\xcei\\x95#\\xcb\\xe6s\\x96J\\xb6d\\x85\\xadY\\xa5\\xac/;\\xc5\\x02\\x0c\\xb30U\\x1d\\xee\\xdf\\xcf\\xe1[\\x03\\x04n|\\x87\\x7f\\xc0,\\xef\\x99\\xd2\\xc7\\x1c#co\\xe2M\\xd7\\xe9\\x8d\\x17d\\xb0C\\x1c+\\xea\\xc6\\xa1G~\\x07\\x1f>4\\x8d\\xee\\xcc\\xe2Jl\\xd6\\xe5\\x00)U\\x15%\\xca\\xea\\xe1cB\\xecp\\x00\\xa8I#cis\\xb6\\x058\\xe3285\\xa9oB\\xd8\\xb4\\xf2\\x9b\\x89\\x07W9Py\\x9e^B\\x93\\xd1\\xc0\\xe9\\xe5\\xe5\\xe4\\xd9\\xbb\\xeb\\xa95\\xaa\\x99\\xb0\\xc7\\xc8\\xb3n\\xf5/Z\\xb4\\xd9\\x81\\x04q\\r\\xab\\x89wF\\xa3y\\xdf\\xed\\x1e\\xear\\xe3e\\xcc\\xd6\\xd5\\x18\\x9b\\x95\\x9a\\xbc\\xec\\x0b\\xce\\xa9j\\xff\\x00\\xc9P\\xb3\\xf5\\xa6\\x93{\\xb7gp45\\xb6E\\r\\' \\xdb\\xbbW\\x1d\\xa9\\x82\\xa4\\xb7\"\\x84\"\\x84\"\\x84\"\\x84\"\\x84\"\\x84\"\\x84\"\\x84/2\\xfa\\xa7\\xc0\\xd7\\x8e\\xd8W\\xad\\xda\\x16m\\xb7\\x86\\xcfa\\xcf\\xb8\\xd7\\x1d{:\\xfdk\\xab\\xb5\\xdbe\\xa5\\x03\\x9d\\xf5\\xd9\\x03u\\xc9\\x91d\\x11B\\x16w\\xa54\\x14\\x9a>\\xe4][\\xa9hA\\xcb(\\xe2\\xa0\\xf1^\\xf5\\xec?\\xf9\\xaa\\xc8\\xb1\\xb8\\\\\\xfc\\xb4\\x8f\\xa4\\x9b\\x96\\x88]\\xbc8&m\\'i\\x06\\x93\\xb4*\\xac\\x08a\\x95nh\\xc3\\x86G\\xc0\\x8a\\xd3\\x04\\xc67\\x07\\x04\\xd8\\xf2uQsN\\x85bz[D\\xcbk!\\x8at*y\\x1eL;T\\xf3\\x14\\xc2f\\xc8\\xff\\x00\\xbe\\xa5v\\xbb\\xc7\\x1e\\xee*\\xcc6\\xa2\\x95\\x83\\xdc\\xf1&]\\x9f\\x95\\xdb\\xdb\\xde5\\xcb}z\\x8e\\xedTC\\x08\\xac\\x1fk\\xce\\xc3i\\x1a/\\xde\\x17D}\\x8f\\xa1\\x9cg\\x82Sc\\xd8\\xef\\x92\\x97m`\\x87\\x895\\x9e\\\\v{sZ\\x07\\x9a\\x19\\xecu+:os\\xbc\\x07\\xcd\\\\YX \\xe0\\\\x;\\x0f\\xaa\\x94\\xcf\\x89\\xcf\\'L4\\xf6\\xb4\\x1fU\\xa5\\x98%<:F^;\\x1e\\xe1\\xe8\\xaf\\xac\\xa3U\\xe6\\xdf\\xb5#\\xb0\\xf73\\x11Je\\x9aI\\r\\xac;\\x9a\\xd1\\xff\\x00\\x88\\nF\\x95\\x91\\xebs\\xde\\xe7\\x1fRU\\x8ai\\x88\\xc1\\xd9\\x07m\\xbej\\r\\xa3\\xe7\\x8e\\x1euW\\xd9\\xb3\\x96\\xe7p\\xca\\xde.\\xd3\\xd5b\\x92\\xa6,\\xd9Znx\\rT\\xd8\\x8c\\x8d\\xbc\\x80\\x83\\xb3\\x8by\\xf2\\x1f\\x1f*\\xca\\xf1\\x134i\\xccx\\xec\\x1f3\\xe5\\xde\\x86\\xe7v\\xdd=~^\\xab\\x8d\\xfe\\x92Hp\\xa7,\\xe7\\xd5E\\xde\\xcd\\xe5\\xf6\\x9a\\xb6\\x96\\x86Z\\x8b\\xb8h\\xd1\\xb5\\xc7@>\\xb8\\x05\\t\\xaa\\x19\\x16\\x87Rv\\x01\\xb4\\xaf\\x16\\xd6\\x8e\\xec$\\x9f\\x1bCzF7\\xac}\\xff\\x00I\\xfe\\x97.X\\xdf\\x99M<q\\xb4\\xc5O\\xb3{\\xb7\\xbb\\xe4\\xde\\xad\\xfb\\xef\\xa5\\xa0\\xc8\\x9c\\xf7\\x07\\xcb\\xb7p\\xdc>g\\xaf\\xc1A\\xd6}dKU\\xd9^\\xb4\\xa4uW\\xb3\\xbd\\xabn\\x0f\\x82\\xc9\\\\\\xec\\xce\\xd1\\x83i\\xe3\\xd4\\x15\\x15\\xf8\\x83)\\x9ba\\xab\\xb7\\x0f\\x9a\\xcf4=\\xb3\\xdd\\xdd(rIf\\xdas\\xdc7\\x9f\\xbb\\xccWw_4x}\\x13\\x8b\\x05\\xac,\\xd1\\xd6t\\x1f2\\xb9\\xaaH\\xdfWR\\x01\\xden{\\x13\\x9e\\xb8\\xeb\\x08\\x81z4#\\xa4a\\xcb\\xd9\\x1d\\xbfuq\\xf8\\x16\\x10j\\x9f\\xca\\xc89\\x83\\xcc\\xfdm].\\'\\x88\\nfdgH\\xf9)\\xfe\\x8a5D\\xaf\\xf5\\xd9\\xc7X\\x83\\xd0\\xa9\\xe2\\x01\\xe2\\xe7\\xbc\\x8c\\x81\\xdcOh\\xae\\xbe\\xb2\\xa0~\\x1b{\\xd2*8\\x08\\xfb\\xc7mU\\xfe\\x9bt\\x80ia\\x80\\x1fQK\\xb7\\x8bn_\\x80j\\x9e\\x1e\\xcd\\x0b\\x94+\\xdf\\xa8j\\x93\\xe8\\x7fUH?.\\x94r\"\\x10{\\xf73\\xfb\\xb2\\xa3\\xb8\\x9e\\xea\\x8dt\\xff\\x00\\xfd\\xb1\\xde\\xa5E\\x0f\\xe7=\\xcbV\\xa5\\xa9\\x8a\\xe7<\\xca\\x83i\\x8e\\x07\\xfc\\xe09\\x9a\\x8b\\xde\\xd6\\x0b\\xb9I\\x8c/6\\n\\xb1\\xac\\xde\\xe1\\x83J\\n\\xc47\\xac|\\xdb\\xbd\\xfe\\xea\\xc4auC\\xaf&\\x8d\\x1b\\x07\\x1e\\xdf\\x92\\xd8%l\\r\\xb4z\\xb8\\xed<;\\x17\\xbd#\\xa4\\xba?\\xc1B\\x9d$\\xc4nA\\xb9Tv\\xb9\\xf6W\\xe2kn\\xcd\\x02S<\\xe4\\x1c\\xac\\x17w\\xd6\\xd5\\xcfCh1\\x134\\xd2\\xb7Kp\\xfe\\xb3\\x9e_E\\x07\\xb2\\xb4\\x01e\\nzQ\\x1b\\x8c\\x8f7q\\xdf\\xf2W\\x15%\\xad\\x14!\\x14!\\x14!\\x14!\\x14!\\x14!\\x14!\\x14!\\x14!\\x14!g\\x9aZ\\xd8\\xc73\\xaf~G\\x81\\xaeN\\xaa#\\x1c\\xaej\\xe9\\xe9\\xa4\\xe5\"\\x0eM\\x9a\\xb5~$\\x88)=d\\x18=\\xe3\\x91\\xf7S\\xdc:\\xa0I\\x10i\\xda4I\\xab\\xa01\\xc9\\x98l*\\xcey6T\\xb0R\\xd8\\xdf\\x81\\xc4\\xf8w\\xd3\\x00.l\\xb0\\x13au[i\\xac\\x96\\x92\\xee\\x13\\xc6\\x0f\\x02\\xaev\\x18\\x1e`\\xab`\\xe6\\xadu<\\x8d\\xda\\xd5Sj\"v\\xf5\\xf0[\\xda\\xab\\x97\\x8eD\\x8d\\x8f\\x12\\x8e\\xa0\\x1f\\xd2\\\\\\xe0\\xd5\\\\\\x9b\\xb8(rq\\x07fi\\xb1\\xeaQ4\\xcd\\xfe\\x8fx\\xf6.f\\x81\\xc7{)#\\xc0.\\xf1W\\xc5\\x1c\\xed7`(\\x91\\xf0\\x96\\xd9\\xe4\\x15\\x94k\\x1d\\xbe\\x8fBM\\xa4\\xf21\\xf9\\xa5r\\xbeLp}\\xe0\\xd3FF\\xf9E\\xa6`\\xf8\\xa5\\xe2\\xab\\xdd\\x8d\\xe9\\xa4p=[\\x15\\x12]0\\xe0j\\x0f\\xc2\\xa9]\\xf9V\\xa6\\xfbK\\x88\\x8d\\xb2_\\xb4\\x05\"\\x1b\\xb9\\xdb\\xd4\\'\\xcb\\xef5\\x96Z<6\\rd\\x03\\xbf\\xe5\\xb5h\\x87\\x10\\xc6k?\\n\\xe7\\xac\\x0b\\x0f\\x13\\xa2\\xb9\\xd1\\xba4\\xb1\\xcc\\xee[\\xe8\\xe4\\xe3\\xcf\\xb6\\x91\\xd6\\xe2\\xb1\\xb4d\\xa3`o\\xf7X_\\xb9:\\xa4\\xc1f<\\xfa\\xd7\\x97\\x7fm\\xcd\\xbb\\xf8\\xab\\xf5\\xd2\\x10\\xdb\\xae\\tT\\x1d\\x83\\x8f\\xb8o\\xa4m\\xa4\\xab\\xae}\\xc0.\\xeb;<v-\\x93\\xcbKF\\xdb\\x12\\x1b\\xd5\\xbf\\xc1U]\\xeb\\x84\\x92\\xb0\\x8a\\xd9\\x08,p\\x18\\xef>C\\x97\\xf2\\xa7\\x94\\xfe\\xcd\\xc3N\\xc3=k\\xae\\x06\\xb6\\x1b<w\\xaev|a\\xf3\\xbcEJ\\xddN\\xfd\\xe9\\x97C\\xe8\\xd4\\x80\\x17c\\xb5!\\x19y\\x18\\xe4\\xf9\\x1eB\\xb9\\xca\\xfa\\xf9*\\x88cFV\\x0e\\x8bG\\xd6\\xa57\\xa7\\xa3l\\x033\\x8d\\xdcv\\x93\\xf5\\xb1S\\xe9\\xbdm%\\xba\\x0bE2J\\xc7d0\\x19\\xdf\\xd8\\xa3\\xda?\\ns\\x85\\xfb6\\xe7\\x015_5\\xbc7\\xf7\\xf0\\xf5Kkqp\\x0f\\'\\x06\\xa7\\x8f\\xc9V\\xe9}\\x16,\"\\xcc\\xc7\\xa4\\xbe\\xb8\\x1b\\x97\\xd6\\xe8\\x94\\xf1=\\xeex\\x0f\\x85u\\xf19\\xae\\xd1\\x83,m\\xee\\xfa\\t,\\x8d,\\xd5\\xda\\xbd\\xca%\\xbd\\xd2\\xe8\\xf8H\\x18k\\x99\\x06\\xf1\\xc7\\xa3\\x1c\\x81\\xef\\xe7\\x8f\\xba\\x92\\xcb\\x03\\xf1\\x8a\\x80N\\x903g\\xf7\\x1e\\xaf\\x9ae\\x1c\\x8d\\xc3a\\xb6\\xd9]\\xe4:\\xfeJ\\xfbPu)\\xae_\\xe5w\\x80\\xec\\x93\\xb4\\xa8\\xdc\\\\\\xf2f\\x1f7\\xb3\\xb6\\x9aM3!`\\x86\\x1d\\x00\\xd3\\xb1c\\x82\\x07J\\xeeV]\\xebU\\xbc\\xbaH\"i\\x1c\\x85H\\xd4\\x92{\\x00\\x1f\\xf3u/kK\\x8d\\x86\\xd4\\xc1\\xce\\r\\x17+\"\\xd5\\xdd^\\x93K\\xdd\\xbd\\xe5\\xc2\\x95\\xb7/\\x91\\x9fh\\r\\xc1\\x17\\xb8\\x002|i\\xa4\\xb2\\x8ax\\xc4m\\xda\\x96\\xc5\\x11\\x9eC#\\xb6-\\x85UcP\\x06\\x15F\\x00\\xe4\\x07 )I;\\xcah\\xd6\\xee\\x0b\\xa5\\x08\\\\]T\\x1d\\xa3\\xbc\\xf2\\xdd\\x9fp\\xe5Q\\xc8/r\\xbd2XYr\\x95$\\x93vz5\\xee\\xc1c\\xe7\\xc1~5\\xea\\xa4\\x87\\xbb\\xa8y\\xae\\xb6\\xb6\\xa9\\x18\\xc2\\x0cv\\xf6\\x93\\xdaO3^\\xa91\\x8d`\\xb0]\\xa8SE\\x08E\\x08E\\x08E\\x08E\\x08E\\x08E\\x08E\\x08E\\x08E\\x08E\\x08T\\xfa\\xc3\\xa2ze\\xda_]xw\\x8e\\xca__I\\xcb73zAn\\xa2\\xaa\\xe4\\x9d\\x95\\xdb\\nQ\\xb6\\xb8x_ir\\xac8\\x83\\xf5\\x11Hc\\x91\\xf0>\\xe3B\\x13\\xb9#d\\xcc\\xb1\\xd4\\x14\\xe3\\xa2\\xf4\\xe4s\\x00\\t\\xd9\\x7f\\x9a~\\xc3\\xce\\xba\\nj\\xe8\\xe6\\x16:\\x1e\\t\\x15E\\x14\\x91j5\\n.\\xb0\\xea\\x85\\xad\\xe7ZD\\xd9\\x93\\xf3\\x89\\xb9\\xbfk\\x93y\\xfc)\\xbc5RE\\xa0:pJ\\xa7\\xa4\\x8e]H\\xd7\\x8aD\\xd2^\\x8bg\\\\\\x98eI\\x07 \\xddS\\xf6\\x8a`\\xccI\\x87\\xa4,\\x96\\xc9\\x86<t\\r\\xd5\\r\\xc6\\xa3\\xdf!\\xdfn\\xcd\\xfa$\\x1a\\xbb\\xde\\xe2p\\xd1\\xd6\\xed\\n\\xb6\\xd1\\xbd\\xae\\xe7\\xb0\\x91\\xd4m\\xf0*\\x14\\x9a\\xbbt\\xbcm\\xa5\\xf7\\x1f\\xba\\xa8s\\xa4wF`?\\xda>$\\xa6Q>\\x8a>\\x9d!wl\\x87\\xe0\\x02\\xfb\\x16\\x82\\xb9\\xce\\xebi\\t\\xfd\\x13\\xf7VI)\\\\\\xfe\\x9dA\\xfa\\xefMa\\xc6\\xa9\\xa1\\xfc*\\x16\\x83\\xc6\\xf7>%\\xa4\\xa9\\xf0\\xe8-!\\xec\\xda\\xb8\\x1d\\xac?\\x9dg\\x18U\\x1f\\xe7\\x90\\x9e\\xcf\\xa2\\xac\\x97\\xdaj\\xf7\\xfe\\x1c-\\x1d\\xb7?\\x10\\xa9\\xaf\\xae\\xe6V(\\xcf\\xbcq\\xd8#\\xdd\\x91L`\\xc2\\xe8\\xd83\\x06_\\xb7_]\\x17?U\\x8dW\\xcar\\xbaK\\x7f\\xdb\\xa7\\xa6\\xab\\xe5\\x96\\x8ayNOTs&\\xa1Y\\x8bS\\xd3\\x0c\\xad\\xe7;\\x80VQ`uU\\\\\\xf7s[\\xc4\\xab\\xd8/\\xad\\xac\\xd4\\x84\\xeb\\xc9\\xcc\\xf3>\\'\\xd9\\x1d\\xd5\\xcf\\xbe\\x92\\xbf\\x15xt\\xbc\\xd6n\\xe1\\xdc7\\x9e\\xb3\\xe4\\x9c\\x99\\xf0\\xfc)\\xa5\\xb1\\xf3\\x9f\\xbf\\x8fy\\xd8\\x07W\\xaa\\xebc\\xa3\\xaf\\xf4\\xa1\\xc0\\x1d\\x1c\\x1c\\xc9\\xc8_\\xbd\\xcd8\\xa6\\xa0\\xa3\\xc3\\x85\\xc0\\xcc\\xfe\\'ow\\x04\\x9ej\\xaa\\xaa\\xf3\\xaf5\\xbc7\\x7f)\\xa6\\xe0Yh(\\xba\\x80Kv\\xeb\\x80O\\xac\\x7f\\xd8\\x99\\xe48\\xe3\\x9dZ9Z\\xb7k\\xa3W\\x87\\x92\\xa4n\\x9a\\xb9f\\xf1_O<\\xe5\\xd44\\xb72\\x1f[\\x19#?0p\\x1d\\x9d\\xd5\\xaajf=\\x99\\x1f\\xa3\\x06\\xee=\\xbd][\\xf7\\xac\\x90\\xd49\\xae\\xcc\\xc1w\\x9d\\xfc;:\\xfa\\xf7-\\x17S\\xbd\\x1c\\x04\"{\\xdf\\xc2I\\xc4Fw\\xa8=\\xae}\\xa3\\xdd\\xc3\\xc6\\xb2MX-\\x92!a\\xf5\\xb3\\x82\\xd7\\r\\x1e\\xb9\\xe5\\xd4\\xfdmS/\\xf4\\xe2Ey\\xb4\\x18\\x87v1\\xa0\\'\\x08\\xcb\\x16\\x01V\\x1c\\x01.\\xcd\\x86\\xed\\x15\\x82:w\\xc8\\xd7J\\xcd\\xc9\\xec\\xb5QB#\\xa5\\x97c\\x85\\xef\\xc0\\x9d\\x9eV\\xd1_\\xddY\\xc5\\xa4#@\\xe5\\x8cJ\\xd9x\\xbd]\\xa7^\\x0b/2\\x01\\xdf\\xb3\\xc0\\x9c\\x1d\\xf58f\\xcb\\xabv\\xfa,u4\\xa4;+\\xf6m\\xd3a\\xfe\\x14\\x8b\\xed)\\x15\\xba\\xec(\\x19Q\\xb9\\x17\\n\\x15G\\xce<\\x11G}V\\\\I\\xb0\\xd4\\xab\\xa2\\xa7\\xbbs\\xb8\\xe5h\\xde~\\x1cRU\\xf6\\xb3#\\xc5%\\xd3\\xb3I\\xd1H\\x89\\x16\\xc8\\x1d\\x1a\\xc8r\\xc4\\xc6\\x8c0\\xec\\xaa3\\xb6\\xdd\\xbb\\x80\\xe7\\xa5\\xb8{\\xdc\\xe0\\x1elv\\xf6\\x7f*\\xa7c\\x11B\\xd3\\xc8\\xb2\\xec\\xd8N\\xc2\\xee\\xab\\x8d\\x83\\xa8m\\xdfuw\\xaa\\x1aVk\\x96GiX\\xa3#1VH\\xc7\\xb5\\xb2\\xa7*\\xa3\\x89\\r\\xee\\xaa%\\x88\\xc5.L\\xd7Z\\x1b,SR\\xf2\\xa2<\\xa4\\x9b\\rI\\xed\\xdaU\\xee\\x9f\\xbah\\xe0c\\x19\\xc4\\x8cV8\\xce3\\x87\\x91\\x82)\\xc7<\\x13\\x9f*\\xaeBCtE\\x1cM\\x92`\\x1f\\xd1\\x17\\'\\xb0\\x0b\\x9fK$\\xad\\x0f\\xadR\\\\K*-\\xc4\\xa1\"Wb\\xe68pUx\\x1cl\\xf3\\xad\\x92\\xd0>6\\x82_\\xa9\\xdde\\x92,V\\x9eG\\x10 \\x16\\x1b\\xf3;\\xe6\\xafuWY\\xd6uP\\xd2mm\\x1c+\\x90\\x14\\xe7\\x9a8\\x1b\\x84\\x83\\xbbq\\x1b\\xc5g\\x967\\xc2\\xfc\\x92w\\x1e+CLUQr\\xd0\\x0b[\\xa4\\xdd\\xa4u\\xf6&Y\\xe6TR\\xccB\\xa8\\xe2I\\xc0\\xa8\\x92\\x06\\xd5S\\x18\\xe7\\x9c\\xad\\x17)SK\\xeb_]\"\\x8d\\xba3#*\\xa1\\xd9\\r#\\x968\\x1b(w*g\\x8b7\\x90\\xa9\\xc7\\x0c\\x92\\x82\\xe6\\xe8\\xd1\\xbf\\xe4\\xad\\x91\\xf4\\xf4\\xa4\\ty\\xef?\\x94\\x1d\\x07i\\xf8\\x0f\\x1d\\xc9{H\\xeb\\xac\\xb1\\xcf$\\t,\\xf2\\x18\\xd8\\xaeV8w\\x95\\xdcp63\\xb8\\xe7\\xddZ\\x99\\x87=\\xcc\\x0f2Z\\xfdAe~/N\\x1eX)\\xefo\\xeew\\xcds:\\xebu\\xd9u\\xfe\\x0c_\\xec\\xaf~\\xce?\\xea\\x8f%\\xe7\\xda\\xf1\\x7f\\xf8\\xdf\\xff\\x00NV\\x1a\\x03_\\x0c\\x8f\\xb3\\xb6\\xceq\\x92\\x92F\\xaa\\xc7\\x1cz6C\\x82@\\xf6J\\x8c\\xe3\\x8dU=\\x14\\xd07=\\xf3\\x05u=u%[\\xf90\\xc2\\xc7\\x1d\\x9a\\xdcw\\xdf^\\xfb\\xad\\x029\\x94\\xa8pz\\xa4g=\\xc4f\\xb3_K\\xa0\\xb0\\x87e\\xde\\x90\\xb5\\x93^:\\'\\x04;*\\x9fQP!f_\\xce9u;*N\\xe5\\x03y\\x00\\x93\\xc4\\n\\xbe\\x9a\\x96J\\x8b\\xb8\\x1b\\x0fU*\\xca\\xa8(m\\x1b\\x99\\x9d\\xfb\\xf5 \\x0e\\xad\\x08\\xd7\\x8f\\x86\\xe5c\\xa0\\xef\\xeenz2\\xb2\\xc8\\xa0\\xe1\\xdfia8C\\xc0n\\x8cu\\x9b\\xe0*\\x89\\xa3,\\x93 u\\xed\\xb5i\\x86X_O\\xca\\xbe /\\xd1\\x17w\\x8e\\xdd\\x81G\\xd7-d{wr%\\x91\\x11\\x0cq\\xec\\xc6\"%\\xa4egbL\\x88\\xdb\\x82t|>uYO\\x03\\xaa$-k\\xac\\x00UOQ\\r\\x1d3$|a\\xeeq;K\\x86\\x83A\\xb0\\x8d\\xe0\\xab\\rP\\xbd\\x9ac\\xb6\\xf2\\xc8\\xc8cV\\xd9u\\x88`\\xb1<\\xe3E\\xe4\\x06\\xee\\xfa\\xad\\xf1\\x98\\xe5,\\xcd{)\\xbeH\\xa5\\xa6d\\x8d\\x8c4\\x92v\\x17\\x1d;\\xc9M\\x15\\xea\\xc8\\x8a\\x10\\x8a\\x10\\xa1_\\xe8\\xb8\\xa6\\xf5\\xd7\\x7f\\xce\\x1b\\x8f\\xbe\\xb3\\xcfK\\x14\\xdd!\\xaf\\x15|52E\\xd1*\\x92}S\\xf9\\x92~\\xf0\\xfbE,~\\x11\\xfa\\x1d\\xe2\\x983\\x14\\xfdM\\xf0]\\xad\\xf4m\\xdc~\\xac\\xcaGa\\xc9\\xfb*\\xd8\\xe9\\xab#\\xe8\\xbcw\\xa8>\\xa2\\x95\\xfd&+ka?\\xb6c\\xf2\\x07\\xef\\xad\\xd1\\x89\\xff\\x009\\x0b\\x14\\x86\\x1f\\xc9u2\\xb4*\\x17\\xc2hBX\\xd3\\xda\\xf7im\\x95\\x0f\\xd2\\xbf\\xcd\\x8f~\\xfe\\xf6\\xe0+\\\\TrI\\xad\\xac:\\xd6I\\xabb\\x8fK\\xdc\\xf5,\\xcfX\\xb5\\xd2\\xe6\\xef*[\\xa2\\x88\\xfb\\nx\\xf8\\x9e&\\xb6\\xb2&C\\xd0is\\xbc\\xbcvz\\xac\\xe0>}e\\x90F\\xde\\xbdO\\x80\\xd7\\xc6\\xc9~9\\x957\\x85\\xc9\\xed5\\t)jj4\\x91\\xf9[\\xc1\\xbf5\\xaa:\\xfc:\\x8b\\xff\\x00\\xa7\\x8c\\xc8\\xef\\xd4\\xff\\x00\\x80L\\x1a/V\\xaf\\xef1\\x84)\\x19\\xf6\\x9f\\xa8\\xbeC\\x8by\\x0cT\\x19\\x05\\x15\\'D\\\\\\xf8\\x95T\\xf5\\xb8\\x85wM\\xd6o\\r\\x81>j\\xf7\\xa3[x0\\xd3\\x1e\\x99\\xfb\\x08\\xc2\\x03\\xdc\\xbc\\xfc\\xea\\xb9\\xab\\x9e\\xfd\\x1b\\xa0^C@\\xc6j\\xedJ\\x93\\xae\\x1a\\xe5\\x15\\x8a\\xf4Q\\x00\\xf3\\xe3\\n\\x83\\x82g\\x86\\xd6>\\xaa\\x85=+\\xa59\\x9d\\xb1N\\xa2\\xa9\\xb1\\x0c\\xa3jG\\xd1Z\\x91{\\x7f!\\x9e\\xe8\\xb4j\\xc7%\\x9cu\\xd8}\\x14\\xe4<q\\xe0ks\\xea\\xe2\\x84ef\\xab\\x0b)%\\x98\\xe6\\x93E\\xa7\\xea\\xf6\\xad[\\xd9\\xae!M\\xfc\\xdc\\xefc\\xe2~\\xcaY,\\xef\\x94\\xf3\\x8ai\\x14\\x0c\\x88Y\\xa1X\\xdf\\xdc\\x88\\xa3y\\x0f\\x04Vc\\xfb#5C\\x8d\\x85\\xd6\\xa8c2H\\xd6\\r\\xe4\\x05\\x85\\xe9\\xb8^\\xea\\xf9m\\x83\\x00Q\\x02\\xb3\\x1e\\x01\\x82\\x97r\\xdd\\x9dva\\xe5M\\xe9\\x08\\xa7\\xa6\\x0ewiK1\\x00j\\xeb\\x9c\\x19\\xc6\\xc3\\xb0lV:+[d\\xb4\\xdb\\x86\\xe4\\xc8\\x92\\xa0\\xd9\\x0c\\xa0\\x13\"\\xf2S\\x9d\\xd9\\xe0VM\\xfb\\xbbwUS\\xd1\\x89\\x88\\x92\\x13k\\xedW\\xd2\\xe2\\x06\\x06\\x98j\\x1b\\x9a\\xdb:\\x8f\\xc9A\\xd6\\xd9.L+$\\xb8\\x85\\x1d\\xf0\\xb0\\x02K\\x9d\\xd9\\xda\\x9b;\\xf3\\x8cz\\xdb\\xf7\\x8d\\xc2\\xae\\xa4d,qlz\\x91\\xb4\\xac\\xb5\\xf2\\xd4\\xcc\\x03\\xe5\\xd0\\x1d\\x83f\\x8b\\x86\\x9e\\xccVvV\\xe3\\xd6\\x904\\xec\\x073)\\xc2\\x02;B\\x81\\xef\\xab\\xe2vi\\x1e\\xfe\\xef\\x05\\x96Ve\\x8d\\x8c\\xefZ\\xee\\xa6Ytq\\xb7\\xd1\"!\\xff\\x00ha\\xbf\\xfd\\x9d%!s\\xf3\\xc8\\xe7\\xf1+\\xa4\\x95\\x9c\\x94QC\\xc1\\xb7=\\xa7_K(^\\x90\\xb4\\x8fE\\x16A\\xc7F\\x92K\\xfbDtq\\xff\\x00\\x1c\\x9b_\\xb1R\\x85\\x9c\\xa4\\xeco\\x7f\\x82\\xf0\\xbf\\x92\\xa4\\x96M\\xe6\\xcd\\x1d\\xfa\\x9fO5\\x9bhi:\\r\\x15u7\\xb5;\\xac\\t\\xde8\\xb7\\xc3\\xea\\xa7R\\x1c\\xf3\\xb5\\xbc5\\\\\\xf4c$\\x0ew\\x1d\\x14m\\x1e\\xb3\\xdaB\\x97C\\x0f\\x0c\\xbb\\xa5\\x8f~\\xe1\\xb4v\\x0bc\\xd5\\xce2\\xae8\\x1a\\x8c\\xdc\\x95A0\\xbbhVS{\\xc5\\x18mK6\\x1f\\x0e\\xc4\\xcc4\\xf4\\xf7\\xc5R\\xdbi\\xf6q\\x99\\xa6\\x01R/.\\r&9\\xef$\\x8c\\x80+\\x03i\\x19\\x17:s~\\x015~\"\\xf9\\x81e#2\\xdf\\xa4}{\\x07R\\xa2\\xd4\\xa3\\x9b\\xe9n$c \\xb5Ief>\\xd1@B\\xfb\\xc9\\xc8\\xf0\\xa65\\x07\\xee\\x83\\x06\\x97\\xb0Ii\\xdb\\xf7\\xa5\\xee7\\xb5\\xca\\xaf\\xd5\\xbd9\\x1cO4\\x92\\xbb\\xac\\x92.\\x03\\xa8\\xc9\\x05\\x9b,N\\xf1\\xc4dy\\xd4k`|\\xb1\\x860\\xd9_\\x86TGO?++s+\\xe7\\xd7+r\\x0f\\xe1\\xa6\\xfd\\x90A>\\x04\\xb9\\x03\\xc7\\x14\\xb0aR\\xfe\\xa4\\xfc\\xe3\\xf4\\xe0\\\\E\\xe3kz/:\\xadhn\\'{\\xdc\\xa2\\x99%`\\x88\\x0f\\xa8\\xf2\\x13\\x83\\'\\xcdA\\x9d\\xdf8\\xee\\xadu\\xd3\\x98\\xe2\\x10\\x8d\\xfa]*\\xc2i\\x04\\xd3\\x99\\xdd\\xb1\\xb7u\\xb7\\xf7\\x04\\xdf\\xaeZ\\xc3\\x1d\\xbc\\x1d\\x189\\x8d\\x06\\xc6?:\\xea=O\\xd0\\x1cX\\xf9v\\xd2\\xfax\\x0c\\xee\\xc8:#jk=G\\xba4\\xce\\xef\\xc4v\\xad\\x1c/\\xbf\\xe5\\xe3\\xc1#i-\\x06\\xe6\\xce[\\xc9\\xdc\\x9b\\x92c\\x90\\xc7\\xcdbs\\xb2\\x0b\\x0eY\\xdc@\\xe4\\x00\\xa6\\xf1\\xd53\\x96\\x10\\xb3`\\x0b\\x9e\\x96\\x8a^C\\xde$\\x07S\\xb5;\\xfa1\\xd2A\\xe2L\\x9e1\\x95=\\xc6\\x13\\x8d\\xfe*\\xcbK+\\x1b\\x92\\xa0\\xf5\\xea\\x9cR;\\x95\\xa2o\\x16\\x9bx\\xff\\x00\\x84\\x95\\xae\\x97fy\\xe0\\x88q\\x90\\x99[\\x1d\\xb7\\x0f\\xd4\\x07\\xc2\\x05\\x8b\\xdf[0\\xc1\\x92\\x17Hw\\xeb\\xdc\\xb2\\xe3\\x9c\\xfa\\xa6\\xc0\\xdd\\x8c\\x01\\xbd\\xfb\\xfc\\xeeV\\xb5\\xaa\\x96\\xc1!\\xc8\\x03\\xac\\xc7\\x18\\xe6\\xab\\xd5_\\x80\\xcf\\x9d+i\\xccK\\xb8\\x94\\xca\\xa8d-\\x88~P\\x07~\\xd2\\xae\\xaaK*(B(B(B(B(B\\xad\\xbf\\xd2\\xbd\\x1f\\x08&\\x90\\xf6\"}\\xa4\\x81V\\xb2<\\xdbH\\n\\xa7\\xc9\\x97`%-i-g\\xd2\\'t\\x1a9\\xc7\\xd2\\x93\\x7f\\xf0\\xa9\\x1f]je<\\x1f\\x9eO\\x05\\x96J\\x8a\\x8f\\xc9\\x1f\\x8aV\\xd2\\x1a3L\\xden\\x94I\\xb2}\\x9c\\x84_5\\x18\\x07\\xcf5\\xad\\x92R\\xc5\\xd1\\xf9\\xacO\\x8a\\xaen\\x92\\xf1i\\xe8\\xc2\\xed\\xbdv\\x8e?\\x16\\xda\\xfa\\x85z\\xecF!\\xb2\\xe5x\\xdc2S\\xb4\\x80\\x98,=\\x15B7\\xcd;\\xbfr\\x00\\xa3\\xder~\\xaa\\xcc\\xfcI\\xc7\\xa2\\x16\\xa6a\\x8c\\x1d\"\\x9a\\xb4N\\xabZ[`\\xc5\\x02\\x06\\x1c\\x1c\\x8d\\xa6\\xf2f\\xc9\\x1eU\\x8eJ\\x89$\\xe9\\x15\\xb2:h\\xa3\\xe8\\x85sT\\xab\\xd4{\\xf8\\x1aD*\\xb24d\\xf1e\\x03h\\x0e{9\\x04\\x03\\xdf\\x83Ri\\x00\\xdc\\x8b\\xa8\\xbd\\xa5\\xc2\\xc0\\xd9Wh}W\\xb5\\xb6;Q\\xc6\\x0c\\x87y\\x91\\xc9w$\\xf1;M\\xc3=\\xd8\\xab$\\xa8\\x92M\\t\\xd3\\x86\\xe5\\\\t\\xf1\\xc7\\xa8\\x1a\\xf1W5J\\xb9\\x14!P\\xeb\\x8d\\xd2\\xa4*\\xad\\xea\\xbb\\x82\\xfd\\xd1\\xc4\\x0c\\xaf\\xe4V2\\xbf\\xb5Pp\\xccC\\x06\\xf2\\xb6R\\x1c\\x99\\xe6?\\x91\\xa4\\xf7\\x9eh\\xf37\\xeeY?\\xa3\\xb8Z\\xe6\\xe2i\\x9f{H\\xc1Ny\\x99[jO\\xe1\\x07\\xdfL\\xf1\\x17Z6\\xc67\\xa5\\xd8C~\\xf9\\xd3\\x1f\\xca\\t\\xef\\xdd\\xe6\\xb4\\xb9\\xb5=\\x04\\xa1\\xd4\\xa2\"/Q\\xb6s,K\\xcd#rp\\xab\\xd8\\xd8,\\xa0\\x90\\xa4rZ\\x0b\\xda\\xd2\\xc6\\xba\\xcdL\\xcc\\xf0\\xc8\\xe14\\x91\\xe6\\x93gQ\\xeb#y\\xf2;\\xf7\\xdf*\\xd6\\xa0&\\xb9\\xb6\\xb5\\x8caO[\\x19$\\xafN\\xfb[\\xc9\\xdeH\\x8c!\\xc9\\xdf\\xc6\\x98\\xe1\\xe0G\\x01\\x7f\\x1dR\\xfci\\xee\\x9e\\xb3!7-\\xb3{\\xc6\\xdf5\\xef^\\xe6+y\\r\\xd2.a\\xc4a;3\\x0e\\x03!\\xec9S\\xbb\\xbe\\xad\\xa2\\x95\\xb2B@\\xebY1\\x1aW\\xd3\\xcfg\\r\\x96O\\x9a#^\\xed\\xd2\\x10\\x16HH\\xcb\\x15\\xdb\\x98F\\xddf-\\x87B3\\xb43\\x8d\\xd9\\xce28\\xd2\\xdfv\\x9d\\x9c\\xd0\\xdb\\xf5\\xa6\\xef\\xa8\\xa4\\xa8<\\xab\\x9f\\x97Aqn\\x02\\xda$\\xede\\xd3Ri70\\xdb\\xf5\\xc1`e\\x97\\x05cP\\x99\\xd9\\x03k\\xd5\\x8dr\\xccI\\xde\\xc4\\xe7\\x1b\\x85m\\xa7\\x84S\\x83,\\xa7T\\xbe\\xae\\x7fz\\xcb\\x05;NP{\\xc9;\\xcf\\xd6\\x8a&\\xb8\\xba\\xac660\\x1c\\x8c\\x17\\xcf\\x0e\\x91\\x9d\\xb6\\x15\\xf1\\xc8\\x12\\x1f\\x03\\x8e6j\\xdaIyL\\xd3\\x1d\\xfe\\x81Q_Li\\xdc)\\xce\\xd1\\xb7\\xb4\\xad#Fj\\xd2Knvp\\x18~\\r274h\\xa1\\x0cr\\x0fj6 \\xf7\\x82r0E(%\\xcey\\x94\\x1b\\x1b\\xe8\\x9f\\x99\\x1b\\x0cm\\xa6\\x90]\\x99Fa\\xd6u\\xb8\\xe0E\\xfb\\xf6\\x1d\\x15V\\xb3Y%\\x8c\\x01\\xb26\\xa2\\x89\\xd9B\\xf5c\\x8c\\xb0\\x08\\xa1\\x13<\\xd9\\xb7\\xbbe\\x8e7\\x9eUdMt\\xb5\\r\\xcenv\\xa8I;!\\xa2\\x90B\\xdc\\xad6h\\xe2w\\xdc\\x9e\\xed\\x9b5H\\xba9\\xba\\r\\x11q\\'\\x06\\xba\\x95\"^\\xf4\\x8f\\xac\\xc4~\\xd6\\xear\\xe3\\x9ap8\\x0b\\xaei\\xa3,$\\xf1VZ\\xa7\\xa5\\xe0\\x82\\xda53*\\xb124\\x8a\\x1c#d\\x90\\x14\\x12Q\\xb2\\x02\\xa98\\xfau\\x86\\xb6)\\xe4\\x92\\xec\\x06\\xdd\\xb6M\\xf0\\xb9\\xa8\\xe2\\x84\\x89m\\x98\\x9d\\xed\\xcd\\xa7\\x88V\\xb7\\x1a\\xd3h\\x17-6\\xd2\\x82\\x0b!u\\x9b\\xa4\\x00\\xefN\\x8c\\xc2\\x01\\xda\\x19\\x19$\\x01\\x9c\\xd6vR\\xd5f\\x1bGz\\xd95u\\x07&\\xe1\\x94;C\\xa0e\\xb5\\xdd\\xaem\\xca\\x87S,\\xb6\"\\xb9\\xbc\\x9b0\\xdbll\\x8e \\xb9f\\x18\\x11\\xe7y#\\x91\\xed\\xc5o\\xad\\x1c\\xabDCjO\\x86\\xc8i\\xa5\\xe5\\xce\\xc1\\xe6\\xb8$\\x17W\\xb2-\\xda\\xaca\\x15\\xb1\\nHz\\xbb(~i\\xf5\\x86x\\x9eg5\\xe9\\x96\\nf\\xf2D\\xa0S\\xd5W<\\xcc\\x05\\xf5\\xeeW\\x97\\xef\\xa4\\xe7Y\\x11\\xbeI\\xf8a\\xb2\\xe4*+7`\\xda\\xc6I\\xdc1\\xe0+<r\\xd25\\xe1\\xcd\\xbd\\xd6\\xa9\\xa9q\\x13\\x16W\\xea\\xd1\\xba\\xfb;\\x95_\\xa3\\xcb\\xb9\\x19%\\x823\\x87\\xdaR;\\x96Q\\xd1HO\\xe8\\x82\\x87\\xca\\xbd\\xc5XHk\\x87g\\x8a\\x9e\\x01+\\x19#\\x99&\\xcb_\\xbd\\xba\\xfc,\\xb9\\xe8\\xa9\\xbeS\\xa5%\\x99}T,S\\x9e\\x02\\xe28G\\xfa\\x05[Py\\x1a\\\\\\xa3\\x85\\x96Z&\\x9a\\x9a\\xec\\xcf\\xe3s\\xd85[\\xc5\\x95\\xb8\\x8e4A\\xc1T\\x0fp\\xa5\\x80XYl\\x95\\xe6G\\x97\\x9d\\xe5v\\xafUh\\xa1\\x08\\xa1\\tnmy\\xb0Ve3\\x8c\\xa9 \\xee<A\\xc1\\xe5T\\x1a\\x88\\xc1\\xb5\\xd3F\\xe0\\xb5\\xaehpf\\x85y\\xfe\\x9fh\\xff\\x00\\xcf\\x8f\\xddo\\xba\\x8fy\\x8b\\x8a\\x97\\xd8u\\xdf\\xa3\\xd1_\\xd8\\xde$\\xd1\\xac\\xb1\\x9c\\xa3\\x8c\\xa9\\xc1\\x19\\x1d\\xbb\\xea\\xe6\\xb88\\\\%\\xb2\\xc4\\xe8\\x9eX\\xfd\\xa3j\\xef^\\xaa\\xd1B\\x11B\\x11B\\x11B\\x11B\\x11B\\x11B\\x11B\\x11B\\x11B\\x156\\x9d\\xd0\\xa6\\xe1\\x94\\xed.\\xc8GB\\x8c\\x9bJ\\xc2M\\x9c\\xe4dr\\\\y\\x9e\\xda\\x89\\x0e\\xcc\\x1c\\xd3k-P\\xcf\\x1bbtom\\xc1 \\xed\\xb6\\xcb\\xfc\\xd4}\\x07\\xab\\x0bl\\xe1\\x97\\xa3U\\x19;1\\xc6\\x10\\x16#\\x1bGy\\xc9\\x03w\\x9dz\\xe2\\xf7\\x90^od\\x19ale\\x912\\xd7\\xdb\\xad\\xd5\\xc6\\x92\\xb62\\xc5$a\\xb6K\\xab.\\xd7\\x1cm\\x0cdw\\xd7\\x8e\\x17\\x04*\\xa0\\x90G#^E\\xecA\\xb7b[}L\\x05\\xfaO\\xc0\\xf4\\x98\\xc7H!\\x1bC\\x0b\\xb3\\xb8\\xe7\\x8e\\xce\\xea\\xf74\\xb9rf\\xd1h\\xe5i\\xb9NS\\x93\\xd6\\xf7\\xdb\\xfc+\\x1b\\xfdX\\x86D\\xd9\\x00\\r\\xc0\\x10T2\\xbe\\x06\\x06\\xd2\\x1d\\xc4\\xf7\\xf1\\xaf\\x1a\\xd2\\xd3v\\x1b\\x15\\x03U\\x9c\\x16\\xca3\\x0e\\xbd\\xa3\\xb0\\xa5\\xff\\x00\\xfe\\x9b\\xc1\\xb5\\x9e\\x8e\\xdf\\xfc6\\xc7\\xee\\xed\\xe2\\xae\\xf7\\x8a\\x8b[2\\xaf\\x93\\xa2\\xbd\\xf93\\xe3\\xfc+\\xdbMW\\x8a4\\xd9\\x07\\x80\\xea\\x80\\xa1QO#\\xb07\\x1c\\x1d\\xfb\\xf3T\\xb8\\x17\\xea\\xe3r\\xadeH\\x8fH\\x9a\\x1a7\\xdbi\\x1d\\xbf%^5%r\\x8cz\\x16x\\xd5U]\\xa1\\x05\\x86\\xc0\\xc2\\x9c\\xedq\\x1ck\\xd6\\xbaV\\xb7 v\\x8aR\\xcdM,\\x86W\\xc7\\xa97\\xdb\\xfc&{\\x0bQ\\x14k\\x189\\xd9\\x18\\xcfoi\\xa1\\xa2\\xc2\\xcb4\\xd2r\\x8f/\\xe2\\xa9\\xf4\\xd6\\xae|\\xa1\\xdc\\xb3##*\\r\\x87\\x8flu\\t#\\x9fi\\xcf\\x90\\xaf\\x06v\\xbb3M\\x95\\xed\\x9a\\x13\\x08\\x8aF^\\xc4\\x9d\\xb6\\xdb\\xfe\\x149u1Z4\\x89\\x85\\xb9\\x8d\\t(\\x86\\x01\\x85-\\xc4\\x81\\xb5\\xce\\xa5\\xcaM{\\xe6\\xd5F\\xf4\\x96\\xb7&|\\x7f\\x85\\x1f\\xff\\x00\\xa7\\xd0~n\\xdb\\xfc\\xb8\\xff\\x00uK\\x96\\x9f\\xf5\\xaf-G\\xfe\\x97\\x9f\\xf0\\xbaA\\xa8P)\\xce\\xc4\\x0b\\xde\\x90(#\\xc0\\x92h\\xe5f:\\x17\\xaf?\\xe9\\x06\\xa2/\\x12\\xa5\\xe9\\x1dU\\x13*\\xa3\\x18\\xde5\\xde\\x04\\x91\\xed\\xf5\\x8f\\x13\\xc4\\x0fp\\xdc*\\r20\\xf3\\\\\\xa6d\\xa7x\\xfb\\xc8\\xfc\\r\\x87\\x82\\x95\\xa3\\xac\\xe0\\xb2^\\xbc\\x91\\xa9 \\x0c\\x9d\\x94\\x01G\\x05A\\x9d\\xca*$\\xd8\\x97<\\xeaW\\xa74\\xc0G\\x0b\\x0eQ\\xb0\\r|T-5\\xacv2Fc7q\\xa9$\\x10s\\x9c\\x15 \\x83\\xbb\\xbcUo\\x962-\\x99k\\xa5\\xc3\\xeb\\x18\\xf0\\xfeH\\x91\\xf0)v\\xce]\\x1d\\x13\\xb4\\x91\\xddZ#\\xb0!\\x99a\\xc1!\\xb8\\x83\\xbf\\x9dH\\xd5\\x97\\x0b\\x19\\x15\\xa3\\tp\\xd9L\\xef\\x15\\xf7F6\\x8c\\x86Eu\\xb9\\xb6\\\\\\x10[\\xa3\\x8b`\\xb6\\xc9\\xc8\\x04\\xf6m\\x00|\\xab\\xc7T\\xe7\\xb0{\\xee\\x17\\xad\\xc3&\\x8c\\x1eJ\\x9c\\x82E\\xaf~)\\xa8k\\xa5\\x87\\xf6\\xa8\\xfe?u{\\xcb\\xc7\\xc5e\\xfb\"\\xb7\\xfd2\\xae\\xed\\xa7Y\\x11]\\x0eU\\x80e#\\x98# \\xfb\\xaa\\xc0A\\x17\\t{\\xd8\\xe68\\xb5\\xc2\\xc4hWJ\\xf5EW\\xeb\\x05\\xff\\x00\\xc9\\xed\\xa6\\x9b\\xe6#\\x11\\xe3\\x8e\\xaf\\xc7\\x15\\t\\x1d\\x95\\xa4\\xad4pr\\xf3\\xb2>$xo\\xf2YV\\x9c\\xd3\\xd7\\x16+oi\\x04\\xa63\\x1c*e\\xc0RzY2\\xec\\x0eA\\xe1\\x91\\xef\\xa6\\xb8m#\\x0c\\x00\\xbc_\\xeb\\xe6\\x96c\\xf8\\x8b\\xe4\\xady\\x8c\\xe9\\x7f\\xf1\\xe5e\\x7f\\xa8Z\\xc3s$WW72\\xb4\\x91\\xc4\\xbb\\x81\\n:\\xc0\\x12x\\x01\\xbf\\x1b#\\xce\\xbd\\xab\\x820\\xe6\\xb1\\x82\\xc4\\xac\\xb4s\\xc8Z\\xe7\\xc8n\\x02\\xb1\\xd0\\xba\\xccF%i\\x0c\\xb6\\x92\\x9d\\xce@\\x0fn\\xe7\\xf2s\\x05\\x1e\\xafc|M*\\x9a9)\\xdf\\x96M\\x9cWI\\x07!\\x88@\\x1dN2\\xc8\\x06\\xad\\xe3\\xd6/\\xbf\\xab\\xc1:+\\x0227\\x83RX\\x08\\xb6\\x85}\\xa1x\\x93\\xf5\\xae\\xf8\\xf4\\xe5L\\xd2\\xc7\\x14\\x10\\xb4\\xb2\\x98X+\\x12H\\x082wo\\xebq\\xec\\xaa\\xc3\\x1d,\\xa26\\x9b&qI\\x1d-\\x1b\\xaa\\x1e\\xc0\\xe2M\\x85\\xc5\\xf4\\x1bxu%8\\xf5\\xaa\\xd9\\x88\\x02})\\x92@\\x1f\\x85\\x8b\\x89\\xad\\xe7\\x08\\x90\\x0b\\xe7\\xf3\\xfe\\x12\\xe1\\xed\\x1cD\\xd8@\\xcf\\xdb\\xff\\x00%o\\xac\\x97qY2,\\xb7ZD\\xb3\\xae\\xd6\\x16h\\xce\\xcfsd\\r\\xf5L\\x18{\\xe6\\x04\\xb5\\xe7N\\xbf\\xe1]>;\\x1c$\\x07@\\xcd\\x7f\\xb7\\xfeJ\\x9f\\xfa[k\\xfd\\xa3J\\x7f\\x8b\\x15_\\xf6<\\xbf\\xaf\\xcf\\xf8T\\x7fR\\xc3\\xfe\\x83?o\\xfc\\x91\\xfd-\\xb5\\xfe\\xd1\\xa5?\\xc5\\x8a\\x8f\\xb1\\xe5\\xfd~\\x7f\\xc2?\\xa9a\\xff\\x00A\\x9f\\xb7\\xfeK\\xad\\xbe\\xb8[\\x03\\xba\\xe7I/{4.?t\\x83^}\\x91(\\xd8\\xff\\x00?\\xe1x}\\xa2\\x81\\xda:\\x06\\xf8\\x11\\xe8\\xe4\\xc1\\xa1\\xf5\\x99\\xdft7P\\xdd\\x1f\\xcd\\xca\\xbd\\x04\\xa7\\xf4H\\xea\\x9f\\xdd\\xac\\xd2R\\xd4C\\xa9\\x17\\x1f\\\\\\x16\\x98\\xeb0\\xea\\x9d\\x05\\xd8z\\x8d\\xc7\\x81\\xd7\\xcc\\xa6}\\x13\\xa5\\xd2|\\xae\\x19$\\\\m\\xc4\\xe3\\x0c\\xb9\\xee\\xe68\\xef\\x19\\x1b\\xaa\\xa6\\xbc;\\xb5\\x15\\x14\\xaf\\x86\\xc7kN\\xc26\\x1f\\xae\\x07T\\xb3\\xad\\xb7!\\xa7\\x93nI\\x92+hC\\xb0\\x86B\\x85\\xdeF\\xc0\\x19\\xe6@\\x1c;\\xeb\\xc6\\xc4g\\x98F\\r\\x96\\xc6T6\\x86\\x88\\xceZ\\tq\\xd2\\xe0\\x1d\\x00\\xeb\\xe3\\x7f$\\xa7o\\xa7\\xad\\x1d\\x95\\x14\\xe9\\x12X\\x80?\\xac\\xf3\\'\\x1d\\xb5\\xbc\\xe0\\xe4\\x0b\\x97\\xf9\\x94\\xb5\\xbe\\xd4\\x92l!g\\xec\\t\\xe3U,\\xb6.n\\x82\\xcb3\\xc7\\x1e\\xc4c\\xa5\\x91\\x9f\\xad\\x8d\\xa6#> yR\\xd8\\x9bg\\x1dS\\\\Bl\\xf4\\xf1]\\xad\\x0e7:\\x004\\xd8>i\\xae\\xafI\\xd2\\xbe\\xb2\\xe9R\\xcc\\xd6\\xf1\\xc9\\xd1\\x85\\x1bW\\x13\\x03\\x8e\\x89;\\x14\\xfeq\\xb9vq\\xec\\xcdg4\\x8e\\xe4\\xd9\\xb52\\xa7dt\\xf1\\x1a\\xa9\\xc6\\x9f\\x94\\x1d\\xe7\\x89\\xea\\x1e{\\x12\\x13\\xebE\\xa0$\\x05\\xbe#\\x91\\xf9[\\x8c\\xf7\\xe34\\xc4`\\xbat\\xfc\\xcaV}\\xa8}\\xf4\\x8d\\x9f\\xb1\\xbf%si$R[\\xf4\\xf8\\xbc]\\xb6\\xd8\\x85\\r\\xdc\\x84\\xca\\xff\\x00D\\x03\\xc0s=\\xc6\\xb0U\\xd2\\xb2\\x03\\x971\\'\\xb4\\xa6\\xf8f#=i\\xbf&\\xc6\\xb4jNF\\xe8<\\x13\\x96\\xaa\\xe8\\x87\\xb6\\x87\\x12H\\xf2H\\xdb\\xdc\\xb3\\xb3c\\xe8\\xae\\xd1;\\x87\\xc6\\xa3\\x13\\x0bF\\xa7UN!T\\xda\\x89n\\xc6\\x80\\xd1\\xb2\\xc0\\x0e\\xf3n*\\x8fN\\xe9\\x9e\\x8a\\xe6\\xe2c\\x96\\x8e\\xd6\\x14M\\x90\\xc4\\x03$\\xa7$\\x1e\\xfd\\x9d\\x9d\\xf58\"3TdEL\\x8d\\xa5\\xc3\\x9a\\xf25s\\xaf\\xdc4\\x1ewF\\x83\\xd3\\xe2%W\\xe9\\x1a[9\\x0fVF%\\x9e\\xdd\\xcf\\xb1);\\xf63\\xc1\\x8f\\x0f\\x0e\\x1eK\\x1b\\xe9\\xdf\\x95\\xfb\\x14\\xe31bQg\\x84\\x01 \\x1a\\x81\\xa0w`\\xfd\\\\F\\xfe\\xdd\\xae\\xa0\\xe6\\xa4\\x96\\xaf\\xb4!g:\\xd5~\\x86\\xe2\\xe6YzF\\x8a\\xd9#\\x8c\"J\\xd1\\xedH\\xe7\\'z\\x9e@\\xff\\x00\\rB\\x08=\\xe6r\\xcb\\xe8\\x13i\\xaa\\xce\\x1d\\x87\\xb2F\\x80\\\\\\xf2N\\xa0\\x1d6o\\x07\\xb5Qh\\xbd7m<\\xd1\\xc2\\xb6\\xb3\\xe6G\\x0b\\x9f\\x96\\xcd\\xbb\\'y\\xf2\\x19>U\\xbeL\\x1d\\x8ciqq\\xd3\\xb7\\xe6\\x94G\\xed=K\\xdc\\x1a\\x18\\xdd\\x7f\\xb5\\xbf\\xfa\\xabVV\\x82[\\x96[\\x86\\xb7\\xb4\\x0f\\xd1\\x87fi$b\\x83\\x0e\\xb0\\xed\\x93\\xbc\\xbe\\xd6\\xfeX\\xa5\\x90S\\xc9+\\xcbc\\xd8\\xba*\\xdcB\\x9a\\nx\\xdfP\\xd0\\xe7\\xda\\xf6\\xb0\\x03]\\x97\\x00\\x0b\\xe9\\xb9P\\\\k\\x1d\\xba\\x12a\\xb3I\\x0f\\xe7n\\x89\\x99\\xdb\\xbf\\x04\\xe1O\\x85:\\x8b\\x06\\x88k!\\xb9\\xfa\\xe2\\xb9J\\x9fj\\xab\\x1f\\xa4G(\\xe04\\x1e\\x02\\xde\\xa5x:\\xefu\\xc1z$\\x1d\\x8b\\nc\\xe2\\rl\\x18u8\\xfc\\xa9K\\xb1z\\xc7\\x1b\\xe7_?\\xa6\\xf7\\x9f=?\\xc1\\x8f\\xfd\\xb5\\xef\\xd9\\xf4\\xff\\x00\\xa7\\xcc\\xa8\\xfd\\xa9W\\xfa\\xfd\\x17E\\xd7\\xcb\\xb0?${\\xfa%\\xfb\\xaa?gS\\xf0R\\x18\\xb5W\\xeaV\\xda/X.\\'\\xb7\\xba\\x92`\\x865\\x8c\\xa2\\x85\\x8dF\\xd4\\x8f\\xb8\\x058\\xc9=\\xdd\\xf4\\xbb\\x12\\x86\\x08\"\\xb3F\\xa5=\\xf6~j\\xaa\\xaa\\xb6\\xe6w4\\x1f\\xe5iz\\x1a\\xdb\\xa2\\xb7\\x863\\xecF\\x8b\\xfb\\xaa\\x07\\xd9X\\x18,\\xd0\\x16\\xaa\\xa99I\\x9e\\xfe$\\x9f\\x12\\xa6T\\x95\\to\\\\\\x7f\\x08m\\xad\\x7f=0/\\xfa\\xb8\\xba\\xed\\x9e\\xe2\\x06*\\x99u\\xb3x\\x94\\xd3\\r\\xfb\\xb1%G\\xe9i\\xb7i\\xd0,GXt\\x9f\\xca.f\\x9b\\x93\\xbb\\x15\\xfd\\x1c\\xe1\\x7f\\x84\\n\\xea\\xe1fF\\x06\\xf0\\\\4\\xce\\xce\\xf2\\xe4\\xebr~K\\xa0\\x91x=\\xcbd\\xf7\\x82s\\xf5\\x05\\x15\\x85\\xbfyVO\\x05\\xb9\\xc3\\x93\\xa4\\xb7\\x14\\xa1\\xab\\xfay\\xed\\\\\\x90\\x03F\\xc3\\x12F}W^\\xc2;{\\rk\\xa8\\x81\\xb37+\\x96ZZ\\x97\\xd3\\xc8\\x1e\\xc2\\xb5=_\\xd3\\xc9\\n+\\xab\\x97\\xb2s\\x80\\xc7{[1\\xf6$\\xfa\\x1d\\x87\\x95sRF\\xeagev\\xc5\\xdaF\\xe8\\xf18\\xf3\\xc7\\xa4\\xbb\\xc7\\xea\\xec\\xeb\\xea\\xde\\x9e\\x15\\x81\\x19\\x07 \\xf3\\xa9\\xa5\\xa4\\x10lVM\\xaeZC\\xf0\\x172\\xf3\\xb8\\xb8\\xe8\\x94\\xff\\x00w\\x07\\x11\\xfb\\xfb^\\xfa\\xd1\\x85\\xb3<\\xcez\\xb7\\x1f\\x7f%M\\x15?U\\xcfk\\xb5\\xf4\\xb2Y\\xd4\\x1b.\\x9e\\xfe\\x15\\xe2\\x03m\\x9f\\x04\\x19\\xa75re\\x88\\x95\\xccRG\\x9aP\\xbbzF\\xd2]5\\xfc\\xb8;\\x93\\x08?do\\xf8\\x93\\xee\\xa8\\xd1\\xb7$C\\xad{Z\\xec\\xf2\\x9e\\xa5#@\\xea\\xfc\\x0fo\\x1c\\xd3\\xf4\\xe5\\xe6\\x91\\xd6$\\x84\\x06,\\xb1\\x81\\x93\\x8cgsm\\x0fuf\\xac\\xc4\\x0c/\\xc8\\xd1t\\xcb\\x0b\\xc1}\\xf27<\\xbb(\\x1b\\xc9\\xb0V\\xed\\xab\\x16\\x7f\\xd9\\xb4\\x87\\xf8g\\xee\\xac\\x7fkK\\xfa|\\x93/\\xe9\\xb8\\xbf\\xd5g\\xee\\n\\x05\\xce\\xac\\xd9\\x92\\x15g\\x9e\\xdeC\\xc0]DQI\\xec\\x07\\x02\\xac\\x8f\\x18\\xd7\\x9e-\\xe4\\xaa\\x97\\xd9yC\\x0b\\xa2!\\xdf\\xf6\\x90\\xefD\\xaf\\xa5\\xf4l\\xd6\\x92\\xf4r\\x8d\\x96\\x1b\\xc1\\x07 \\x8eL\\xa4q\\x14\\xe29[#n\\xdd\\x8b\\x9a\\x96\\x17\\xc4\\xec\\xae\\xda\\x9c\\xf5COIt:\"\\xdf\\xd6\\xa0R\\xf6\\xf2\\x1e.\\x17{C!\\xf6\\x94\\x8e\\xde\\xcc\\xf2\\xa4\\xf8\\x95 \\x03\\x95\\x8fj\\xe8pLF\\xce\\xf7y\\xf5c\\xb6\\xfc\\xfbG\\xa5\\xc2\\xe3\\xad\\x1aWn\\xc9\\xa6\\xe0\\xd7\\x93\\xedc\\xb1\"P\\x06;\\xb2\\x05U\\x847;\\xcc\\x8b_\\xb4\\xc7\\x91\\x0c\\xa5\\x07\\xa2-\\xf1*\\x9f\\xd1\\xf4\\x01\\xefQ\\x9b\\xd4\\x844\\xce{\\x04c \\xfe\\xf1Zm[&HI\\\\\\xde\\x1f\\x01\\x96\\xa1\\xad\\x1f_El\\x1a\\x95\\x11\\x16\\xab#\\x0c4\\xcc\\xd2\\xb0\\xec218\\xf7b\\xb9\\xb8G2\\xfcu]~(\\xe0j\\x0b\\x1b\\xb1\\xa04w\\x0b/Z\\xc7\\xa5\\x9a-\\x98`\\x01\\xaef\\xdd\\x1a\\x9e\\n9\\xc8\\xfd\\x8a\\xa3\\x7f\\x7f\\n\\xf6G\\x91\\xcd\\x1bJ\\x8d\\x15+d\\xbc\\xb2\\xe9\\x1bv\\xf5\\xf0\\x03\\xac\\xac\\x8b[4\\xe2\\xe3\\xe4\\xb09h\\xd5\\xb3,\\xbc\\xe7\\x97\\x9b\\x13\\xf3s\\xc2\\x9d\\xe1\\xf4b\\x16\\xe6v\\xd2\\xb9\\xfc_\\x13u\\\\\\x96\\x1a4h\\x06\\xeb%r\\xd4\\xca\\xe95\\x96\\xcf\\xab\\x0e\\x8f=\\xa3{&\\xcdz\\x11\\xf3Y\\x0e%#\\xbfz\\xef\\xaeV\\xa0\\x11Rs.\\xe2\\x99\\xd7\\xc2\\xfe\\xef\\xf5\\x0c\\xdd\\x96\\xd3\\xcc\\x14\\xf0\\xc7\\x1b\\xcdz\\xb0\\x81u\\x8a\\xebn\\x90\\xcd\\xa2\\xb7\\xb5y<\\x93\\x9f\\xd5\\xa1\\xd9@|7{\\xabf\\x0e\\xcb\\x97H\\xa7\\xed;\\xf29\\x94\\xc3\\xf2\\x00;\\xed\\xaf\\x99K\\xfa\\xbb\\xac\\x0fh\\xe4\\x80\\x1e7\\xdd$m\\xea\\xba\\xf7\\xf7\\xf7\\xd3j\\x88\\x1b3r\\xb9s\\x94\\xb5/\\xa7x{\\n\\xd4u\\x7fO\\xa4(\\xac\\x8ed\\xb2c\\x80\\xc7{[1\\xf6$\\xfa\\x1d\\x87\\x95sRF\\xfagev\\xc5\\xda1\\xd1\\xe2l\\xe5#\\xd2]\\xe3\\xf5u\\x8e\\xbe#zvy\\x94)rF\\xc8\\x19\\xcfp\\x19\\xcf\\xba\\xa5}.\\x96\\x86\\x12\\xec\\xbb\\xd6\\x1b\\xac\\xd7\\xa4\\xda\\xc4O\\xadu4\\xb7-\\xda\\x17%P\\x1e\\xed\\xef\\xee\\xad\\xb834t\\x87z\\xf7\\xda\\xb9\\x00\\x99\\x94\\xcd\\xd8\\xc6\\x81\\xe4\\xa5\\xfa$\\xb1\\xe9/zC\\xc2\\x14-\\xfbM\\xd5\\x1f\\x02\\xde\\xea\\xdf_%\\xa2\\xb7\\x14\\x87\\x0f\\x8e\\xf2\\xe6\\xe0\\xa1k\\xd6\\x973]:\\x8d\\xd1\\xc2\\xc64^]S\\x86>%\\xb2s\\xe1V\\xd1\\xc2#\\x88[i\\xd5Q_;\\xa6\\x98\\x93\\xb9XhM\\tn\\x90\\xc3,\\xeae\\x92rz(\\xc3\\xacj\\x02\\xf3w$\\x0f*\\xc3]\\x88\\xba\\'\\xe4bq\\x84`b\\xaa3,\\x86\\xc0v\\x9f!\\xaa\\xbb\\x1a2>Vv>w[\\xfc\\xf1K\\xbe\\xd0\\xa9\\xe2<S\\xaf\\xb10\\xf1\\xfa\\xff\\x00b\\xef\\x0e\\xaf\\x97\\x19K\\x0b6\\x1fFv?P\\xa9\\n\\xea\\xa3\\xb0\\xf9\\xaa\\xdd\\x85am\\xd1\\xc5\\xc3\\xb5\\xa3\\xe6\\xba\\xae\\xacI\\xff\\x00\\xa6\\xday\\xca\\xf8\\xff\\x00M\\x06\\xb6\\xaf\\x8f\\x9a\\xf0a\\xd8H\\xfc\\xce\\xfd\\xa3\\xe6\\xaetv\\xaeH\\xcc\\x86\\xe3\\xa2X\\xe2;I\\x04 \\x84\\x0c83\\x13\\xbd\\xc8\\xe5\\xb8U\\x04>Gf\\x90\\xdd_\\xef4\\xf4\\xf1\\x98\\xe9\\x1aE\\xf4.;m\\xc0\\x01\\xb3\\xad4U\\x89j(B\\xcf\\xb5\\xc3H\\xec\\xbd\\xe4\\xdf\\xd9\\xed\\xfa\\x14?\\xdeNw\\xe3\\xe9(\\xc1\\xf3\\xa2\\x95\\x9c\\xa5H\\xea[\\xaa\\xdf\\xc8a\\x80oy\\'\\xb8h=|\\x96;c\\t\\x92D\\x8cqv\\x0b\\xef8\\xae\\x95\\xce\\xca\\t\\\\s\\x19\\x99\\xc0\\'\\xcfK\\x97Ad\\xb7\\xb5^\\x10\\xc6\\t\\x1d\\xe7w\\xd4+\\r\\x08\\xd1\\xcf;\\xd6\\xda\\xe3\\xb1\\x83rX\\xd0z\\xb7=\\xdcSI\\x08\\x0c!\\x03#\\x9bg;\\x97\\xb4\\xe0\\x13Z\\xa4\\xa8ld\\x07oYc\\xa7t\\x8d%\\xbb\\x97=_\\xd3\\xd2Y\\xc8J\\x8d\\xa4n\\xac\\xb17\\xab\"\\xf3V\\x1c\\x8fa\\xe5\\xef\\x15\\xe4\\xf0\\xb2f\\xe5r\\x95<\\xf2S\\xbc=\\x86\\xc4-7E\\xe9\\xe1\\x05\\xb3Ko\\xb55\\x9b\\x02\\x11x\\xc9k&?\\x16\\xe3\\x89L\\xf0<\\xb7q\\x1b\\xcf54O\\xa6%\\xa7f\\xef\\xae\\x0b\\xb7\\xa6|8\\xaeW\\\\6O\\xcd\\xb88q\\xeaw\\x1e)\\'_\\xa5\\xd8\\xf95\\xb6w\\xc5\\x08g\\xefy7\\x92{\\xe9\\xce\\x17\\x1eHo\\xc5sx\\xf5G-V\\xe26n\\xecW\\x1e\\x89#\\x11\\xad\\xdd\\xe3\\xfa\\xb1G\\xb2\\x0f\\xbd\\x9b\\xcc\\x00\\xbf\\xbdS\\xae9\\x8bc\\x1b\\xca\\xc9B\\xdc\\xa1\\xcf;\\x96}qr]\\xd9\\xcf\\xac\\xecX\\xf8\\xb1\\xc9\\xf8\\xd6\\xf1`,\\x16\\x07]\\xc6\\xe5mz\\xad\\xa3\\xf6n\\xa2\\x8b\\x95\\x95\\xa2)\\xee\\x9a~\\xb3\\x9f0+\\x98\\x99\\xfc\\xa5Aw\\xd7\\xd5\\x97m\\x13=\\xdf\\x0bkw\\xbd\\xdeM\\xff\\x00\\x91)\\xe6\\xbdK\\x97\\x1b\\xbbT\\x95\\nH\\xa1\\xd5\\x86\\n\\xb0\\xc85\\xe1\\x00\\x8b\\x158\\xe5|n\\x0fa\\xb1\\x1c\\x16=\\xaf\\x16\\xe1l\\xf6I\\xda\\xf9=\\xcbG\\x1b\\x1d\\xe7`\\x8c\\xec\\xe7\\x9e8yV\\xcc)\\xc49\\xcd\\xdc\\x8fh\\xda\\xd7\\xe4\\x9a\\xd6.\\x00\\x9e\\xdf\\xe7j\\xa2\\xf4tI\\xd26\\xdb?8\\xe7\\xc3e\\xb3\\xf0\\xcd3\\xab?r\\xeb\\xaez\\x90\\x1eY\\xb6S\\xbd(\\xdc(\\xba[t\\xf5`Lc\\xb1\\x9c\\x96o\\xadj\\x9c:<\\x91_\\x8a\\xd5\\x8aNf\\x9e\\xe5t\\xd4\\xabR,\\xeed\\x1e\\xbd\\xc3\\xc7i\\x1f\\xed\\x90d\\x1ei\\x8f\\xdd\\xac\\xb8\\xbc\\x9c\\xd1\\x18\\xdf\\xf5\\xf3M=\\x99\\x84{\\xc1\\x99\\xdb\\x18\\x0b\\xbc5\\xf5\\xb2\\xd7\\xf4\\x95\\xf2Z@7\\x13\\x80\\x124\\x1c]\\xb1\\x85QK\\x9c\\xe0\\xc6\\xadpB\\xfa\\xa9O\\x89;\\x80\\xdeVS\\xaezq\\xa0\\xe9\"\\xda\\rw8\\xfe\\xb2\\xe0\\xee\\x8a>PG\\xd8>q\\xe7\\xf50\\xc3\\xa95\\xe5d\\xda\\xb1\\xe3X\\x93\\\\\\x054\\x1a1\\xbeg\\x89\\xeb>C\\xb4\\xa8\\xba\\x89\\xa1\\xa3\\x03\\xe5\\xd7{\\xa0\\x8d\\x80@\\x7f(\\xf9\\xdd\\x81\\xcc\\x03Z+\\xeb\\x04M\\xca6\\xac8V\\x1b%T\\x9c\\xd0\\xab5\\xfe\\xd3\\xa1\\xbf\\x99@\\xc2\\xb1\\x0e\\xbe\\x0e2+M+\\xf3D\\n\\xc3W\\x1eYHM:\\x91\\xa4\\x7f\\xaa\\xc0\\xf9\\xdfkr\\x11\\xbfW>\\xe0<6\\x88>T\\xa7\\x14fYZ\\xf5\\xd1\\xe0.\\xe5!\\x92\\x03\\xbd\\xa6\\xdd\\xa3_K\\xad\\x07]o\\x0cVS\\x15\\xf5\\x9dz4\\xed\\xda\\x90\\xec\\x8cw\\xef\\xcf\\x95b\\x98\\xd9\\x85j\\xc2\\xe2\\x12U\\xb0\\x1d\\x80\\xdc\\xf6\\r~\\x0b\\x19\\xf4\\x850\\x17B\\x05=[h\\xa3\\x84c\\x81*\\xb9c\\xe3\\xb4O\\xba\\x9f\\xe1\\xf1\\xf2p\\x00\\xb9\\xacVs=S\\x9ew\\x94hmN\\x9e\\xe6\\xd1\\xeec \\x95b\\x16>n\\x14u\\x8a\\x9eg\\x8e\\xee\\xe3S\\x92\\xa9\\xac\\x900\\xaa#\\xa4s\\xe3/\\n\\xb7@\\xe9\\xd9-$$\\r\\xa5=Y\"oU\\xd7\\x9a\\xb0\\xed\\xfa\\xaasB\\xc9\\x99\\x95\\xca4\\xf3\\xc9O {\\r\\x88Z\\x11\\xd2\\xce,d\\x16\\x9bS[\\xcc\\xa5\\x11x\\xbd\\xb3\\xb6\\xe3\\x1b\\xf3)\\x82pyxp\\xe6*a\\x92\\x9e\\xec\\xb5\\xc6\\xe5\\xdfa\\xd3\\xd3b\\x12\\xb2w\\x90\\xd7\\xb4\\xdd\\xdc\\x1dm\\xfd\\xbcx\\xfa\\xa4k\\xc4\\xc0]\\x18T\\xe5m\\xd1 S\\xfa\\xb5\\xeby\\xf4\\x85\\xeb\\xa2\\xa1\\x8f\\x93\\x81\\xa1qX\\xa5A\\xa8\\xaa|\\x87y)\\xabQ\\xae\\r\\x9d\\x81\\xb9\\nKMp\\xa3\\x03\\x89\\x8a#\\x97\\xc0\\xe7\\x80\\x1f\\xdfK\\xf1I\\xac\\xe08&\\xfe\\xcf\\xd0\\x89\\xcb\\xaf\\xa6\\x87^\\xbd\\x83\\xcc\\xa5\\xcdq\\xd1\\r\\x04\\xec\\xe3\\xad\\x04\\xacd\\x8aA\\xbdY\\\\\\xe4\\x0c\\xf6\\x8c\\xe3\\xca\\x9aR\\xce\\xd9c\\x16\\xda\\xb9\\xea\\xdaG\\xc1+\\x9a\\xe1mW=\\x17\\xadSC\\x1fDV)\\xa2\\x07\"9\\xe3\\x12*\\x93\\xc7\\x1c\\x08\\xf7\\xd7\\x93\\xd1\\xc31\\xbb\\xc2\\x9d&#QK\\xf8N#\\xcb\\xd1K\\xfe\\x99\\x7f\\xec4w\\xf9o\\xfeu\\x9b\\xec\\x9an\\x1e\\x9f%\\xbf\\xfa\\x8b\\x10\\xff\\x00P\\xfe\\xe7|\\xd4\\x9d\\x1d\\xac\\xf6\\xce\\xe3\\xa6\\xb6\\x16\\xcd\\xcakB\\xd1\\x94=\\xa6<\\x90\\xc2\\xa9\\x9b\\x08e\\xaf\\x19\\xb1Z\\xe9\\xbd\\xa7\\xa9\\x07,\\xfc\\xf6\\xef\\x07_[\\x9f5\\xa7\\xea\\xd6\\x96\\x90\\xc8\\xd6\\xd7\\x0c\\x1eEQ$r\\xae\\xe1<M\\xc1\\xb1\\xc3hs\\xc5+c\\x9c\\x1cX\\xfd\\xa14\\xab\\x82\\'D\\xda\\x9a~\\x89\\xd0\\x8f\\xd2~Grc\\xabR\\xd4P\\x85\\xe6G\\n\\t<\\x00\\'\\xddA^\\xb4\\\\\\xd8,K^\\xaf\\xcf\\xc8\\xe3\\x19\\xeb]L\\xf7\\r\\xde\\x83\\xab\\x1f\\xf0\\xe2\\xb5aL\\xbd\\xe4\\xe2\\xa7\\xed\\x14\\x80=\\xb0\\r\\x8c\\x00w\\xef\\xf3\\xba\\xad\\xf4Ya\\xd3i\\x08\\xc9\\xf5b\\x06C\\xe47g\\xce\\x98V?,G\\xad#\\xa4e\\xe4\\xbf\\x05[\\xae\\xdaK\\xa7\\xbe\\x9eL\\xee\\xdb*<\\x17w\\xd8j\\xcav\\xe5\\x8c\\x05\\n\\x83\\x9aBS\\xbe\\xa7\\xe8\\xf9>Kg\\x0cr4R\\\\I-\\xc32\\xf1\\t\\x18\\xd9P{A88\\xa4\\xb8\\x93\\xcb\\xe6\\x0c\\x05t\\xf8\\x13\\x19\\r4\\x93\\xc8\\xdc\\xc3Ac\\xd6~C\\xcdF\\xd6\\xdd[7\\x0c\\xc5P%\\xea\\x0c\\xc9\\x10\\xe1p\\xa3\\xf2\\x90\\xf6\\xb7h\\xab\\xa8\\xab\\x8bO\\'\"\\xcb\\x89\\xe1M\\xcb\\xef4\\xfa\\xb0\\xf9u\\x1e\\xbfT\\x9d\\xabz\\xc55\\x8c\\xbbi\\xbc\\x1d\\xd2F\\xdc\\x18\\x0eL9\\x11\\xdb\\xca\\x9a\\xcd\\x0bem\\x8aE\\x0c\\xae\\x85\\xd7\\n6\\x9e\\xd2\\xcduq$\\xec0\\\\\\xe7\\x1d\\x83\\x80\\x1e\\xea\\x94L\\x0chj\\x84\\xae\\xce\\xe2\\xe2\\x9f&?#\\xd5\\xe5\\x1c\\x1e\\xed\\xf3\\xe2\\x1c\\xe7\\xdcbA\\xef\\xacC\\xef*\\xbb>\\xbdV\\xc29:n\\xd4\\x9d\\xa9v==\\xf5\\xbcg\\xd5\\xdb\\x0c\\xdd\\x9b)\\xd69\\xee\\xdd\\x8f:\\xd7P\\xfc\\xb1\\x92\\xb2\\xd3\\xc7\\x9a@\\x16\\xdf\\xa9\\x0b\\xb6\\x93\\xdc\\x9e7\\x13\\xbb\\x0f\\xd0C\\xb0\\xa3\\xc3\\xaa}\\xf5\\xcd\\xc5\\xa8.\\xe2Wc\\x8a\\x9c\\x8ed\\x03\\xf24\\x0e\\xf3\\xa9\\xf5L\\xb5jT\\xa8\\xb4\\xe6\\x9f\\x11\\x9e\\x82\\x0f\\xc2\\xdc\\xb0\\xea\\xa0\\xde\\x13\\xe9Hx*\\x8e\\xff\\x00\\xb6\\xabs\\xed\\xa0\\xda\\x98R\\xd0\\x97\\x8eV^lci;\\xfa\\x87\\x12V1\\xaf\\x1a]\\x1bb\\xd6\\'\\xe9\\x12\"\\xcc\\xf2\\x0e\\x12L\\xe7\\xae\\xc3\\xbb9\\x19\\xa74\\x14\\xe6&\\\\\\xed)\\x1e/]\\xefS]\\xbb\\x06\\x83\\xb0h\\x13\\x1f\\xa2-\\x11\\xb0\\xdf,\\x94ck1\\xc0\\x0f\\xb5\\xb8\\x99\\x1cw\\x05R3\\xe3\\xddP\\xaf\\x9ci\\x18Q\\xa0\\xa5q\\x0e\\x97p\\x1f\\xc7\\xf0\\x904\\xee\\x91\\xf9E\\xc4\\xd3g\\xf1\\x8e\\xcc?G=_\\xe1\\xc5o\\x8d\\xb9\\x18\\x1a\\x97\\xc8s<\\x95\\xa8j\\xcc\\t\\nX$\\x84*C\\x0c\\x97\\x93\\x13\\xbb\\x05\\xfa\\xa9\\x9e\\xf1\\xb5\\xc3\\xba\\xb9\\xea\\xe9\\x03\\xea5\\xd8?\\xc2\\xec0\\xa8\\x1c\\xca\\x07\\xe4\\x17s\\xc8`\\xff\\x00\\xc8\\xf9.z\\xd7\\xac\\xc6!\\xf2\\x97\\xfct\\x80\\x8bX\\x8f\\xe4\\xa3?\\x95q\\xf3\\xdb\\x97\\xfej\\xca:c;\\xf3\\xbbb\\xa3\\x12\\xabe\\x1c^\\xeb\\t\\xb9\\xfc\\xc7\\x89\\xe1\\xd8<\\xca\\xcdtP\\x8ek\\x85\\xf9L\\xbb\\x08\\xcd\\x99\\x1c\\xe4\\x928\\x9cc\\xda<<\\xe9\\xeb\\xc9ky\\xa1r\\xec\\x01\\xce\\xe7\\x14\\xf5\\xacWv7%\\x15t\\x82G\\x0ck\\xb3\\x1cB\\x07!F8\\x93\\x91\\x96=\\xb5\\xcf\\xcfAQ+\\xb3\\x15\\xd9a\\x98\\xed%\\x0cyZ\\xcb\\x9d\\xe6\\xff\\x00\\xc2\\xa3\\xf4\\x87\\xa4`\\x9d\\xad\\xde\\x19\\x84\\xac\\xb1\\x04\\x91\\x82\\x95\\xc9^\\x07\\x07\\xb7\\xec\\xa6\\xd41\\xbe6ez\\xe61\\x19c\\x9aR\\xf8\\xf4\\x06\\xfa/~\\x8ef\\xdbk\\x9bl\\xe3\\xa6\\x85\\x8a\\x9e\\xc7M\\xe0\\x8e\\xfa\\xaf\\x13\\x8f<WZ0I\\xf9\\x1a\\xa6\\x93\\xb2\\xebE\\xbe\\xd2Kp4~\\xd1\\xc2\\x00n\\xa5\\xfa+\\x02g\\x7f\\xed\\xee4\\x93\\xf1\\x0b\\x1a;~\\xbb\\xd7L#\\xf7F\\xd4\\xbc\\xee\\xe6\\x8f\\xf7m\\xf2\\xd5a\\xf7\\xf7\\xa6id\\x95\\xbdi\\x1d\\x9c\\xf8\\xb1$\\xfdu\\xd5\\xb4e\\x00\\x05\\xc2;\\x9c\\xe2V\\xbf\\xa2\\xf4\\x03H\\xb6\\xb6\\xaa\\xe6&\\xb7\\xb7\\xe9\\x8b\\xaf\\x15\\x9aR6r9\\x8f[usUd\\xcd9\\xb1\\xd9\\xf4\\x17i\\x86=\\xb4TY\\xdc\\xdb\\xe66 \\xef\\x03S\\xe6B\\xa2\\xd6\\x8d]k\\xa6r\\x10G\\x7f\\x18\\xcc\\x91\\x8d\\xcbp\\xa3\\xf2\\x91v\\x93Z\\xe8\\xab\\x8bO\\'\"]\\x8a\\xe1,\\xcb\\xef4\\xda\\xb0\\xf8\\x83\\xc0\\xf5\\xa4\\xed\\\\\\xd6)\\xec&\\xe9\"8\\xe4\\xe8\\xdc\\x1b\\xb9\\x87h>\\xeam,M\\x95\\xb6+\\x9f\\x8aGD\\xeb\\x85W<\\xed#\\xb3\\xb6\\xf6v,{\\xcb\\x1c\\x9f\\x89\\xab\\x05\\x80\\xb2\\xac\\xdd\\xc6\\xe5n\\xfa\\xb7\\xa3\\xc2=\\xb4\\'\\x1b6\\xd6\\xfbM\\xfa\\xc9\\xb7d\\xf8\\xa8\\x7f}s\\x93\\xbf\\x94\\x98\\x95\\xd6\\xd3\\xb4\\xc3C\\xa6\\xd7\\x10;\\x9b\\xa9\\xf3\\xb2\\xb0\\xb9\\xd5\\xcc\\x03\\xf2gP\\x8cI0\\xc8\\xbbq\\x12x\\xec\\x8e(Ov\\xee;\\xaa\\x009\\x86\\xec6S5Q\\xcc2\\xd537X\\xd1\\xdd\\xfc}z\\xd2\\xed\\xe6\\xa8!\\xf5\\xf4`\\'\\xff\\x00o>\\xc8\\xf76\\xcdhmuCz\\xd6c\\x86a\\xf2\\x1b\\xb6Kv\\x83\\xff\\x00\\xc6\\xea\\xb6\\xfbT\\xed\\xd1\\x19\\xdfG\\xdc\\xc6\\x8a\\tf\\xf9Dgd\\x0ex\\xdb9\\xc7eO\\xed)\\xc6\\xa4z/[\\x81RH\\xe0\\xc8\\xe6\\x17;4w\\xc9$\\xebf\\x87\\x16\\x93\\xf4j\\xe5\\xd1\\x91]I\\x18;.7\\x06\\x1d\\xb4\\xde\\x9a~Y\\x99\\x975WM\\xc8Jc\\xe0\\x9e\\xb52\\xe5\\x8cZ2C\\xbd\\x96Y\\xe1\\x07\\xfb\\xb3\\xbf\\x7fp\\xc6)&\"\\xd0\\xda\\x90B\\xea0g\\x17\\xd0L\\xc7l\\x00\\x1e\\xf0\\x7f\\x95\\xaaUk\"(B\\xa3\\xd7+\\x82\\x96\\xae\\xab\\xeb\\xcb\\x88\\x97\\x1cs!\\x0b\\x9f,\\xe7\\xca\\xaa\\x98\\xd9\\x89\\x86\\x19\\x18uCI\\xd8\\xdeq\\xee\\xd5b^\\x92\\xae\\xc3^\\x18\\x97\\xd4\\xb7E\\x88\\x0e]Q\\xbf\\x1et\\xf2\\x8a<\\x91\\x05\\xcfW\\xcae\\x9d\\xce)\\x83\\xd1\\x9f\\xf5k\\x1b\\xeb\\xe28)D\\xef d\\x8fyZ\\x85W>F\\xb1{L2\\xb1\\xcfY\\xc4H\\xd20Q\\xbd\\x9d\\x80\\x1d\\xec\\xc7\\x03\\xe2kq \\x0b\\xac@\\\\\\xaf\\xd0z\\xb1f\\x05\\xdc\\xa1}KXa\\xb5O\\xd9]\\xa6#\\xbf\\'\\x06\\xb9\\x9c\\xd9\\xe6s\\xcf\\xd6\\xf5\\xd8J\\xdeF\\x82(\\xbfQ.>\\x83\\xd2\\xea\\xebN\\xe8d\\xb9@\\t)\"\\x9d\\xa8\\xe4]\\xcd\\x1b\\x0e\\x04\\x1f\\xacs\\xaf^\\xc0\\xf0\\xb3\\xd2U\\xbe\\x9d\\xd7\\x1a\\x83\\xa1\\x07a\\x0b+\\xd6\\xedXk\\x86n\\xa8\\x8e\\xfd\\x06]F\\xe4\\xbbQ\\xf9H\\xb9\\t;V\\xb5\\xd1W\\x16\\x9eJUV\\'\\x85\\xb1\\xcd\\xf7\\x9a]Xv\\x8d\\xed<\\x0f\\xc0\\xefY\\xcd\\xad\\xabI*B\\x06\\x1d\\xdc \\x07\\x931\\x03x\\xf14\\xe4\\xb8\\x01u\\xce\\xb5\\xb7u\\x96\\x83\\xe9\\x9e\\xe9RK[4\\xdc\\x90E\\x9c~\\x97UA\\xef\\n\\x9f\\xc5X\\xe8\\x85\\xc3\\x9ew\\x95\\xaa\\xac\\x81f\\r\\xc9{P\\xf4\\xc5\\xbd\\xac\\x92\\xbc\\xec\\xeaZ&\\x8d\\n.\\xd1\\x1b|N29\\x01VU\\xc4\\xe9Y\\x95\\xa8\\xa2\\x99\\x90\\xca$p\\xbd\\xb7&k=q\\x82$X\\xe3\\xd27J\\x8a0\\xa3\\xe4\\xd1n\\x1e{\\xe9X\\xc3f\\x02\\xc1\\xcb\\xa1\\x93\\x1d\\xa4\\x91\\xe5\\xef\\xa7\\x04\\x9d\\xba\\xb9s\\xbe\\xd7\\x9br\\x08k\\x8d!?\\xd1\\x068\\x10\\xf71^\\xb6<\\xaam\\xc3d=\\'*N=\\x13?\\x06\\x06\\x83\\xc4\\x8b\\xfa\\x9f\\x82Z\\xd2:\\xd94\\xcam\\xed\\xe2[x\\x9f\\x8cqe\\x9eO\\xd6Hz\\xf2|\\x069V\\xf8(\\xe2\\x87Q\\xb5)\\xac\\xc4\\xaak\\x1d\\xf7\\x8e\\xbf\\xd7\\r\\x9e\\n\\xdb@j6\\xca\\xac\\xfa@\\x98\\xa2\\xf6a\\x1f\\x8d\\x98\\xf2P\\xa3x\\x07\\xdf\\xe1\\xc6\\xaa\\xa9\\xaflb\\xcd\\xda\\xa7C\\x85KR\\xfb\\x01\\xdb\\xc3\\xbc\\xeeL\\x1a[HJ\\x89{3\\xa8\\x88An\\xb0A\\x12\\xf0\\x88\\xdc``cv\\xda\\xa8\\x04\\xff\\x00!J\\xe8\\xc3\\xa6\\xa9\\xbb\\xf7\\x7f\\x95\\xd1b\\x82\\x1a\\\\9\\xb1C\\xaebI<m\\xa7\\x86\\xbav,\\xc3C\\xd9\\x99\\xe7\\x8a\\x11\\xf9GU\\xdd\\xd8N\\xff\\x00p\\xc9\\xae\\x89\\xef\\xca\\xd2W\\x18\\xc6\\xe6p\\x0bR\\xd3\\xb3$r\\xcfy?\\xff\\x00\\x8f\\x1b,p\\xc5\\x9c|\\xa2HA\\x08?V\\xa7,yn\\xe0q\\\\\\xd44\\xee\\xa8\\x98\\xf0]\\xc5Es((Y\\x13?\\x10\\x82{3|O\\x90\\xedY\\xd6\\xd5\\xce\\x92\\xbb\\xf9\\xf3L\\xdeJ>\\xc4Q\\xf5WG\\xcc\\x85\\x9dAq6t\\xaf\\xebM\\x12j5\\x9a\\x92\\xa7H1*pvm\\x99\\x86G\\x1c0l\\x1d\\xf4\\xb4\\xe2\\xcd\\x07g\\xd7\\x82v\\xdfgj\\x1c\\xd0m\\xb7\\xac\\x0fR\\xbc\\xff\\x00Bl\\xbf\\xf5\\t?\\xca?\\xdf^}\\xac\\xde\\x1e\\xbf%/\\xe9\\xca\\x8f\\xa2\\xdf\\x9a\\x87\\xa6\\xf5>\\x18\\xad\\xa5\\x9e\\x0b\\xb31\\x84\\xa6\\xda\\x18Ld\\t\\x1bd\\x1d\\xed\\xdb\\xddW\\xd3W\\x89\\x9f\\x94\\x05\\x8a\\xbb\\t\\x96\\x91\\x81\\xef\\xdf\\xb3g\\xc3\\xb5Q\\xea\\x9e\\x91\\xe8/ \\x97\\x92\\xc8\\xb9\\xf0m\\xc7=\\xd85\\xb2f\\xe6a\\t|\\'+\\xc1O\\xda}Z\\xd6\\xdfH1;\\x89\\x16\\xd0~\\x8c\\xcd\\xd2H\\x07qS\\xf0\\xa48|?~o\\xbb\\xfc\\xae\\xbf\\x1c\\xabk\\xa8\\xa2\\r\\xda\\xe1wv\\x8eh\\xf2\\x05g\\xfa\\xafc\\xf2\\x8b\\xb8\"\\xf9\\xd2.|\\x01\\xc9\\xf8\\n}+\\xf2\\xb0\\x95\\xc7\\xc4\\xcc\\xcf\\x01~\\x80\\xd5t\\x0f%\\xcc\\xfc\\x9eM\\x84?B\\x11\\xb2\\x07\\x93m\\xd79\\x1e\\xa4\\xb9uu\\xdc\\xc8\\xe2\\x87\\x83n{]\\xaf\\xa5\\x94\\x9db\\xd0It\\x83yIS|R\\xaf\\xac\\x8d\\xf6\\xa9\\xe6+\\xd9#\\x0f\\x1dj\\xba*\\xd7S8\\xefi\\xe9\\x03\\xb0\\x8f\\x9f\\x02\\xb2\\xbdj\\xd5\\xb6\\xb9g\\xea\\x08\\xef\\xe3\\x19t\\x1b\\x96\\xe5G\\xe5\"\\xfa}\\xa3\\x9dl\\xa2\\xae-<\\x94\\xaa\\x9cW\\nao\\xbc\\xd3j\\xc3\\xe2\\x0f\\x02\\x945?G\\x19\\xef\\xa0\\x88\\x83\\xf8\\xc0[w\\x00\\xa7\\'#\\xca\\x9a\\xcc\\xfc\\xb1\\x92\\xb9\\xf8Yy\\x00Nz\\xdf\\xad6\"\\xeaM\\x9bf\\xb9`vK4\\xcc\\x88\\xbb;\\xb6QS\\x88\\x1d\\xa6\\x96\\xc7\\x86\\t9\\xef;S\\xdf\\xea\\t\\xe9\\xd8!\\x86\\xc0\\x0e\\xa1\\xf1\\x05Q\\xb6\\xb5Z\\x13\\x9f\\xfaj\\xf9]N>\\x00\\xd4\\xce\\x11\\x17\\x1f\\xaf\\x15\\xe0\\xf6\\xa2\\xb8o\\xf2o\\xc9t\\x1a\\xdbf8h\\xe6_\\x0b\\xe9\\xbf\\xdb^}\\x91\\x1f\\xea\\xf5\\xf9\\xa9\\x7fTU\\xef\\xb1\\xff\\x00k\\x7f\\xf5^d\\xd7\\x0bq\\xbd4z\\xed\\x8e\\x06[\\x99fQ\\xe3\\x19\\xd9\\x07\\xce\\xa4\\xdc&0nM\\xfe\\xbbT$\\xf6\\x96\\xb1\\xcd!\\xa4\\x0e\\xc0\\x07\\xa0\\x07\\xcdSm\\\\\\xe9\\x0b\\x9erM!\\xe40\\x00\\xfa\\x95@\\xa6<\\xc8Y\\xc0\\x04\\x80\\xe7\\x99\\xf7:\\x92\\xb5\\xddV\\xd1j\\'\\x86\\x08\\xce\\xd4V\\x11\\xb0g\\xe4\\xf7\\x12\\x9c\\xbe<>\\x19\\xc5s\\x92\\xcb\\xcb\\xce_\\xb8.\\xc68\\xbd\\xcb\\x0e\\xc8zR[\\xf6\\x8f\\x99\\xf2O\\xb54\\xad\\x14!(k\\x86\\x92X\\xeemU\\xc3\\x94B\\xd2\\xb1T-\\xd6\\x03e\\x01\\x03\\xc5\\xbd\\xd5\\x9eW\\x00\\xf6\\xdf\\xb5:\\xc3i\\xdc\\xfayK\\x08\\xccl\\xd1sm6\\x9f\\x82\\xcd\\xafuf\\xd6Y\\x1eF\\xb9\\xb9\\xcb\\xb1c\\xfdY\\xb9\\x9c\\xd3\\x06\\xe2\\xad\\x02\\xd9R\\xf7{7PM\\xf37\\xf7\\x05y\\xd1Z\\xff\\x00\\xd3\\xbf\\xe9\\xe2Y\\xc0/\\xb4\\xcf\\xf2v\\xcbu\\xb6\\xb0G\\x88\\x1eB\\xaa\\xfbA\\xbc\\xa7)b\\xac\\xfe\\x9f\\xa8\\xe4\\xf2]\\xbf\\xb8*\\x8d\\x13\\xab\\xb6pO\\x14\\xdd=\\xc3tR#\\xec\\x9bf\\xdf\\xb0\\xc0\\xe3\\xe1V;\\x14k\\x9aF]\\xaa\\xb6\\xfb78 \\xe6o\\xee\\x0bS\\xd4xX[t\\x8e\\x08y\\xe4\\x92f\\x07\\x97H\\xc7\\x1f\\xc3\\xb3X\\xa0\\x1c\\xdb\\x9d\\xfa\\xad\\x18\\xb3\\xc1\\xa8\\xc8\\xdd\\x8c\\x01\\xa3\\xb8|\\xee\\x98*\\xe4\\xb5Vi\\xdd\\x0c\\x97H\\x03\\x12\\xae\\xa7j9\\x17s#r \\xfd\\x95\\x07\\xb0<-t\\x95o\\xa7}\\xc6\\xa0\\xe8A\\xd8BB::\\x14\\xbe\\x8e{\\xb4x\\xee!l\\xb1\\x8e2\\xd1\\xdcn!d\\xdc:\\xac8\\x9e\\xf1Sek\\xd9\\x19\\x89\\xea\\xf9\\xb0\\x86L\\xf1=)\\x19N\\xe2@ \\xf0\\xf9\\x15\\x13Yu~\\xca\\xf6\\xe6K\\x87\\xbb\\x99K\\xe3\\xaa!l\\x00\\xaa\\x14\\x01\\xd5\\xec\\x15tx\\x88\\x8d\\xa1\\xa0z\\xac\\xb2`S\\xbd\\xd9\\x8d\\xbcG\\xcdU\\xff\\x00At\\x7f\\xf6\\xc9\\xff\\x00\\xc1?\\xed\\xab>\\xd5\\x1c=T?\\xa7\\xe6\\xfa#\\xe6\\x83\\xa8\\xda?\\xfbd\\xff\\x00\\xe0\\x9f\\xf6\\xd1\\xf6\\xa8\\xe1\\xea\\x8f\\xe9\\xf9\\xba\\xbcB\\x93e\\xa9\\x9a?;\\x92\\xfe\\x7f\\xfbET\\xfe\\xd0\\x03\\x15\\x03\\x8a<\\xf4G\\x92\\xb3\\xec\\x0c\\x9a\\xbd\\xed\\x1f\\xee\\x1e\\x83T\\xd7\\xa1\\xb4\\x0c\\xb1\\x81\\xf2[8m;d\\x94\\x89d\\xf7\\x03\\x8f\\xe2\\x15\\x99\\xf3\\xcf.\\xdd\\x16\\x86S\\xe1\\xf4\\xfb\\\\^\\x7f\\xb4Xx\\x9d|\\x93\\x06\\x8c\\xd5\\xe8\\xe1n\\x9aFi\\xe6\\xc7\\xe3$\\xdeG\\xe8(\\xdc\\xa3\\xc0T\\x1b\\x18\\x06\\xe7R\\xa3={\\xe5o&\\xc0\\x1a\\xce\\x03\\xe2w\\xf7\\xa4+\\xd8a\\xba\\x81\\xe3\\xb8\\x17q\\xb3\\xdc\\xbc\\xed\\xd1\\xc0\\xc7;\\x8a \\xc9S\\xbbg\\x07\\xc4\\xd1KS\\xc8\\x92\\xebjz\\x96\\xfcG\\x0cuNF\\xb5\\xed\\xca\\xd6\\x809\\xc3\\xb4\\xf9\\x92\\xa3h-\\x01ckq\\x1d\\xc25\\xfb4g 5\\xb1\\xc1\\xdcF\\xfc\\'}j\\x93\\x12/ii\\x1eE-f\\x00\\xf6\\x1b\\x877\\xf7\\xb5I\\xd6m\\x1dg{ y\\x1e\\xfdU\\x06\\xcaF\\x96\\xc7e\\x07<\\x02\\x9cI\\xdeMF\\x1a\\xe1\\x13l\\xd6\\xf9\\x159\\xb0I\\xa6vg\\xbd\\xb7\\xff\\x00\\xbd\\xab\\xa6\\xad\\xe8H\\xa2\\xda\\x86\\xc8\\\\t\\x93ny\\xe6\\x88\\xa7E\\x18\\xf5\\xb6\\x0e\\xc8\\x195\\t\\xea\\xdf=\\x9a\\x05\\x95\\xb4\\xd8dt$\\xcd1i\\xb6\\xc0\\x1c\\r\\xce\\xed\\x9b\\xb8\\xad*\\xc3G\\xc7\\x0ck\\x1a(\\n\\xa3\\x03\\xef=\\xa6\\xa2\\xd6\\x86\\x8b\\x05\\x86i\\xdf+\\xcb\\xdcu*GF;\\x07\\xba\\xa4\\xaa\\xccx\\xa4\\xbdn\\xb2\\x02v\\xda\\x8aW\\x82\\xe6\\xd9\\xe2\\x93\\xa1\\x8c\\xbb+\\x02\\n6\\x00\\xdcFN3Ug1J\\x1e\\x02k\\x0cm\\xab\\xa2t\\x05\\xc08:\\xe31\\x03B5\\xdb\\xe2\\x92\\xce\\xa5X\\xfc\\xcd\\'\\xfeY\\xbf\\xdb[>\\xd5w\\xe9>\\x05a\\xfe\\x9f\\xff\\x00\\xf6\\xb3\\xf7\\xb51\\xeb$V\\xf7\\xb1G\\x14\\x91i\\x05\\x11\\x9c\\x92\\xb6\\xcc\\x0b\\x90\\xa1An\\xaf\\x10\\x07\\xc6\\xa8\\x8a\\xb7\\x93q!\\xa7^\\xa2\\xaf\\x97\\x07|\\x8d\\r2\\xb3O\\xefj\\xa9\\xd0\\xfa\\x06\\xd6\\xd2Q<1\\xe9\\x16\\x91\\x01\\xd9\\rl\\xd8$\\x827\\xf5jr\\xe2.{Kr\\x9f\\x02\\xa3\\x0e\\x05\\x91\\xe0\\x99Y\\xfb\\xda\\xb4\\xcd^\\xb41[\\xc4\\x8d\\xeb\\x05\\x05\\xbfH\\xefc\\xef&\\xa9\\x8d\\xb6h\\n\\x15\\x92\\x89gs\\x86\\xcb\\xe9\\xd9\\xb9X\\xd4\\xd6UW\\xa7\\xf4\"] \\x04\\x94\\x91w\\xc7\"\\xfa\\xc8\\xdc\\x88=\\x9d\\xd5\\\\\\x91\\x87\\x85\\xb2\\x8e\\xb1\\xf4\\xce\\xb8\\xd5\\xa7h;\\x08H\\xd6\\xb6\\xe9\\x05\\xd3\\xcdu\\x04\\xc9t\\x11\\xa3i \\x88\\xbaJ\\x18`J07>8\\xfcjM\\xab{Y\\xc9\\xbclZf\\xc2b\\x99\\xfc\\xb5+\\xc0i\\xdcH\\x04uj\\xa9c\\xd5M\\x1a8\\xfc\\xbd\\xbb\\xcc\\x0f\\xf6-i8\\xa3\\xb8y,\\x7f\\xd3\\x8f\\xfdm\\xfd\\xed^\\x1bT\\xb4on\\x90\\x1f\\xf6\\x1bw\\xf0W\\xbfj\\xbb\\x87\\x91^\\x7fN?\\xf5\\xb7\\xf7\\xb5s\\xfe\\x87h\\xff\\x00\\x9f\\xa4?\\xcb\\xff\\x00\\xf0\\xaf~\\xd5w\\xe9\\xf2+\\xdf\\xe9\\xc7~\\xb6\\xfe\\xf6\\xa90jU\\x8eGSH\\xc9\\xdc`*\\x0f\\xedl\\x80+\\xc3\\x8a<\\xeco\\x91Q\\xfb\\x00\\r]#?x>\\x9a\\xa6\\xad\\r\\xab\\x92*\\x98\\xe0\\x80YD\\xdb\\x9d\\xc9\\x0f;\\x8e\\xc0x/\\x8e|\\xab,\\x92\\xcd7K@\\xb5\\xc5\\x1d\\r\\x1e\\xad\\xfb\\xc7x7\\xbe\\xfa\\x94\\xe1\\xa2\\xf4tv\\xf1\\xacQ.\\xca\\xaf\\xbc\\x93\\xc4\\x93\\xcc\\x9e\\xda\\x1a\\xd0\\xd1`\\xb1\\xd4O$\\xf2\\x19$7%K\\xa9*QB\\x11B\\x17\\xccP\\x84b\\x84#\\x14!}\\xa1\\x08\\xa1\\x08\\xa1\\x08\\xa1\\x0b\\xe6(B1B\\x11\\x8a\\x10\\xbe\\xd0\\x84P\\x84P\\x84P\\x84P\\x84P\\x84P\\x84P\\x84P\\x84P\\x84P\\x84P\\x84P\\x84P\\x84P\\x84P\\x84P\\x84P\\x84P\\x84P\\x84P\\x84P\\x84P\\x84P\\x84P\\x85\\xff\\xd9'"
      ]
     },
     "execution_count": 45,
     "metadata": {},
     "output_type": "execute_result"
    }
   ],
   "source": [
    "data"
   ]
  },
  {
   "cell_type": "code",
   "execution_count": 46,
   "metadata": {},
   "outputs": [],
   "source": [
    "data = data[:len(data)//2]"
   ]
  },
  {
   "cell_type": "code",
   "execution_count": 47,
   "metadata": {},
   "outputs": [],
   "source": [
    "f = open('mumbai123.jpg','wb')"
   ]
  },
  {
   "cell_type": "code",
   "execution_count": 48,
   "metadata": {},
   "outputs": [
    {
     "data": {
      "text/plain": [
       "9434"
      ]
     },
     "execution_count": 48,
     "metadata": {},
     "output_type": "execute_result"
    }
   ],
   "source": [
    "f.write(data)"
   ]
  },
  {
   "cell_type": "code",
   "execution_count": 49,
   "metadata": {},
   "outputs": [],
   "source": [
    "f.close()"
   ]
  },
  {
   "cell_type": "code",
   "execution_count": 50,
   "metadata": {},
   "outputs": [],
   "source": [
    "from IPython.display import Image"
   ]
  },
  {
   "cell_type": "code",
   "execution_count": 51,
   "metadata": {},
   "outputs": [
    {
     "data": {
      "image/jpeg": "[encoded data removed]",
      "text/plain": [
       "<IPython.core.display.Image object>"
      ]
     },
     "execution_count": 51,
     "metadata": {},
     "output_type": "execute_result"
    }
   ],
   "source": [
    "Image('mumbai123.jpg')"
   ]
  },
  {
   "cell_type": "code",
   "execution_count": 52,
   "metadata": {},
   "outputs": [
    {
     "data": {
      "image/jpeg": "[encoded data removed]",
      "text/plain": [
       "<IPython.core.display.Image object>"
      ]
     },
     "execution_count": 52,
     "metadata": {},
     "output_type": "execute_result"
    }
   ],
   "source": [
    "Image('mumbai.jpg')"
   ]
  },
  {
   "cell_type": "code",
   "execution_count": 53,
   "metadata": {},
   "outputs": [
    {
     "data": {
      "text/plain": [
       "True"
      ]
     },
     "execution_count": 53,
     "metadata": {},
     "output_type": "execute_result"
    }
   ],
   "source": [
    "f.closed"
   ]
  },
  {
   "cell_type": "code",
   "execution_count": 54,
   "metadata": {},
   "outputs": [],
   "source": [
    "f = open('percentage.txt','w')\n",
    "\n",
    "s = 'Name\\tP\\tC\\tM'\n",
    "f.write(s)\n",
    "f.close()"
   ]
  },
  {
   "cell_type": "code",
   "execution_count": 56,
   "metadata": {},
   "outputs": [
    {
     "name": "stdout",
     "output_type": "stream",
     "text": [
      "Enter NameSamyak\n",
      "Physics98\n",
      "Chemistry98\n",
      "Maths91\n",
      "Enter NameSachin\n",
      "Physics99\n",
      "Chemistry98\n",
      "Maths91\n",
      "Enter NameRajat\n",
      "Physics95\n",
      "Chemistry95\n",
      "Maths95\n",
      "Enter NameNidhi\n",
      "Physics81\n",
      "Chemistry82\n",
      "Maths91\n",
      "Enter NameSimran\n",
      "Physics95\n",
      "Chemistry96\n",
      "Maths85\n"
     ]
    }
   ],
   "source": [
    "f = open('percentage.txt','a')\n",
    "for i in range(5):\n",
    "    \n",
    "    s = f\"\\n{input('Enter Name')}\\t{input('Physics')}\\t{input('Chemistry')}\\t{input('Maths')}\"\n",
    "    f.write(s)\n",
    "    \n",
    "f.close()"
   ]
  },
  {
   "cell_type": "code",
   "execution_count": 57,
   "metadata": {},
   "outputs": [
    {
     "name": "stdout",
     "output_type": "stream",
     "text": [
      "Name\tP\tC\tM\n",
      "Samyak\t98\t98\t91\n",
      "Sachin\t99\t98\t91\n",
      "Rajat\t95\t95\t95\n",
      "Nidhi\t81\t82\t91\n",
      "Simran\t95\t96\t85\n"
     ]
    }
   ],
   "source": [
    "!type percentage.txt"
   ]
  },
  {
   "cell_type": "code",
   "execution_count": 58,
   "metadata": {},
   "outputs": [],
   "source": [
    "f = open('percentage.txt')"
   ]
  },
  {
   "cell_type": "code",
   "execution_count": 59,
   "metadata": {},
   "outputs": [],
   "source": [
    "data = f.read()"
   ]
  },
  {
   "cell_type": "code",
   "execution_count": 60,
   "metadata": {},
   "outputs": [
    {
     "name": "stdout",
     "output_type": "stream",
     "text": [
      "Name\tP\tC\tM\n",
      "Samyak\t98\t98\t91\n",
      "Sachin\t99\t98\t91\n",
      "Rajat\t95\t95\t95\n",
      "Nidhi\t81\t82\t91\n",
      "Simran\t95\t96\t85\n"
     ]
    }
   ],
   "source": [
    "print(data)"
   ]
  },
  {
   "cell_type": "code",
   "execution_count": 61,
   "metadata": {},
   "outputs": [
    {
     "data": {
      "text/plain": [
       "'Name\\tP\\tC\\tM\\nSamyak\\t98\\t98\\t91\\nSachin\\t99\\t98\\t91\\nRajat\\t95\\t95\\t95\\nNidhi\\t81\\t82\\t91\\nSimran\\t95\\t96\\t85'"
      ]
     },
     "execution_count": 61,
     "metadata": {},
     "output_type": "execute_result"
    }
   ],
   "source": [
    "data"
   ]
  },
  {
   "cell_type": "code",
   "execution_count": 62,
   "metadata": {},
   "outputs": [],
   "source": [
    "data = data.split('\\n')"
   ]
  },
  {
   "cell_type": "code",
   "execution_count": 63,
   "metadata": {},
   "outputs": [
    {
     "data": {
      "text/plain": [
       "['Name\\tP\\tC\\tM',\n",
       " 'Samyak\\t98\\t98\\t91',\n",
       " 'Sachin\\t99\\t98\\t91',\n",
       " 'Rajat\\t95\\t95\\t95',\n",
       " 'Nidhi\\t81\\t82\\t91',\n",
       " 'Simran\\t95\\t96\\t85']"
      ]
     },
     "execution_count": 63,
     "metadata": {},
     "output_type": "execute_result"
    }
   ],
   "source": [
    "data"
   ]
  },
  {
   "cell_type": "code",
   "execution_count": 64,
   "metadata": {},
   "outputs": [
    {
     "data": {
      "text/plain": [
       "'Sachin\\t99\\t98\\t91'"
      ]
     },
     "execution_count": 64,
     "metadata": {},
     "output_type": "execute_result"
    }
   ],
   "source": [
    "data[2]"
   ]
  },
  {
   "cell_type": "code",
   "execution_count": 65,
   "metadata": {},
   "outputs": [],
   "source": [
    "data1 = data[2]"
   ]
  },
  {
   "cell_type": "code",
   "execution_count": 66,
   "metadata": {},
   "outputs": [
    {
     "data": {
      "text/plain": [
       "'Sachin\\t99\\t98\\t91'"
      ]
     },
     "execution_count": 66,
     "metadata": {},
     "output_type": "execute_result"
    }
   ],
   "source": [
    "data1"
   ]
  },
  {
   "cell_type": "code",
   "execution_count": 70,
   "metadata": {},
   "outputs": [
    {
     "name": "stdout",
     "output_type": "stream",
     "text": [
      "Samyak got 95.67%\n",
      "Sachin got 96.0%\n",
      "Rajat got 95.0%\n",
      "Nidhi got 84.67%\n",
      "Simran got 92.0%\n"
     ]
    }
   ],
   "source": [
    "for data1 in data[1:]:\n",
    "    data2 = data1.split('\\t')\n",
    "    s = 0\n",
    "    for i in data2[1:]:\n",
    "        s=s+int(i)\n",
    "    per = round(s/3,2)\n",
    "    print(f\"{data2[0]} got {per}%\")"
   ]
  },
  {
   "cell_type": "markdown",
   "metadata": {},
   "source": [
    "        Attandance System "
   ]
  },
  {
   "cell_type": "markdown",
   "metadata": {},
   "source": [
    "        Advanced File Handling"
   ]
  },
  {
   "cell_type": "code",
   "execution_count": 71,
   "metadata": {},
   "outputs": [],
   "source": [
    "d = {1001:{'Name':'Sachin','Bal':10000,'Pwd':'redhat'}}"
   ]
  },
  {
   "cell_type": "code",
   "execution_count": 72,
   "metadata": {},
   "outputs": [],
   "source": [
    "f=open('bank.txt','w')"
   ]
  },
  {
   "cell_type": "code",
   "execution_count": 75,
   "metadata": {},
   "outputs": [
    {
     "data": {
      "text/plain": [
       "57"
      ]
     },
     "execution_count": 75,
     "metadata": {},
     "output_type": "execute_result"
    }
   ],
   "source": [
    "f.write(str(d))"
   ]
  },
  {
   "cell_type": "code",
   "execution_count": 76,
   "metadata": {},
   "outputs": [],
   "source": [
    "f.close()"
   ]
  },
  {
   "cell_type": "code",
   "execution_count": 77,
   "metadata": {},
   "outputs": [],
   "source": [
    "f= open('bank.txt')"
   ]
  },
  {
   "cell_type": "code",
   "execution_count": 79,
   "metadata": {},
   "outputs": [],
   "source": [
    "data = f.read()"
   ]
  },
  {
   "cell_type": "code",
   "execution_count": 81,
   "metadata": {},
   "outputs": [
    {
     "name": "stdout",
     "output_type": "stream",
     "text": [
      "{1001: {'Name': 'Sachin', 'Bal': 10000, 'Pwd': 'redhat'}}\n"
     ]
    }
   ],
   "source": [
    "print(data)"
   ]
  },
  {
   "cell_type": "code",
   "execution_count": 82,
   "metadata": {},
   "outputs": [
    {
     "data": {
      "text/plain": [
       "str"
      ]
     },
     "execution_count": 82,
     "metadata": {},
     "output_type": "execute_result"
    }
   ],
   "source": [
    "type(data)"
   ]
  },
  {
   "cell_type": "code",
   "execution_count": 87,
   "metadata": {},
   "outputs": [],
   "source": [
    "data = data[1:-1].split(':',1)[-1][1:]"
   ]
  },
  {
   "cell_type": "code",
   "execution_count": 90,
   "metadata": {},
   "outputs": [],
   "source": [
    "data= data[1:-1]"
   ]
  },
  {
   "cell_type": "code",
   "execution_count": 91,
   "metadata": {},
   "outputs": [
    {
     "data": {
      "text/plain": [
       "\"'Name': 'Sachin', 'Bal': 10000, 'Pwd': 'redhat'\""
      ]
     },
     "execution_count": 91,
     "metadata": {},
     "output_type": "execute_result"
    }
   ],
   "source": [
    "data"
   ]
  },
  {
   "cell_type": "code",
   "execution_count": 95,
   "metadata": {},
   "outputs": [
    {
     "name": "stdout",
     "output_type": "stream",
     "text": [
      "'Name'  'Sachin'\n",
      " 'Bal'  10000\n",
      " 'Pwd'  'redhat'\n"
     ]
    }
   ],
   "source": [
    "for i in data.split(','):\n",
    "    print(*i.split(':'))"
   ]
  },
  {
   "cell_type": "code",
   "execution_count": 96,
   "metadata": {},
   "outputs": [],
   "source": [
    "f=open('bank.txt')"
   ]
  },
  {
   "cell_type": "code",
   "execution_count": 97,
   "metadata": {},
   "outputs": [],
   "source": [
    "data = f.read()"
   ]
  },
  {
   "cell_type": "code",
   "execution_count": 99,
   "metadata": {},
   "outputs": [],
   "source": [
    "x = eval(data)"
   ]
  },
  {
   "cell_type": "code",
   "execution_count": 100,
   "metadata": {},
   "outputs": [
    {
     "data": {
      "text/plain": [
       "dict"
      ]
     },
     "execution_count": 100,
     "metadata": {},
     "output_type": "execute_result"
    }
   ],
   "source": [
    "type(x)"
   ]
  },
  {
   "cell_type": "code",
   "execution_count": 101,
   "metadata": {},
   "outputs": [
    {
     "name": "stdout",
     "output_type": "stream",
     "text": [
      "Enter Expression45+98\n",
      "143\n",
      "Enter Expression657*6\n",
      "3942\n",
      "Enter Expression23+97\n",
      "120\n",
      "Enter Expressionjdhgfd\n"
     ]
    },
    {
     "ename": "NameError",
     "evalue": "name 'jdhgfd' is not defined",
     "output_type": "error",
     "traceback": [
      "\u001b[1;31m---------------------------------------------------------------------------\u001b[0m",
      "\u001b[1;31mNameError\u001b[0m                                 Traceback (most recent call last)",
      "\u001b[1;32m<ipython-input-101-fa2a812ab11c>\u001b[0m in \u001b[0;36m<module>\u001b[1;34m\u001b[0m\n\u001b[0;32m      1\u001b[0m \u001b[1;32mwhile\u001b[0m \u001b[1;32mTrue\u001b[0m\u001b[1;33m:\u001b[0m\u001b[1;33m\u001b[0m\u001b[1;33m\u001b[0m\u001b[0m\n\u001b[1;32m----> 2\u001b[1;33m     \u001b[0mprint\u001b[0m\u001b[1;33m(\u001b[0m\u001b[0meval\u001b[0m\u001b[1;33m(\u001b[0m\u001b[0minput\u001b[0m\u001b[1;33m(\u001b[0m\u001b[1;34m'Enter Expression'\u001b[0m\u001b[1;33m)\u001b[0m\u001b[1;33m)\u001b[0m\u001b[1;33m)\u001b[0m\u001b[1;33m\u001b[0m\u001b[1;33m\u001b[0m\u001b[0m\n\u001b[0m",
      "\u001b[1;32m<string>\u001b[0m in \u001b[0;36m<module>\u001b[1;34m\u001b[0m\n",
      "\u001b[1;31mNameError\u001b[0m: name 'jdhgfd' is not defined"
     ]
    }
   ],
   "source": [
    "while True:\n",
    "    print(eval(input('Enter Expression')))"
   ]
  },
  {
   "cell_type": "code",
   "execution_count": 102,
   "metadata": {},
   "outputs": [],
   "source": [
    "import json"
   ]
  },
  {
   "cell_type": "code",
   "execution_count": 103,
   "metadata": {},
   "outputs": [],
   "source": [
    "import pickle"
   ]
  },
  {
   "cell_type": "code",
   "execution_count": 104,
   "metadata": {},
   "outputs": [],
   "source": [
    "d = {'Name':'Samyak','Course':'DS'}"
   ]
  },
  {
   "cell_type": "code",
   "execution_count": 105,
   "metadata": {},
   "outputs": [
    {
     "data": {
      "text/plain": [
       "dict"
      ]
     },
     "execution_count": 105,
     "metadata": {},
     "output_type": "execute_result"
    }
   ],
   "source": [
    "type(d)"
   ]
  },
  {
   "cell_type": "markdown",
   "metadata": {},
   "source": [
    "        JSON ---> dump,dumps, load,loads"
   ]
  },
  {
   "cell_type": "code",
   "execution_count": 106,
   "metadata": {},
   "outputs": [],
   "source": [
    "x = json.dumps(d) # serialization"
   ]
  },
  {
   "cell_type": "code",
   "execution_count": 107,
   "metadata": {},
   "outputs": [
    {
     "data": {
      "text/plain": [
       "'{\"Name\": \"Samyak\", \"Course\": \"DS\"}'"
      ]
     },
     "execution_count": 107,
     "metadata": {},
     "output_type": "execute_result"
    }
   ],
   "source": [
    "x"
   ]
  },
  {
   "cell_type": "code",
   "execution_count": 108,
   "metadata": {},
   "outputs": [
    {
     "data": {
      "text/plain": [
       "str"
      ]
     },
     "execution_count": 108,
     "metadata": {},
     "output_type": "execute_result"
    }
   ],
   "source": [
    "type(x)"
   ]
  },
  {
   "cell_type": "code",
   "execution_count": 109,
   "metadata": {},
   "outputs": [],
   "source": [
    "y = json.loads(x) # deserialization"
   ]
  },
  {
   "cell_type": "code",
   "execution_count": 110,
   "metadata": {},
   "outputs": [
    {
     "data": {
      "text/plain": [
       "{'Name': 'Samyak', 'Course': 'DS'}"
      ]
     },
     "execution_count": 110,
     "metadata": {},
     "output_type": "execute_result"
    }
   ],
   "source": [
    "y"
   ]
  },
  {
   "cell_type": "code",
   "execution_count": 111,
   "metadata": {},
   "outputs": [
    {
     "data": {
      "text/plain": [
       "dict"
      ]
     },
     "execution_count": 111,
     "metadata": {},
     "output_type": "execute_result"
    }
   ],
   "source": [
    "type(y)"
   ]
  },
  {
   "cell_type": "code",
   "execution_count": 112,
   "metadata": {},
   "outputs": [],
   "source": [
    "f = open('hello.txt','w')"
   ]
  },
  {
   "cell_type": "code",
   "execution_count": 113,
   "metadata": {},
   "outputs": [
    {
     "data": {
      "text/plain": [
       "{'Name': 'Samyak', 'Course': 'DS'}"
      ]
     },
     "execution_count": 113,
     "metadata": {},
     "output_type": "execute_result"
    }
   ],
   "source": [
    "d"
   ]
  },
  {
   "cell_type": "code",
   "execution_count": 114,
   "metadata": {},
   "outputs": [],
   "source": [
    "json.dump(d,f)"
   ]
  },
  {
   "cell_type": "code",
   "execution_count": 115,
   "metadata": {},
   "outputs": [],
   "source": [
    "f.close()"
   ]
  },
  {
   "cell_type": "code",
   "execution_count": 116,
   "metadata": {},
   "outputs": [],
   "source": [
    "f = open('hello.txt')"
   ]
  },
  {
   "cell_type": "code",
   "execution_count": 117,
   "metadata": {},
   "outputs": [],
   "source": [
    "data = f.read()"
   ]
  },
  {
   "cell_type": "code",
   "execution_count": 118,
   "metadata": {},
   "outputs": [
    {
     "name": "stdout",
     "output_type": "stream",
     "text": [
      "{\"Name\": \"Samyak\", \"Course\": \"DS\"}\n"
     ]
    }
   ],
   "source": [
    "print(data)"
   ]
  },
  {
   "cell_type": "code",
   "execution_count": 119,
   "metadata": {},
   "outputs": [
    {
     "data": {
      "text/plain": [
       "str"
      ]
     },
     "execution_count": 119,
     "metadata": {},
     "output_type": "execute_result"
    }
   ],
   "source": [
    "type(data)"
   ]
  },
  {
   "cell_type": "code",
   "execution_count": 120,
   "metadata": {},
   "outputs": [
    {
     "data": {
      "text/plain": [
       "0"
      ]
     },
     "execution_count": 120,
     "metadata": {},
     "output_type": "execute_result"
    }
   ],
   "source": [
    "f.seek(0)"
   ]
  },
  {
   "cell_type": "code",
   "execution_count": 121,
   "metadata": {},
   "outputs": [],
   "source": [
    "data=json.load(f)"
   ]
  },
  {
   "cell_type": "code",
   "execution_count": 122,
   "metadata": {},
   "outputs": [
    {
     "data": {
      "text/plain": [
       "dict"
      ]
     },
     "execution_count": 122,
     "metadata": {},
     "output_type": "execute_result"
    }
   ],
   "source": [
    "type(data)"
   ]
  },
  {
   "cell_type": "code",
   "execution_count": 123,
   "metadata": {},
   "outputs": [
    {
     "data": {
      "text/plain": [
       "{'Name': 'Samyak', 'Course': 'DS'}"
      ]
     },
     "execution_count": 123,
     "metadata": {},
     "output_type": "execute_result"
    }
   ],
   "source": [
    "data"
   ]
  },
  {
   "cell_type": "code",
   "execution_count": 124,
   "metadata": {},
   "outputs": [
    {
     "data": {
      "text/plain": [
       "{'Name': 'Samyak', 'Course': 'DS'}"
      ]
     },
     "execution_count": 124,
     "metadata": {},
     "output_type": "execute_result"
    }
   ],
   "source": [
    "d"
   ]
  },
  {
   "cell_type": "code",
   "execution_count": 126,
   "metadata": {},
   "outputs": [],
   "source": [
    "x = pickle.dumps(d)"
   ]
  },
  {
   "cell_type": "code",
   "execution_count": 127,
   "metadata": {},
   "outputs": [
    {
     "data": {
      "text/plain": [
       "bytes"
      ]
     },
     "execution_count": 127,
     "metadata": {},
     "output_type": "execute_result"
    }
   ],
   "source": [
    "type(x)"
   ]
  },
  {
   "cell_type": "code",
   "execution_count": 128,
   "metadata": {},
   "outputs": [
    {
     "data": {
      "text/plain": [
       "b'\\x80\\x03}q\\x00(X\\x04\\x00\\x00\\x00Nameq\\x01X\\x06\\x00\\x00\\x00Samyakq\\x02X\\x06\\x00\\x00\\x00Courseq\\x03X\\x02\\x00\\x00\\x00DSq\\x04u.'"
      ]
     },
     "execution_count": 128,
     "metadata": {},
     "output_type": "execute_result"
    }
   ],
   "source": [
    "x"
   ]
  },
  {
   "cell_type": "code",
   "execution_count": 129,
   "metadata": {},
   "outputs": [],
   "source": [
    "y = pickle.loads(x)"
   ]
  },
  {
   "cell_type": "code",
   "execution_count": 130,
   "metadata": {},
   "outputs": [
    {
     "data": {
      "text/plain": [
       "{'Name': 'Samyak', 'Course': 'DS'}"
      ]
     },
     "execution_count": 130,
     "metadata": {},
     "output_type": "execute_result"
    }
   ],
   "source": [
    "y"
   ]
  },
  {
   "cell_type": "code",
   "execution_count": 131,
   "metadata": {},
   "outputs": [
    {
     "data": {
      "text/plain": [
       "dict"
      ]
     },
     "execution_count": 131,
     "metadata": {},
     "output_type": "execute_result"
    }
   ],
   "source": [
    "type(y)"
   ]
  },
  {
   "cell_type": "code",
   "execution_count": 132,
   "metadata": {},
   "outputs": [],
   "source": [
    "f= open('data.txt','wb')"
   ]
  },
  {
   "cell_type": "code",
   "execution_count": 133,
   "metadata": {},
   "outputs": [],
   "source": [
    "pickle.dump(d,f)"
   ]
  },
  {
   "cell_type": "code",
   "execution_count": 134,
   "metadata": {},
   "outputs": [],
   "source": [
    "f.close()"
   ]
  },
  {
   "cell_type": "code",
   "execution_count": 135,
   "metadata": {},
   "outputs": [],
   "source": [
    "f = open('data.txt','rb')"
   ]
  },
  {
   "cell_type": "code",
   "execution_count": 136,
   "metadata": {},
   "outputs": [],
   "source": [
    "data = f.read()"
   ]
  },
  {
   "cell_type": "code",
   "execution_count": 137,
   "metadata": {},
   "outputs": [
    {
     "data": {
      "text/plain": [
       "bytes"
      ]
     },
     "execution_count": 137,
     "metadata": {},
     "output_type": "execute_result"
    }
   ],
   "source": [
    "type(data)"
   ]
  },
  {
   "cell_type": "code",
   "execution_count": 138,
   "metadata": {},
   "outputs": [
    {
     "data": {
      "text/plain": [
       "b'\\x80\\x03}q\\x00(X\\x04\\x00\\x00\\x00Nameq\\x01X\\x06\\x00\\x00\\x00Samyakq\\x02X\\x06\\x00\\x00\\x00Courseq\\x03X\\x02\\x00\\x00\\x00DSq\\x04u.'"
      ]
     },
     "execution_count": 138,
     "metadata": {},
     "output_type": "execute_result"
    }
   ],
   "source": [
    "data"
   ]
  },
  {
   "cell_type": "code",
   "execution_count": 139,
   "metadata": {},
   "outputs": [
    {
     "data": {
      "text/plain": [
       "0"
      ]
     },
     "execution_count": 139,
     "metadata": {},
     "output_type": "execute_result"
    }
   ],
   "source": [
    "f.seek(0)"
   ]
  },
  {
   "cell_type": "code",
   "execution_count": 141,
   "metadata": {},
   "outputs": [],
   "source": [
    "data=pickle.load(f)"
   ]
  },
  {
   "cell_type": "code",
   "execution_count": 142,
   "metadata": {},
   "outputs": [
    {
     "data": {
      "text/plain": [
       "dict"
      ]
     },
     "execution_count": 142,
     "metadata": {},
     "output_type": "execute_result"
    }
   ],
   "source": [
    "type(data)"
   ]
  },
  {
   "cell_type": "code",
   "execution_count": 143,
   "metadata": {},
   "outputs": [
    {
     "data": {
      "text/plain": [
       "{'Name': 'Samyak', 'Course': 'DS'}"
      ]
     },
     "execution_count": 143,
     "metadata": {},
     "output_type": "execute_result"
    }
   ],
   "source": [
    "data"
   ]
  },
  {
   "cell_type": "code",
   "execution_count": 145,
   "metadata": {},
   "outputs": [],
   "source": [
    "f = open('mumbai123.jpg','rb')"
   ]
  },
  {
   "cell_type": "code",
   "execution_count": 146,
   "metadata": {},
   "outputs": [
    {
     "ename": "UnpicklingError",
     "evalue": "invalid load key, '\\xff'.",
     "output_type": "error",
     "traceback": [
      "\u001b[1;31m---------------------------------------------------------------------------\u001b[0m",
      "\u001b[1;31mUnpicklingError\u001b[0m                           Traceback (most recent call last)",
      "\u001b[1;32m<ipython-input-146-2aaf5d37eb05>\u001b[0m in \u001b[0;36m<module>\u001b[1;34m\u001b[0m\n\u001b[1;32m----> 1\u001b[1;33m \u001b[0mdata\u001b[0m\u001b[1;33m=\u001b[0m \u001b[0mpickle\u001b[0m\u001b[1;33m.\u001b[0m\u001b[0mload\u001b[0m\u001b[1;33m(\u001b[0m\u001b[0mf\u001b[0m\u001b[1;33m)\u001b[0m\u001b[1;33m\u001b[0m\u001b[1;33m\u001b[0m\u001b[0m\n\u001b[0m",
      "\u001b[1;31mUnpicklingError\u001b[0m: invalid load key, '\\xff'."
     ]
    }
   ],
   "source": [
    "data= pickle.load(f)"
   ]
  },
  {
   "cell_type": "markdown",
   "metadata": {},
   "source": [
    "        Bank Application\n",
    "        \n",
    "            \n",
    "            main menu\n",
    "            \n",
    "                signup\n",
    "                login\n",
    "                    \n",
    "                    debit\n",
    "                    credit\n",
    "                    check bal\n",
    "                    password\n",
    "                    \n",
    "                exit"
   ]
  },
  {
   "cell_type": "code",
   "execution_count": 164,
   "metadata": {},
   "outputs": [],
   "source": [
    "import time\n",
    "def main():\n",
    "    \n",
    "    s = \"\"\"1.Signup\\n2.Login\\n3.Exit\"\"\"\n",
    "    print(s)\n",
    "    ch = int(input('Enter choice from above: '))\n",
    "    if ch==1:\n",
    "        signup()\n",
    "    elif ch==2:\n",
    "        login()\n",
    "    else:\n",
    "        exit()\n",
    "        \n",
    "def exit():\n",
    "    print('thanks for using our application')\n",
    "    for i in '..........Exciting..........':\n",
    "        print(i,end='')\n",
    "        time.sleep(0.07)\n",
    "        \n",
    "def signup():\n",
    "    \n",
    "    d = {'Name':input('Enter Name: '),'Bal':int(input('Enter Balance: ')),'Pwd':input('Enter Password: ')}\n",
    "    i=int(os.listdir('Bank/')[-1][0:4])+1\n",
    "    f=open(f'bank/{i}.txt','w')\n",
    "    json.dump(d,f)\n",
    "    f.close()\n",
    "    print(\"Signup Created Sueccessfully\")\n",
    "    main()\n",
    "    \n",
    "def login():\n",
    "    \n",
    "    acc = input('Enter account number: ')\n",
    "    acc = acc+'.txt'\n",
    "    if acc in os.listdir('bank/'):\n",
    "        f = open(f'bank/{acc}')\n",
    "        data=json.load(f)\n",
    "        pwd = input('Enter password: ')\n",
    "        if pwd == data['Pwd']:\n",
    "            print('Login')\n",
    "            \n",
    "        else:\n",
    "            print('Invalid Password')\n",
    "            main()\n",
    "    else:\n",
    "        print('Account Not exist')\n",
    "        \n",
    "        main()"
   ]
  },
  {
   "cell_type": "markdown",
   "metadata": {},
   "source": [
    "## main()"
   ]
  },
  {
   "cell_type": "code",
   "execution_count": 166,
   "metadata": {},
   "outputs": [
    {
     "name": "stdout",
     "output_type": "stream",
     "text": [
      "1.Signup\n",
      "2.Login\n",
      "3.Exit\n",
      "Enter choice from above: 2\n",
      "Enter account number: 1001\n",
      "Enter password: fajdkanwl\n",
      "Invalid Password\n",
      "1.Signup\n",
      "2.Login\n",
      "3.Exit\n",
      "Enter choice from above: 3\n",
      "thanks for using our application\n",
      "..........Exciting.........."
     ]
    }
   ],
   "source": [
    "main()"
   ]
  },
  {
   "cell_type": "code",
   "execution_count": null,
   "metadata": {},
   "outputs": [],
   "source": []
  }
 ],
 "metadata": {
  "kernelspec": {
   "display_name": "Python 3",
   "language": "python",
   "name": "python3"
  },
  "language_info": {
   "codemirror_mode": {
    "name": "ipython",
    "version": 3
   },
   "file_extension": ".py",
   "mimetype": "text/x-python",
   "name": "python",
   "nbconvert_exporter": "python",
   "pygments_lexer": "ipython3",
   "version": "3.8.5"
  }
 },
 "nbformat": 4,
 "nbformat_minor": 2
}
