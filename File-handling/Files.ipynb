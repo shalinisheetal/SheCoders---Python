{
 "cells": [
  {
   "cell_type": "code",
   "execution_count": 10,
   "metadata": {},
   "outputs": [],
   "source": [
    "import os"
   ]
  },
  {
   "cell_type": "code",
   "execution_count": 11,
   "metadata": {},
   "outputs": [
    {
     "data": {
      "text/plain": [
       "['.ipynb_checkpoints', 'Files - Copy.ipynb', 'Files.ipynb']"
      ]
     },
     "execution_count": 11,
     "metadata": {},
     "output_type": "execute_result"
    }
   ],
   "source": [
    "os.listdir()"
   ]
  },
  {
   "cell_type": "code",
   "execution_count": 12,
   "metadata": {},
   "outputs": [
    {
     "data": {
      "text/plain": [
       "'E:\\\\Python\\\\SHECODERS\\\\File-handling'"
      ]
     },
     "execution_count": 12,
     "metadata": {},
     "output_type": "execute_result"
    }
   ],
   "source": [
    "pwd"
   ]
  },
  {
   "cell_type": "code",
   "execution_count": 13,
   "metadata": {},
   "outputs": [],
   "source": [
    "os.mkdir('Hello/')"
   ]
  },
  {
   "cell_type": "code",
   "execution_count": 14,
   "metadata": {},
   "outputs": [
    {
     "data": {
      "text/plain": [
       "['.ipynb_checkpoints', 'Files - Copy.ipynb', 'Files.ipynb', 'Hello']"
      ]
     },
     "execution_count": 14,
     "metadata": {},
     "output_type": "execute_result"
    }
   ],
   "source": [
    "os.listdir()"
   ]
  },
  {
   "cell_type": "code",
   "execution_count": 15,
   "metadata": {},
   "outputs": [],
   "source": [
    "import shutil\n",
    "import time\n",
    "import os"
   ]
  },
  {
   "cell_type": "code",
   "execution_count": 19,
   "metadata": {},
   "outputs": [
    {
     "data": {
      "text/plain": [
       "['.ipynb_checkpoints',\n",
       " 'Advanced Python',\n",
       " 'ANSWERS- SHALINI SHEETAL.ipynb',\n",
       " 'API (11).html',\n",
       " 'API (9).ipynb',\n",
       " 'Bank',\n",
       " 'BANK APPLICATION FUNCTIONS - Jupyter Notebook.html',\n",
       " 'BANK APPLICATION FUNCTIONS - Jupyter Notebook_files',\n",
       " 'BANK APPLICATION FUNCTIONS.ipynb',\n",
       " 'Bank Application.html',\n",
       " 'Bank practise.html',\n",
       " 'Bank_Application (1).html',\n",
       " 'Bank_Application (2).ipynb',\n",
       " 'Bank_Application (3).ipynb',\n",
       " 'Bank_Application (4).ipynb',\n",
       " 'Batch6pm-20201217_182046-Meeting Recording.mp4',\n",
       " 'bekhayali.mp3',\n",
       " 'data.txt.txt',\n",
       " 'debug.log',\n",
       " 'Dout Solving.html',\n",
       " 'Dout Solving.ipynb',\n",
       " 'Exception Handling.html',\n",
       " 'Exception Handling.ipynb',\n",
       " 'Exception_Handling.ipynb',\n",
       " 'https.docx',\n",
       " 'Introduction.html',\n",
       " 'Introduction.ipynb',\n",
       " 'Iterators and Generators.ipynb',\n",
       " 'List ,Tuple and Dictionary.html',\n",
       " 'List ,Tuple and Dictionary.ipynb',\n",
       " 'Meeting now-20201231_180929-Meeting Recording.mp4',\n",
       " 'New folder',\n",
       " 'New things.ipynb',\n",
       " 'Number DT.html',\n",
       " 'Number DT.ipynb',\n",
       " 'OOPs_in_Python (1).html',\n",
       " 'OOPs_in_Python (1).ipynb',\n",
       " 'OOPs_in_Python (2).html',\n",
       " 'OOPs_in_Python (2).ipynb',\n",
       " 'OOPs_in_Python.html',\n",
       " 'OOPs_in_Python.ipynb',\n",
       " 'percentage1.txt',\n",
       " 'Projects.ipynb',\n",
       " 'SHECODERS',\n",
       " 'Star Pattern.html',\n",
       " 'Star Pattern.ipynb',\n",
       " 'String Slicing.html',\n",
       " 'String Slicing.ipynb',\n",
       " 'Supermarket- SHALINI SHEETAL.ipynb',\n",
       " 'Supermart.html',\n",
       " 'Supermart.ipynb',\n",
       " 'test',\n",
       " 'TRIAL.txt',\n",
       " 'Untitled.ipynb',\n",
       " 'Untitled1.ipynb',\n",
       " 'Untitled2.ipynb',\n",
       " 'Untitled3.ipynb',\n",
       " 'Untitled4.ipynb',\n",
       " 'xampp']"
      ]
     },
     "execution_count": 19,
     "metadata": {},
     "output_type": "execute_result"
    }
   ],
   "source": [
    "os.listdir('../../../Python/')"
   ]
  },
  {
   "cell_type": "code",
   "execution_count": 18,
   "metadata": {},
   "outputs": [],
   "source": [
    "time.sleep(5)\n",
    "path = 'E:/Python'\n",
    "for i in os.listdir(path):\n",
    "    \n",
    "    if i[0].lower()=='f':\n",
    "        path1=os.path.join(path,i)\n",
    "        shutil.move(path1,f'./Hello/{i}')\n",
    "        time.sleep(1)"
   ]
  },
  {
   "cell_type": "code",
   "execution_count": 6,
   "metadata": {},
   "outputs": [],
   "source": [
    "p1 ='C:Users/hp/'"
   ]
  },
  {
   "cell_type": "code",
   "execution_count": 7,
   "metadata": {},
   "outputs": [],
   "source": [
    "p2 = 'Desktop/comman1.txt'"
   ]
  },
  {
   "cell_type": "code",
   "execution_count": 8,
   "metadata": {},
   "outputs": [
    {
     "data": {
      "text/plain": [
       "'C:Users/hp/Desktop/comman1.txt'"
      ]
     },
     "execution_count": 8,
     "metadata": {},
     "output_type": "execute_result"
    }
   ],
   "source": [
    "p1+p2"
   ]
  },
  {
   "cell_type": "code",
   "execution_count": 9,
   "metadata": {},
   "outputs": [
    {
     "data": {
      "text/plain": [
       "'C:Users/hp/Desktop/comman1.txt'"
      ]
     },
     "execution_count": 9,
     "metadata": {},
     "output_type": "execute_result"
    }
   ],
   "source": [
    "os.path.join(p1,p2)"
   ]
  },
  {
   "cell_type": "code",
   "execution_count": 20,
   "metadata": {},
   "outputs": [],
   "source": [
    "shutil.rmtree('hello/')"
   ]
  },
  {
   "cell_type": "code",
   "execution_count": 21,
   "metadata": {},
   "outputs": [
    {
     "data": {
      "text/plain": [
       "True"
      ]
     },
     "execution_count": 21,
     "metadata": {},
     "output_type": "execute_result"
    }
   ],
   "source": [
    "os.path.exists('E:/Python/SHECODERS/File-handling/')"
   ]
  },
  {
   "cell_type": "code",
   "execution_count": 22,
   "metadata": {},
   "outputs": [
    {
     "data": {
      "text/plain": [
       "False"
      ]
     },
     "execution_count": 22,
     "metadata": {},
     "output_type": "execute_result"
    }
   ],
   "source": [
    "os.path.exists('E:/Python/SHECODERS/Filehandling/')"
   ]
  },
  {
   "cell_type": "code",
   "execution_count": 15,
   "metadata": {},
   "outputs": [
    {
     "data": {
      "text/plain": [
       "'E:\\\\Python\\\\SHECODERS\\\\File-handling'"
      ]
     },
     "execution_count": 15,
     "metadata": {},
     "output_type": "execute_result"
    }
   ],
   "source": [
    "pwd"
   ]
  },
  {
   "cell_type": "code",
   "execution_count": 23,
   "metadata": {},
   "outputs": [
    {
     "data": {
      "text/plain": [
       "False"
      ]
     },
     "execution_count": 23,
     "metadata": {},
     "output_type": "execute_result"
    }
   ],
   "source": [
    "os.path.isabs('../../')"
   ]
  },
  {
   "cell_type": "code",
   "execution_count": 17,
   "metadata": {},
   "outputs": [
    {
     "data": {
      "text/plain": [
       "True"
      ]
     },
     "execution_count": 17,
     "metadata": {},
     "output_type": "execute_result"
    }
   ],
   "source": [
    "os.path.isabs('C:/')"
   ]
  },
  {
   "cell_type": "code",
   "execution_count": 24,
   "metadata": {},
   "outputs": [
    {
     "name": "stdout",
     "output_type": "stream",
     "text": [
      "Writing one\n"
     ]
    }
   ],
   "source": [
    "%%writefile one\n",
    "\n",
    "h=10\n",
    "print(h)"
   ]
  },
  {
   "cell_type": "code",
   "execution_count": null,
   "metadata": {},
   "outputs": [],
   "source": [
    "os.mkdir('Check')"
   ]
  },
  {
   "cell_type": "code",
   "execution_count": 26,
   "metadata": {},
   "outputs": [],
   "source": [
    "import shutil\n",
    "import time\n",
    "import os\n",
    "import random"
   ]
  },
  {
   "cell_type": "code",
   "execution_count": 28,
   "metadata": {},
   "outputs": [],
   "source": [
    "l = ['one','two','three','four','five','six','seven','eight']\n",
    "os.mkdir(\"Check\")\n",
    "\n",
    "while True:\n",
    "    \n",
    "    x = random.randint(1,100)\n",
    "\n",
    "    if x%2==0:\n",
    "\n",
    "        a = random.choice(l)\n",
    "        if a not in os.listdir('Check/'):\n",
    "\n",
    "            f = open(f\"check/{a}\",'w')\n",
    "            f.close()\n",
    "            \n",
    "        else:\n",
    "            pass\n",
    "\n",
    "    else:\n",
    "\n",
    "        a = random.choice(l)\n",
    "        if a not in os.listdir('Check/'):\n",
    "\n",
    "            os.mkdir(f\"check/{a}\")\n",
    "\n",
    "        else:\n",
    "            pass\n",
    "        \n",
    "    if len(os.listdir('check/')) == 8:\n",
    "        break"
   ]
  },
  {
   "cell_type": "code",
   "execution_count": 29,
   "metadata": {},
   "outputs": [
    {
     "data": {
      "text/plain": [
       "['eight', 'five', 'four', 'one', 'seven', 'six', 'three', 'two']"
      ]
     },
     "execution_count": 29,
     "metadata": {},
     "output_type": "execute_result"
    }
   ],
   "source": [
    "os.listdir('check/')"
   ]
  },
  {
   "cell_type": "code",
   "execution_count": 30,
   "metadata": {},
   "outputs": [],
   "source": [
    "dirs=[]\n",
    "files=[]\n",
    "\n",
    "for i in os.listdir('check/'):\n",
    "    \n",
    "    if os.path.isfile(f\"check/{i}\"):\n",
    "        files.append(i)\n",
    "    else:\n",
    "        dirs.append(i)"
   ]
  },
  {
   "cell_type": "code",
   "execution_count": 31,
   "metadata": {},
   "outputs": [
    {
     "data": {
      "text/plain": [
       "['eight', 'five', 'one', 'seven']"
      ]
     },
     "execution_count": 31,
     "metadata": {},
     "output_type": "execute_result"
    }
   ],
   "source": [
    "dirs"
   ]
  },
  {
   "cell_type": "code",
   "execution_count": 32,
   "metadata": {},
   "outputs": [
    {
     "data": {
      "text/plain": [
       "['four', 'six', 'three', 'two']"
      ]
     },
     "execution_count": 32,
     "metadata": {},
     "output_type": "execute_result"
    }
   ],
   "source": [
    "files"
   ]
  },
  {
   "cell_type": "code",
   "execution_count": 33,
   "metadata": {},
   "outputs": [],
   "source": [
    "shutil.rmtree('check/')"
   ]
  },
  {
   "cell_type": "code",
   "execution_count": 11,
   "metadata": {},
   "outputs": [],
   "source": [
    "#shutil.copytree()"
   ]
  },
  {
   "cell_type": "code",
   "execution_count": 36,
   "metadata": {},
   "outputs": [],
   "source": [
    "f = open('one.txt','w')"
   ]
  },
  {
   "cell_type": "markdown",
   "metadata": {},
   "source": [
    "        by default mode read"
   ]
  },
  {
   "cell_type": "code",
   "execution_count": 34,
   "metadata": {},
   "outputs": [],
   "source": [
    "s = \"\"\"This is the world for python\n",
    "Python is programing language\n",
    "Python is Interpreted Language\n",
    "Python is general purpose programing language\"\"\""
   ]
  },
  {
   "cell_type": "code",
   "execution_count": 37,
   "metadata": {},
   "outputs": [
    {
     "data": {
      "text/plain": [
       "135"
      ]
     },
     "execution_count": 37,
     "metadata": {},
     "output_type": "execute_result"
    }
   ],
   "source": [
    "f.write(s)"
   ]
  },
  {
   "cell_type": "code",
   "execution_count": 38,
   "metadata": {},
   "outputs": [],
   "source": [
    "f.close()"
   ]
  },
  {
   "cell_type": "code",
   "execution_count": 39,
   "metadata": {},
   "outputs": [],
   "source": [
    "with open('two.txt','w') as f:\n",
    "    \n",
    "    f.write('Hello Wolrd')"
   ]
  },
  {
   "cell_type": "code",
   "execution_count": 40,
   "metadata": {},
   "outputs": [],
   "source": [
    "f = open('one.txt')"
   ]
  },
  {
   "cell_type": "code",
   "execution_count": 41,
   "metadata": {},
   "outputs": [],
   "source": [
    "data = f.read()"
   ]
  },
  {
   "cell_type": "code",
   "execution_count": 42,
   "metadata": {},
   "outputs": [
    {
     "name": "stdout",
     "output_type": "stream",
     "text": [
      "This is the world for python\n",
      "Python is programing language\n",
      "Python is Interpreted Language\n",
      "Python is general purpose programing language\n"
     ]
    }
   ],
   "source": [
    "print(data)"
   ]
  },
  {
   "cell_type": "code",
   "execution_count": 43,
   "metadata": {},
   "outputs": [],
   "source": [
    "data = f.read()"
   ]
  },
  {
   "cell_type": "code",
   "execution_count": 44,
   "metadata": {},
   "outputs": [
    {
     "name": "stdout",
     "output_type": "stream",
     "text": [
      "\n"
     ]
    }
   ],
   "source": [
    "print(data)"
   ]
  },
  {
   "cell_type": "code",
   "execution_count": 45,
   "metadata": {},
   "outputs": [],
   "source": [
    "x = f.seek(len('This is the world for python\\n'))"
   ]
  },
  {
   "cell_type": "code",
   "execution_count": 46,
   "metadata": {},
   "outputs": [
    {
     "data": {
      "text/plain": [
       "29"
      ]
     },
     "execution_count": 46,
     "metadata": {},
     "output_type": "execute_result"
    }
   ],
   "source": [
    "x"
   ]
  },
  {
   "cell_type": "code",
   "execution_count": 47,
   "metadata": {},
   "outputs": [],
   "source": [
    "data = f.read()"
   ]
  },
  {
   "cell_type": "code",
   "execution_count": 48,
   "metadata": {},
   "outputs": [
    {
     "name": "stdout",
     "output_type": "stream",
     "text": [
      "\n",
      "Python is programing language\n",
      "Python is Interpreted Language\n",
      "Python is general purpose programing language\n"
     ]
    }
   ],
   "source": [
    "print(data)"
   ]
  },
  {
   "cell_type": "code",
   "execution_count": 49,
   "metadata": {},
   "outputs": [
    {
     "data": {
      "text/plain": [
       "138"
      ]
     },
     "execution_count": 49,
     "metadata": {},
     "output_type": "execute_result"
    }
   ],
   "source": [
    "f.tell()"
   ]
  },
  {
   "cell_type": "code",
   "execution_count": 50,
   "metadata": {},
   "outputs": [
    {
     "data": {
      "text/plain": [
       "0"
      ]
     },
     "execution_count": 50,
     "metadata": {},
     "output_type": "execute_result"
    }
   ],
   "source": [
    "f.seek(0)"
   ]
  },
  {
   "cell_type": "code",
   "execution_count": 51,
   "metadata": {},
   "outputs": [
    {
     "data": {
      "text/plain": [
       "0"
      ]
     },
     "execution_count": 51,
     "metadata": {},
     "output_type": "execute_result"
    }
   ],
   "source": [
    "f.tell()"
   ]
  },
  {
   "cell_type": "code",
   "execution_count": 52,
   "metadata": {},
   "outputs": [],
   "source": [
    "f = open('flower.jpg','rb')"
   ]
  },
  {
   "cell_type": "code",
   "execution_count": 53,
   "metadata": {},
   "outputs": [],
   "source": [
    "data = f.read()"
   ]
  },
  {
   "cell_type": "code",
   "execution_count": 54,
   "metadata": {},
   "outputs": [
    {
     "data": {
      "text/plain": [
       "12576"
      ]
     },
     "execution_count": 54,
     "metadata": {},
     "output_type": "execute_result"
    }
   ],
   "source": [
    "len(data)"
   ]
  },
  {
   "cell_type": "code",
   "execution_count": 55,
   "metadata": {},
   "outputs": [
    {
     "data": {
      "text/plain": [
       "b'\\xff\\xd8\\xff\\xe0\\x00\\x10JFIF\\x00\\x01\\x01\\x00\\x00\\x01\\x00\\x01\\x00\\x00\\xff\\xdb\\x00\\x84\\x00\\t\\x06\\x07\\x13\\x13\\x12\\x15\\x13\\x13\\x12\\x16\\x16\\x15\\x17\\x17\\x1a\\x1a\\x18\\x18\\x18\\x18\\x17\\x17\\x1b\\x1b\\x1a\\x18\\x18\\x17\\x17\\x18\\x1e\\x18\\x1d\\x18\\x1d( \\x18\\x1e%\\x1b\\x17\\x17!1!%)+...\\x17\\x1f383-7(-.+\\x01\\n\\n\\n\\x0e\\r\\x0e\\x1b\\x10\\x10\\x1b-% %--------------------------------------------------\\xff\\xc0\\x00\\x11\\x08\\x00\\xb7\\x01\\x13\\x03\\x01\"\\x00\\x02\\x11\\x01\\x03\\x11\\x01\\xff\\xc4\\x00\\x1c\\x00\\x00\\x01\\x05\\x01\\x01\\x01\\x00\\x00\\x00\\x00\\x00\\x00\\x00\\x00\\x00\\x00\\x06\\x02\\x03\\x04\\x05\\x07\\x00\\x01\\x08\\xff\\xc4\\x00B\\x10\\x00\\x01\\x03\\x02\\x04\\x03\\x05\\x05\\x06\\x05\\x01\\x07\\x05\\x00\\x00\\x00\\x01\\x02\\x03\\x11\\x00!\\x04\\x05\\x121\\x06AQ\\x13\"aq\\x81\\x072\\x91\\xa1\\xb1\\x14BR\\xc1\\xd1\\xf0#br\\xe1\\xf13\\x15\\x16$S\\x82\\x92\\xd2Cc\\xa2\\xb2\\xc2\\xff\\xc4\\x00\\x1b\\x01\\x00\\x02\\x03\\x01\\x01\\x01\\x00\\x00\\x00\\x00\\x00\\x00\\x00\\x00\\x00\\x00\\x04\\x05\\x01\\x02\\x03\\x06\\x00\\x07\\xff\\xc4\\x002\\x11\\x00\\x01\\x03\\x02\\x03\\x06\\x05\\x03\\x05\\x01\\x01\\x01\\x00\\x00\\x00\\x00\\x01\\x00\\x02\\x11\\x03!\\x04\\x121\\x05\\x13AQaq\"\\x81\\x91\\xb1\\xf02\\xa1\\xe1\\x06\\x14\\xc1\\xd1\\xf1B#R\\xff\\xda\\x00\\x0c\\x03\\x01\\x00\\x02\\x11\\x03\\x11\\x00?\\x00\\x82\\x05{\\x14\\xb0+\\xc8\\xae\\xa9%^E{\\x15\\xecR\\xa2\\xbd+\\xc9\\x11]\\x14\\xb8\\xafb\\xbd*\\x12\"\\xba)\\xc8\\xae\\x8a\\x85\\xe4\\x98\\xaf\\x08\\xa5\\xc5x\\x136\\xe7^^M\\xc5tQ^I\\xc3\\x90u>\\x9b\\x11a<\\xfcj\\xd4\\xe4Xe(\\x1d1\\x1c\\x85\\x81\\xf3\\xaek\\x15\\xfa\\xab\\x01\\x87\\xad\\xba$\\xbb\\xab`\\x8e\\xda\\xa64\\xf6mg76\\x9d\\xe5g\\xe0R\\xc0\\xad\\x15\\xec\\xb9\\x82\\x8d\\x1d\\x9aB@\\xe9z\\xa5\\xcd8|)iK\\t\\x88\\x1d\\xe2M\\xbc=k,\\x17\\xea\\xec\\x16!\\xf9\\x1c\\x0b5\\xb9\\x88\\xb7^\\xbc\\xa1Z\\xa6\\xcc\\xaa\\xc6\\xcbn\\x85\\x80\\xa5\\x01O>\\xc1B\\x8aN\\xe0\\xc1\\xa4\\x01]K\\\\\\x1c\\x03\\x86\\x85, \\x83\\x05&+\\xd8\\xa5\\xe9\\xaft\\xd5\\xd7\\x93q]\\x14\\xe4RA\\x07j\\xac\\xaf/\"\\xbcC`l\"\\xa4\\xe10\\xaaqA\\t\\x173\\xf2\\xaf1XU\\xb6ai\\x83\\xcb\\xa1\\xf2<\\xeb\\x1d\\xfd\\x1d\\xf6\\xeb0\\xcf\\x13\\x96\\xd9\\xa3\\x9f8\\xec\\xaf\\x91\\xf93E\\xb9\\xf0LEtS\\xeda\\x96\\xa4\\x95%$\\x84\\xeeix\\x0c)ua\\t\\xdc\\xf3\\xe8\\x06\\xe4\\xfaT\\xbe\\xbd&\\xb5\\xces\\x843\\xea\\xbe\\x96\\x9b\\xf2\\xb5\\xef\\xc1@c\\x89\\x025\\xd3\\xaa\\x8f\\x15\\xe4U\\x9f\\x11\\xe5\\xe9\\xc3iV\\xa3\\xa1P/\\xbe\\xa8\\x98\\xf5\\xbf\\xc0\\xd5\\x9f\\x0c`\\x90P\\x1c)\\x92\\xb0M\\xf9\\'a\\xf1\\x90|\\x8d$\\xc5~\\xa4\\xc1\\xd1\\xc2\\x0cKNi\\xd1\\xa2\\xc6z\\xf2\\x8e3\\xe56E\\xd3\\xc0U}CL\\xda5<\\x10\\xd8\\x15\\xecR\\x9eRC\\x8b@\\x91\\xa5J\\x02y\\xc1\"\\xdf\\n\\xf4S\\xaa\\x15\\xe9\\xd7`}3!\\x08\\xf6\\x16\\x18+\\xc0+\\xc2\\x80D\\x11\"\\x96\\x05(\\n\\xd9U\\n\\xe69r\\xf0\\xab\\xed\\xf0\\xfe\\xef\\xdfG/\\xf1W\\x18\\x0c{x\\x86\\x8c\\x1d\\xc4(\\x1eU\\'\\x17\\x8bJ{\\xbb\\x93\\xca\\xa9\\x18\\xc2\\xa5\\xb2\\xae\\xcd7Q\\x95\\x1eC\\xc0xR\\\\N)\\xb8G\\x11L\\xc8:\\xb7\\x80<\\xc2)\\xac\\xde6]\\xaf4\\xc6\\x07/i\\x83\\xa8w\\x9c\\xbfx\\x8d\\x87\\xf2\\x8f\\xce\\xa7\\xfd\\xa2w\\x14\\x81\\x85\\xf1\\xa7R\\xc0\\xe6k\\x9c.\\x94I\\xbaD\\xf8WS\\xdd\\x87\\x8duz\\x14\\'\\x80\\xae\\x8a^\\x9a\\xf7Mw\\xa9rLWS\\x91]\\x15\\xe5\\t1]\\x14\\xb8\\xafb\\xbc\\xbc\\x91\\xa6\\xbc\\x8av+\\xa2\\xbc\\xbc\\x99\"\\xadr,\\xa5n\\xabZHHA\\x17=EW\\x11FxlZ\\xdba\\x1f\\xc2\\x10b\\xc9\\xde:\\x9aA\\xfa\\x8biT\\xc1af\\x90\\x19\\x9c`L{q\\xf6\\x1a\\x94\\xc3g\\xe1\\xc5z\\xb0x|\\xd5K\\xc5;\\xc8\\xd0^k\\xc7la\\xdc(\\x92\\xa5$\\xc2\\x80\\xfdjg\\x1ef\\x8ao\\x08\\xb5\\xa4,,\\xc0\\x066\\x93\\xb95\\x88j\\x92Tng\\x9d|\\xfbd\\xec\\xc6Wa\\xa9WM#\\xaf\\xf4\\xbaz\\xb5w-\\x80.\\xb6\\x0c/\\xb4\\x8c;\\x8b\\x08\\xef\\'Q\\x02U\\xb0\\xf3\\xa3\\x13\\x99\\x08\\x01\\xa8Q<\\xc6\\xdf\\x1a\\xf9\\xc5\\xb0\\x17\\xca+Z\\xf6D\\xf2\\x97\\x87RTD!d\\x0f\\x80?\\x9d[jl\\xba8z{\\xdasmA\\xeb\\xd5V\\x8daS\\xea\\x1dU\\xfek\\x92\\xa8\\xa4\\xba\\x02Rw#\\xad\\x0e\\x17\\x927\"\\x8e\\xf3\\x96\\x82\\xdb)\\x0b)1\\xbe\\xc2\\xb0l\\xc3\\x12\\xadkD\\xec\\xa2<\\xef]/\\xe9\\xed\\xb9Q\\xd8m\\xdb\\xceg7Ml8_\\x8d\\xfd8\\xa4\\xb8\\xec\\x18/\\xce\\x04N\\xbf\\xe2-\\xccs\\xb4!=\\xd3&\\x91\\x93f\\xfa\\xe4+\\x97:\\x0fW\"O\\x9dO\\xc2`\\xdfq\\'\\xb1mk\\x03\\xde\\xd0\\x92\\xa8\\xf3\\t\\xb8\\xa6\\xe7h\\xbd\\xaf\\xce\\xf7\\x00\\x07\\x90B\\xfe\\xdd\\xb9`+\\xcc\\xef7!?\\xc3<\\xeejO\\x05`_\\xc4\\xf6\\x8aLin\\x01\\x93\\x12T\\t\\x81\\xe8>b\\x85\\\\\\xc2\\xac\\x18Wv\\xdb(\\x10}A\\xad[\\xd9\\x10\\x03\\x02\\xb3\\xcc\\xbe\\xb9\\xf4J\\x07\\xd2\\x97\\xedm\\xa9\\x88\\xc3S\\xdf\\xb3Y\\x00M\\xc7\\xa5\\xbd\\xd6\\xb40\\xec\\x7f\\x80\\xa7xm\\xa2\\xdb\\xee!\\xc4\\x94\\xaf\\xb30\\x0f\\xf5$\\xdb\\xae\\xdb\\x8e\\x86\\x88\\x1e\\xc2\\xa1\\xc4\\x94\\xacJO\\xc4\\x1e\\xa0\\xf24\\x8c\\xcf\\x0f\\xa8&\\xc3RU\\xa9\\xa5tWI\\xe8\\xa1 \\x8e\\x84\\xf8T\\xbc?y\\x13\\\\N\\xd3\\xdaO\\xc6b\\x1b\\x8co\\x85\\xf0\\x01\\x82l[\\xc4\\x1d@<\\xb9\\x82\\x9aa\\xf0\\xe2\\x95#L\\xdc\\x7fj\\x06\\x03/\\r\\x8d\\x00\\xce\\x91\\xbfRI$\\xfd>\\x14\\xc6\\x07\\x06\\x96\\x94\\xe9\\x03\\xdf\\xd3\\xa7\\xc0\\x19$\\x0fQ\\xf4\\xa9\\x8bQ\\x93\\x14\\xda\\xcc\\x94\\xf9\\xfe`\\xd0c\\x1d\\\\\\xefe\\xc7\\xff\\x00O\\xaf\\xad\\xf3{\\x8f\\xb9\\x1a\"\\xc6\\x1d\\x87-\\xbe\\x9d:Z\\x15\\x7f\\x18a\\xd4\\xb65*\\xd0\\xa4\\x91\\xf3\\x1f\\xfe\\xaanF\\xde\\x94\\x04\\x8f\\xba\\x02~\\x13\\xfa\\nw1l\\xbc\\xda\\x90\\xa3b\\xa4\\x0f\\xfei\\x9f\\x90\\xa6\\xb0\\xaa\\x84\\x18\\xe6\\xa5}c\\xf2\\xa8}\\\\\\xd8aK\\x93\\x89\\xf5\\x03\\xf2\\xaa\\xcag3\\x8f@=\\xd7\\x98\\x0c\\x9d\\x96\\xf5\\x12\\x02\\xd6\\xa2IR\\x80>\\xf1$\\x809\\n\\x1f\\xcd\\xf0\\x81\\x0f)\\t\\x16\\x91\\x03\\xfa\\x84\\x81\\xf9QK\\x07j\\xa9\\xcc\\xa0:\\xb7\\x14\\x01\\x92\\x02G\\x82D\\x12}d\\xd3\\x8d\\x83\\xb5\\xeaa1/\\xa8\\xf2H-\\xb8\\xe6xGk\\xf9qBb\\xf0B\\xabC\\x1a/:\\xf2\\xe6\\xa1+\\x00;\\x02\\xb1\\xb8\"\\xfdD\\x94\\x9f\\x9d\\t\\xe6y\\x99\\x0b\\xec\\xd1sE\\xb8\\xdcJ\\x86\\x11ZF\\xe5:\\xb9E\\xf9G-\\x85\\n\\xe1\\x1a\\x95B\\x13\\xdeQ\\x8b\\\\\\x92k\\xa2\\xd9\\xbbb\\xbdL+\\xb7\\xae%\\xd9\\xcc\\x9eB\\x01\\x8e\\x82g\\xb0@\\xe2\\xf0\\xcc\\xa7[\\xc2-\\x01\\'\\r\\x80\\xd05\\xb8\\xa9Z\\xf9n@\\xfe\\xf4\\xb7\\x82@\\x92\\xa0\\x00\\xe6`|/W\\x19\\xa6H\\xe2[[\\x88(R\\xd2\\x99\\xd0I\\x8e\\xe8\\x98\\x91\\xce\\x01\\xb7\\xce\\xb3<^b\\xe3\\xaa\\x95\\xc4\\x8d\\x80\\x10\\x04\\xf4\\xacib)\\xe2I4\\xcc\\xc2\\x87\\xd2{H\\xcc!^\\xb7\\x9d4D\\xf7\\xc5\\xf6#\\xfb\\xc5z\\xef\\x11a\\xd3\\x01!K>P\\x07\\x9c\\xfeT>\\x96\\n\\x84\\xc5\\xea\\xb9\\xf4\\xc1 \\xda(\\xa1J\\xd2U2\\x80\\x89\\\\\\xcf\\xdc$\\xc4\\'\\xc3\\xa5uQ\\xb7\\x8a0+\\xaa\\xdb\\xb0\\xa6\\xc8\\xd3+\\xcd\\xbbU\\x10l\"\\xbd\\xc6f\\x04/JD\\xf5\\xa1,\\x161D\\x12-RpY\\xb0J\\x89#\\xbci\\xa3\\xf6\\x85G40\\x98\\xe2N\\xbeP\\x87\\x14\\x1a\\x0c\\xa3\\\\;\\xa1B~T\\xe8\\x14\\x17\\x85\\xcd\\x96\\x97\\t&<*v\\x0f2z\\xeb\\xd3(&\\x8c\\xa3\\xb4\\xda\\xf8\\x10z\\xff\\x00k\\x17a\\xc8\\xe2\\x8a4\\xd7\\xbaj\\x0b\\xd9\\x98HN\\xa1\\x05B\\x9e\\xcbq:\\xd3\\'\\xad\\x1e+\\xb0\\xbf 7X\\x16\\x10%I\\xd3]\\xa6\\xb9n\\x00&mU\\xf9\\x96f\\x10\\x90RA\\x9a\\xb3\\xea\\xb5\\x82IP\\x1aI\\x85?M\\x18d\\x99\\xbbe\\x01.{\\xc0t\\xb4\\n\\x05\\xca\\xb1E\\xc4\\xca\\xa9\\xe3\\x8c\\xb9\\t\\xe5\\xb9\\xa4\\xfbg\\t\\x85\\xc6\\xe1\\xc0\\xac\\xe8\\x83-<\\x8fn(\\xbc-W\\xd1y\\x813\\xaf\\xfa\\x8c\\xb3\\x17\\x9a\\xc4\\xa4\\xb6\\x00ZU \\x88\\xe5\\xce\\xb3\\xac\\xd7\\xd9\\xc7x\\x9c3\\x83\\x7fqb\\xc3\\xd6\\xaa1\\x9ck\\x8bmZ[(HI0@\\x9f\\x8dYp\\x8f\\x1cb\\x1cu8w4\\x9e\\xd1r\\xa7O\\xbc\\x13\\xcc\\x0e^\\xb5\\xc5\\xbffW\\xc2\\x97?\\x04\\xf9l\\xfd\\'R9\\x9bA=\\x05\\xd3\\xfa8\\xcanhmF\\xff\\x00\\xaaFU\\xec\\xc1\\xf59\\xab\\x12\\xe2\\x12\\x83\\xf7\\x1b\\x9b\\xf8I\\x16\\xa3\\xec8\\xc3e\\xc8KiF\\x90y\\r\\xfc\\xef\\xbdR\\xe2x\\xc3\\x0c\\xde\\'\\xb2q\\xf9D\\xe9?\\xcbi\\xd5=9V}\\xc5\\xd9\\xf3\\x8e>\\xeb\\x0c\\xe2\\x0b\\x8c\\x95$\\xa0\\xeeE\\x81\\x84\\xab\\xa4\\xd0\\xb4h\\xe2q\\x95\\xda1`\\xe4\\x17\"\\xed\\x11\\xe9\\xa8\\xeb\\xaa\\xbdZ\\xacc\\x08a\\x1f\\x9e\\xb7\\x94k\\xc7\\\\P\\x95\\xb4\\x12\\xcb\\xaa\\x04\\x9b\\xa4\\xa7\\x97\\x9de\\xc5w\\xd4F\\xc6\\x9e\\xc4\\xe6O\\xae\\xc4\\x0e\\xed\\xa6:x\\xd4\\x9c\\xb7\\x0b\\xda-\\r\\x174\\xa9\\xd5\\xa5\\x13\\x12\\x06\\xa2\\x00\\xf9\\x91]%\\x0c>\\x1b\\x07H\\xb6\\x911s$_N\\xd7\\x81\\xd1+uG\\xd4#0\\xe8\\xa5#\\x85\\xf1\\xaf\\x00\\xa6\\xf0\\xaa)P\\n\\x04\\xa9\\xb4\\xc8\"A\\x01J\\x04\\x88\\xa9\\x99\\'\\xdbr\\xd7\\xd2\\xeb\\xb8w\\x03[9\\xdd*\\x05\\'{\\xa6D\\x8d\\xc7\\x95jy.\\x11,a\\x9b\\xc3:\\xb2\\xa2\\xd8\\xd2\\x95\\x14\\xe8\\x90=\\xd8\\x85\\x1b\\x81i\\x9eB\\x9f\\xec\\x89\\x98V\\xb1\\xd0\\xd9_\\x1eu\\xccV\\xdb\\x8f\\xa8\\\\\\xc75\\xaei\\x9ebGs\\xfc\\x8fT\\xc6\\x9e\\x0c\\x082AO8\\x961l\\x03\\x08y\\xa5$\\x1b\\x80\\xab\\x11 \\x8f\\xd4^\\x84x}\\x9f\\xf6^%L\\x95N\\x13\\x12\\xa1\\xd9\\xac\\x9f\\xf4\\xde\\x88\\tY\\xe8\\xb1`\\xae\\xa9\\x03\\xc6\\xaf\\xf0\\xe04e\\xbe\\xed\\xf6\\x88\\x17\\xb9\\n\\x1ew\\x9e\\xb7\\xe7O\\xe6\\xf9{X\\x96T\\x95\\xa3RT!h\\xea9\\x94\\x9eG\\x98=@;\\xd2\\xc6U\\x0c\\x9arwn\\xd4{\\x11\\xc2G\\xdfB\\x89}\\x08\\x82u\\xe0\\x7f\\x85m\\xad0R\\xb1jX\\xb11\\xb1\\xaa\\x1c\\x91N\\xb7\\xff\\x00\\x0e\\xfa\\xb5\\xa9 \\x16\\x9d\\xff\\x00\\x9a\\xd5\\x80Q\\xfepHJ\\x87\\x88?z\\xaf\\x17\\xb0>\\x10\\x7f*\\x15\\xf4\\xdc\\xc9a\\xe1py\\x8f\\xeb\\xfcT\\xb7\\xaa\\x86\\xed\\x97M(}i\\xd7\\xcd\\xc1\\xfd\\xdb\\x7f\\xad \\xefY\\x04P\\xd1Ho\\x97\\xf5}\\x04\\xd46Q\\x1f\\x15\\x1f\\x89$T\\xe4\\x0b\\x89\\xe8MG\\xc5\\x1b\\xdb\\xf7\\x15\\x7f\\xf9Ta\\xf1BeOi\\x04\\xf3\\xd8UF$(\\xdc\\xee\\xa3\\x02\\xa6\\xe2\\x15\\xb7\\xc7\\xe3La{\\xeex#\\xff\\x00\\xb1\\xfe\\xd5\\xb51\\x97\\xc4\\x89\\x0c\\x00J\\x91\\x8adv\\x0e\\'\\x90m_$\\x9f\\xce\\x86\\xb2\\xd0ZH)\\x12\\xb5\\x8fx\\xfd\\xd0v\\x03\\xc4\\xeeO\\x97\\x8d^q+em\\x8c2dv\\xdf\\xea([K\\t \\xb8g\\x91T\\x84\\x0f\\xeb\\x9eF\\x9cm!0\\x10\\x91;\\x0bl6\\x10<\\xabz\\x15\\x8b(\\x96\\x9b\\xe63\\x1d\\x07\\xf6}\\xba\\xdcM\\xd0\\xa9W?/\\x7f\\x9e\\xea0\\xc3\\xb9\\xd99\\x1e\\xf1IJ\\x02\\x8c\\x12N\\xe4\\xf9\\x98\\xac\\xeb2\\xcb\\x92\\xa5\\xad\\xa5\\x00\\xd3\\xe8\\xb1\\x88\\x89\\x80o\\xf1\\xadp\\x14\\xb4\\x92\\xb5\\x9d\\x85\\xf9\\x99\\xd8\\x04\\xf5Q0=k4s\\x831\\x0e\\xe2\\x96\\xeb\\xef\\xa1\\x1d\\xa2\\xca\\xf4\\xb7*Wx\\xce\\x9b\\xc0\\x10 I<\\xa8\\xed\\x99\\x8ak\\x1c\\xf7<\\x808u#\\x84q\\x11\\xaft>*\\x99\\xa8@h\\x943\\x81\\x96\\x94P\\xe5\\x8dA\\xcfT\\x92\\xe1\\xd3\\xd0j\\xf3\\xa2\\xce/\\xe1,N\\x1c\\x17\\xd25\\xb4\\x88\\xefZ@?\\x88x\\x1et\\x04I$\\xf3&\\xfe\\xb5\\xd6a\\xf1l\\xafG\\xc0f\\xe9S\\xe9\\x96>\\xe9:\\xab\\xcaM{V\\x85\\x10\\xa7=\\t\\x15\\x1c\\x98P)3L8\\xa2D\\xcd+\\n\\x0e\\xf1#\\x9dY\\x80\\x06\\x99\\xe2\\xa4\\x850\\xe2o\\xc8\\x9a\\xb9o\\x1e\\xa0\\xce\\x82\\xab\\xcdR\\xe0\\xf0\\xbf\\xc4\\x05IV\\x9ep\\t\\xfaT\\xdc\\xed\\x80\\xdf\\xbb#\\xc1B\\rl\\xcc\\xc1\\xa4\\xb0\\x8eQ\\xc5f`\\xd9/\\x19\\x8fR\\xa2L\\xc0\\xaf\\x13\\x8fy\\t\\xb1\\x81Q0,\\x93sjw\\x14\\xf2\\xa6\\xe2\\xd41\\xa8\\xe2\\xf3\\x06\\xea\\xd9@\\tNf\\xeb(\\xd3\\xa8\\xc5v\\x1f\\x13\\xa8A&\\xa3\\'\\r\\xaa\\xfa\\xadS\\x18\\xc2\\x00\\xa0uyV\\x9b\\xcb\\xc9v\\x8a +p\\xfb\\x8c\\xa5%\\n\\xee\\xf3\\x9a\\x91\\x85\\xe2\\xb0,\\xa6\\xa5G\\xa6\\xd5G\\x8f}PSJ\\xcar\\xe7\\\\\\x04\\xa5\\x13<\\xce\\xc2\\xb2\\xaa\\xf6T~b-\\xc9x\\x08\\nn%*y\\xd2R\\x81\\xde\\xb4\\x00-N5\\x818pT\\xa6\\x8aV\\x0fuB\\xadr\\xdc20\\xa9+qR\\xaeq\\xf9R\\x87\\x171}IW\\xa8\\x9a\\x9f\\xdce#v4U\\x89\\xd5\\x06\\xe3\\x90\\xa7\\xdc*\\x83\\'\\x90\\x1c\\xeaf]\\xc3\\xaa@\\xed^:\\x12.:\\x93FX\\x1c\\xd9\\x85\\x82\\xb4\\x94\\x81\\xe2\\x0043\\xc4Y\\xafj\\xa0\\x90{\\xa0\\xd8~\\xb5\\x9e\\xf9\\xc4\\xff\\x00j\\xe9\\x94:\\xa5\\x94\\xb6\\x98\\xef\\xac\\x04\\xf2\\xba\\x88\\x02}M]\\xe3x#\\x16\\x82\\x08[AR\\nL\\xafq\\xb6\\x93\\xa2\\r\\x0b\\xfd\\xac4\\xa4\\xa8{\\xc9 \\xa7\\xcc\\x19\\x1f1[\\xb3x\\xae\\xd5\\x94<\\x81\\xa9\\x0e +O\\x82\\x84\\xecy\\xdfo\\nW\\xb5\\xf1\\xb5\\xa89\\x8ef\\x86E\\xf9\\x88\\x80\\x8b\\xc2Qc\\xe49\\'\\'\\xc5\\x9cCC\\xb6@C\\xc0\\x7f\\x11\\x12\\nI\\xfcH \\xdc\\x1d\\xfa\\x8eu\\xe3\\xac\\x16\\xce\\xa10>#\\xce\\xab1\"\\x0e\\xb6\\xe4F\\xe2L\\xfa\\x7fz\\x99\\x83\\xcc\\x8a\\xac\\xa5L\\xf2T}\\x7f\\xcf\\xa5s\\x0f\\xa7\\xab\\x98 r\\xbar\\xc6\\x96\\xe9u?Z]\\x17\\xb2\\xba\\xfe\\xf7\\xf2\\xa6Yx\\xb4\\xa8?\\xb1\\xd4T<CjA\\x94\\x83\\x1b\\xc71\\xfa\\x8f\\x1aq\\xbcj\\\\N\\x85\\xef\\xc9\\\\\\xc1\\xac\\xc5;t\\xf6[n\\xedk\\xb7\\x97.\\xca\\xdd8~\\xd0D\\x88\\x07SJ\\xfc\\'\\xf0\\x9f0H\\xf25\\xc7\\x10\\x12\\xad\\x0b\\xb0U\\x81<\\x94?_\\xca\\xa9P\\xea\\xdb:\\x15\\xcfc\\xc9C\\xf5\\xa5)\\xe2\\xbf\\xe1\\xb9pl\\x95\\xf8\\xf2\\n\\xf1\\xe5<\\xebB$\\x0e\\x93\\xe6\\n\\xcb\\xf6\\xf7\\x99\\xb1\\xf9*\\xc1\\xf5\\xc0\\x83\\xcc\\xdb\\xc1B\\xd1\\xea+\\x94\\x0cMT\\xab0\\xecT\\x96q\\n\\xb2\\xcc6\\xb2\\x0c\\x18\\x1b\\x13\\xc9]:\\xd4G\\xb8\\xd7\\n\\x96\\x81\\n*\\xd4\\xad2\\x05\\x87z\\x0e\\xd3\\xca\\xe0\\xecd\\\\M@\\xc2V\\xa9\\x19\\x1aOQ\\xa4_\\xfa^>\\x1fUf\\xbc\\xdchB\\xa6\\xebPG\\xc5zO\\xcai)\\xc4\\x15\\xbe\\xae\\x811\\xf1?\\xe6\\x84\\xb2\\x9e$\\xc3\\xe2\\x16\\x96\\xe4 #\\xf8\\x80\\xa8\\xef\\xa5jR\\x82\\xbf\\t\\t\\t>\\xa7\\xa5\\x16\\xac\\xa1\\xa4-\\xd2`F\\xa5+\\x96\\x94\\x8f\\xa5\\xcdm\\x88\\xc3\\x9a\\x0e\\xca\\xe0A3\\x1ef\\xde\\xcbf\\xee\\xf5go\\xba\\x90\\xb3%J\\x8f\\x01\\xf4\\xa7\\x19kJl?\\xc9\\xa6PgM\\xeco\\xe9\\xbd9\\x8d\\xc5\\xe8M\\xbd(3$\\xc2\\x83&\\x1a\\x138\\xe7\\xaf\\xa7\\x9f3\\xe5\\xb0\\xf2\\x12~&\\x9d\\xc3 $kV\\xfc\\xaa\\xbf/d\\xb8\\xbf\\x01u\\x1e^\\x02\\xacq\\x0b\\xbd\\xb9~\\xedW\\xa8\"\\x18\\xac\\xf0\\x07\\xfec\\xcd3\\x8auJ\\x1b@\\x17\\x03\\x9f\\x9c\\xfd\\xdak\\x06\\x84\\xb6u\\xac\\xdf\\xc3\\xe5^,\\x12~\\x9f\\xda\\xa53\\x85Ci.\\xba\\xa0\\x02AQ$\\xd9 \\t$\\x93\\xce\\xa4\\x90\\x1b\\x1fa\\xa9YT\\x01\\xa1\\tq\\xf6q\\x88{N\\x01\\x86\\x8e\\xa7\\x92\\t$\\xc7p\\x1f\\x90\\xb6\\xf43\\x9f\\xfb?\\x7f\\x0c\\xcaq\\r\\xaf\\xb5R\\x06\\xa7@\\x1bG4\\xfe 9\\xd4\\x07x\\xad\\x7f\\xed\\x15\\xe3\\x13t\\x95i\\t\\xff\\x00\\xda\\x16\\x03\\xc0\\xc5\\xfc\\xc9\\xad\\x93\\n\\xeb\\x8f$Jt\\xa1I\\xdby\\x04s4\\xea\\xadZ\\xfb1\\xb4\\xc3\\x00\\x03Wu<G\\x97\\x08\\xe5)si\\xb3\\x11\\x98\\xfc\\x03\\x81\\x1d\\xee\\xbent\\x85\\x12\\xad M\\xfe5\\xed\\x19q\\x07\\n8\\x9cK\\xa1\\xbc9\\x08\\xd4t\\xc2\\x84A\\xbd\\xab\\xca\\xe8\\x99\\x8b\\xa2\\xf6\\x87f\\xd6\\xfc?\\xb4\\xbc\\xe1\\xde\\x0c*<_f@J@\\x03\\xad\\x1d\\xfb=\\xe1\\xc6\\x1dR\\xc3\\x89\\n\\tH0y\\x931\\xf4\\xa8~\\xc9\\xb8mjx\\xbe\\xb6\\xd2\\xb6P\\nF\\xaf\\xc5k\\x81\\xe1\\xb7\\xadjY\\xee1\\x8c*\\x14\\xfa\\xc8@H\\x89\\xeb\\xd0x\\xd2-\\xa7\\x8e-\\'\\x0fJI\\xe6\\x0f\\x13\\xc3\\xe1D\\xe1\\xe8I\\x0e+\\xdc\\xb3+g\\x0e\\xc8B\\x10\"y\\xef\\xebQ\\xf3l\\x87\\x0f\\x8aL:\\x84\\xcf.P}(\\t\\xafj\\xa8[\\x81*h\\x84O\\xbd7\\xf01\\x14y\\x82\\xc5\\xb6\\xe3A\\xc0\\xab*\\xe3\\x95\\xa9-j\\x18\\xbc3\\x85J\\x92\\t\\xe3\\xf9\\x1cS\\x06\\xd2k\\x9b\\x13+ \\xe2\\x8c\\'\\xd9^-\\x91o\\xbay\\x11U\\xf8\\xacZ\\n\\x04\\xdc\\xd1\\xef\\xb5mJa(\\x0c\\x8d:\\x92{K[\\xf3\\xbdgXL\\xbe72+\\xa8\\xc0T\\xdf\\xe1\\xdbQ\\xda\\xfc\\xbfN\\xc9N\"\\x98\\xa6\\xf8\\t\\xa5\\xba\\x9d\\x81\\xaf0\\xcaPX\\x14\\x9ck(\\x9e\\xe9\\x82+\\xdc6\\'I\\xb0\\x93\\xd6\\x98\\x8b\\x0b]\\x0e\\xa7\\xaa\\xca\\xef\\x0bs\\xa5#0)P\\xec\\xca\\xa4\\x1b\\x0e\\xbeb\\xa0<\\xa5\\xa8\\x80\\x99%F\"\\x8c\\xf2\\x8c\\x89,\\xa5$\\xa6\\\\;\\x9f\\xc8U,\\x1bu\\x06\\xca\\xa5\\xc4b^\\x05\\xc7\\x1b\\x11\\xd0~\\x95E\\x8c\\xc4H\\xb0\\x8b\\xd6\\xad\\x85f\\xdbP\\x06\\'\\x86^V!`\\xa4\\x84\\x95\\x93<\\xa3z\\x86e\\x996^i\\x95L\\xd2\\xf5&\\xdc\\xab\\x9bwI\\x82\\xad\\xcd\\xccj u\\x02D\\xf9H\\xa2\\x9c\\xdb&m\\xa6\\xc1H\\x00\\x8by\\xd0f!\\x1d\\xe3D3+\\xd7\\xa5\\x1ce|\\x12\\xcb\\xba]\\xfbn\\xb4X\\xd9\\x92\\x08\\xfe\\xa0\\\\\\x91\\xe8\\ri9*\\x06\\x1d\\x01\\x1d\\xa0q\\xb3\\xb1\\x00\\xcaO\\x94\\x9b\\x1a\\x1f\\xe0\\xae\\x1f\\xc2v\\x08\\xc4a\\xc9Z\\x96.]$\\x94\\xab\\xef \\x81\\xddI\\x06\\xde\\xed\\xc4\\x195~\\xa6\\xa3\\xdeI\\x1e\"\\x08\\xfd\\xfc+\\x8f\\xc7\\xe2\\xddU\\xc6\\x91q-\\x07B\\xd6\\x82=/=m\\xda\\x13\\x9c6\\x19\\x90\\x1d\\x10z\\x12\\xad\\x9f\\xc1%bD_\\x98\\xda\\x87q\\xd8\"\\xda\\xa0\\xed\\xcb\\xa1\\xf2\\xab<;\\xe5;\\x18\\x1dF\\xde\\xa0\\xd4\\xd7\\xdd\\x94\\xff\\x00\\x11\\xbdI<\\xd3\\x7f\\xf1J\\xd8\\xe7S<\\xc20\\x07\\xb0\\xc1\\xbf\\xba\\xa0\\xc3f\\nGu}\\xe4t;\\x8f\\xe95\\xd8\\xc6\\x81\\xef\\xb4g\\xa8\\xd8\\xfc:\\xd3\\xd8\\xcc\\xb5\\n\\xff\\x00I\\xd4\\xcf\\xe0]\\x8f\\xa1\\xaa\\x95v\\xad*\\x14\\x92\\x0fC\\xcf\\xc8\\xech\\xb6\\x86\\xba\\xed7\\xe4\\x88\\xa6[6\\xb1\\xf9\\xc1Oo>m\\xa6\\x94\\xa7\\x81S`\\xa4\\x11\\x00\\x90T\\xa0\\x90`\\xf2\\x93B\\xfc[\\xc5\\xed$!XU\\xaa\\xe1\\xc4\\x99\\x06\\x02LDrQ\\x90\\x95$\\xf4\\x9f\\x1a\\xa7\\xe3<\\xf1AJn,\\xa0\\x90e1\\x05=\\xe1\\x04s\\xd5\\xa6g\\xf0\\x8d\\xa4\\x92\\x10PO\\xad\\xe3\\xcb\\xf6i\\xf6\\x03e\\xd2\\x81Y\\xfa\\x9b\\xc4\\xda\\xe3\\x94j\\x84\\xc4U\\x87\\x90\\xdf5g\\x88\\xcd\\xddy-\\xa5KZ\\xbb;\"d\\xc0\\xb0?\\xd3`6\\x9d\\xaa\\n\\x8c\\xf3>\\x03\\xc7c\\xbf\\x80\\x17\\xfd\\x87p\\xf8E\\x11\"\\x01\\x98\\xbc\\x9b\\xc8<\\x86\\xd7\\x15)\\xd6\\x12\\t!V3<\\xed\\x027\\x13\\x13\\x1c\\xb7;\\x8au\\xe1m\\x85\\xbb \\xb3\\xf3U\\xc9B\\x81\\xb5\\x8f\\xcf\\xe1\\xf9\\xf8\\xd4\\xb5\\xe7\\x0f\\xaaR\\\\^\\x95\\x04\\xa5W\\'\\xba\\x8b\\t\\x1b\\x14\\xdc\\x98\\xea\\xa5u4\\xe3\\x8d$\\x82$\\x92\\x00\\x13m\\x80\\x10\\r\\xfes\\x10,\\x08\\xa6^\\xc3\\x90\\x04\\x90DX\\x8e\\xa3\\x90\\x98\\x1djs\\x03\\xa8\\xf9\\xf2=\\x17\\x83\\xb9-\\xa3,\\xe2l3\\xa9\\x1d\\x9a\\xf5,\\xb6\\x9e\\xec+\\xbb$\\x02\\r\\xa2f\\xd5-\\xa6\\x8b\\x8eA\\xd8oX\\xa6A\\x8e8lCk*RS\\xad:\\xf6\\xf7B\\x92L\\xef\"\\xc2\\xb6l6b\\x87\\x10\\x952\\xa9\\x0bL\\xea\\x12-0w\\xb8>|\\xeb\\x91\\xda\\x1b<a\\\\7s\\x04jx&\\x98j\\xa5\\xcd1\\xf5{|\\xf7WN\\xe2\\xd0\\x12R\\x90 Z\\xdb\\x0f\\xef\\xfb5V\\xee \\x0f\\xc8W\\x98L:\\x9c:Q\\x01#\\x99\\xda\\xa6\\x8c\\xbd-\\x9b\\xabZ\\xb9[o!K\\x08ku\\xfc\\xab\\x06\\xb2\\x97\\x87R\\xbd\\xc27\\xa4k]\\x89\\x16\\xf0\\x15_\\x9d\\xa1\\xacSe\\x85j(\\\\HL\\xa7\\xcaO\\x86\\xf1S\\xd5\\x86Q\\xde\\xc3\\xc6\\xbc\\xc3\\xe1\\xc6\\xad\\xa6=>uF85\\xd9\\xc1\\xb8\\xd28,\\xdc\\xd0d\\x93?=>\\xeb:s\\xd9Z\\x82\\xa1\\xbcRJ\\'e!A`\\x7f\\xd2H&<\\xaaS\\xd9\\x8e;+)enk\\xc3\\x9b6\\xe1\\x13\\x1f\\xca|\\xbat\\xad(\\xb4\\x92 \\xaa\\x07K\\x01\\xf2\\xde\\x82\\xfd\\xa8c\\x1co\\x0b\\xa0\\xf6kmd\\'\\xbde\\x8e\\x85 \\xef\\xe66\\xa6t1\\xd5\\xb1u[J\\xb4<\\x1bA\\x00y\\x83\\x1a\\x84\\x03\\xd8\\xd64\\xb9\\xb6+>\\xc7cq.8\\xa5\\xab\\x14%FlLxG\\xa5uT7\\x89P\\x00\\x03^WP(\\xb5\\xa2\\x03G\\xa0K7\\x8f\\xe6\\xb4\\xefe\\x98\\xcc_b\\xa0\\x18\\x96u\\x12\\x95\\xea\\xd2I\\xe7\\x02.\\'\\x9d\\x0f\\xfb]\\xcd\\x96\\xeb\\xe8cIH@\\xd5\\x13\\xb9<\\xcf\\x90\\xfa\\xd5\\xf7\\xb2\\xbc\\xcf\\x14\\xe6\\x13BB\\x03m\\xa8\\xa4(\\xc9Q\\xe6~\\xb4\\x1b\\xed\\x01+F=}\\xa1\\x99\\x02\\x0f\\x81\\x11jM\\x85\\xa6\\xd3\\xb4\\xdeH\\x12&\"\\xfe}\\xfeBd\\xd1\\x14\\x07\\xc2\\x84\\\\h\\xa6+d\\xf6`\\xf0{\\x08;C:\\x14R\\x07\\xd2k\\x1f\\xc5\\xa8X\\x035\\xaa\\xfb\\x1a\\xc0\\x94\\xb0\\xf3\\xeaWp\\xaa\\x02f\\xdd\\xdd\\xcf\\xce=(\\xed\\xb7\\x94\\xe0\\xcb\\x8e\\xb2#\\xe7i^\\xc2\\xb9\\xc1\\xc5^\\xf1\\x93\\xf8B\\xd2\\x9a}}\\x9c]0y\\x81o:\\xcc2,\\x1a\\xdfQB}\\xd0\\x0f\\x7f\\xe9[\\x1eq\\x88ah\\xd2\\xf6\\x18\\x14nI\\x12<\\xeb0_\\x162\\xcb\\xce\\x06\\x1a\\x86\\x81\\x84\\x01o?I\\xa06+\\x8eG1\\xa0\\xf3\\x9b\\x16\\xf9q\\x92\\xb2\\xc7\\xb4\\xc8w\\xfa\\x84\\x1f{J\\xd4\\x92.\\x0c\\x13\\xe5M\\xa3\\x12\\x02\\xadF|\\'\\xc1\\x9foZ\\xf1.\\xa8\\xb6\\xd1\\\\\\xe8\\x00\\x82\\xafS\\xcb\\xca\\xb4FxO\\x06\\xd0\\x01\\x0c\"\\x01\\xd4\\t\\x12g\\xcc\\xd1\\xd8\\xbd\\xaf\\x87\\xc3\\xbfvAs\\x86\\xb1\\xa0\\xf3YQ\\xc1\\xbe\\xa0\\x99\\x85\\x9d\\xf0^\\x14-JuB\\xc9\\xb0\\x9e\\xbc\\xe8\\xbb\\xb4\\x13k\\xd2\\xb36\\xcfhB\\x13\\x12vH\\xa4+\\x04\\xe2RTP`\\t6\\xbd[\\xf7\\x0c-\\x0et\\t\\x02\\xc4\\x8e(7Ryq\\r\\x04\\xc7D\\xadc\\x9d\\xe9\\x8cF,!%K:R*\\x831\\xe2\\x80\\xd0\\x80\\xd1\\xd4v\\xd5oZ\\x15\\xccs\\x971\\n\\x1a\\xcd\\x87!\\xb5\\x12\\xdaE\\xcb0\\x0f\\x15u\\x8b\\xc7\\xfd\\xadR$i=\\xd1\\xd7\\xce\\xab\\xb1\\xb9;\\x80j)\\xb5H\\xe1m%\\xd8Q\\x1b\\x18\\xadc\\x87\\xb0\\xcc\\xb8\\x98M\\x9dN\\xe0\\xe9\\x9f4H\\xdb\\xcbj\\xc7\\x15\\x8a\\xfd\\xb33\\x00Oo\\xe7\\x92\\xde\\x9b3\\xbc6af\\x19\\x16a\\x8fa`\\xe1Zt\\x83\\xbf\\xf0\\xd4\\xa4+\\xfa\\xad\\x1f0|kV\\xc1g* v\\xcc\\xa9\\x04\\x81$\\x02\\xa4O?\\x14\\xfc\\xe9\\xf7\\xb2\\xb5\\xcc\\x95\\x9fT\\xcf\\xe7Q\\x97\\xda\\xa6\\xd3\\xea\\x04W7\\x89\\xc5\\xd2\\xc5kLO9 \\xfa\\xc5\\xfd\\x13\\x8a\\x18L\\xbfK\\xcf\\xf1\\xf3\\xcdO\\xfe\\x12\\xc4\\xa4\\xfa\\xa6\\xe3\\xd6)\\xb4\\xb8\\xf3^\\xeau\\'\\xc2\\xe3\\xe1\\xbdCm\\xfd&T\\x84\\x93\\xd6\\x06\\xaf\\x88\\xbdYa]J\\xb7\\xd4\\x8f9\\x8f\\x98\\xfc\\xe8\\x1c\\xa5\\xba\\\\uE\\x96\\xb9\\x8d\\xf1\\t\\x1e\\xbf\\x95[\\x8a\\xc5%\\xe0R\\xb6\\xd2\\x0fT\\x8b\\x83\\xeb\\xce\\x80\\xf8\\xd1\\xdcV\\x1c\\r8\\x85\\x84\\xac\\x14\\x94\\xea\\x05\\x04u\\xd2\\xad\\xb7\\x83\\xe67\\xad\\x0f\\x18\\xa6\\x12\\xadD\\xa5g\\xc0\\x19\\xf8\\xa7\\xf5\\xac\\xf7\\xda\\x8b\\xec+\\xb3\\xd2\\x95k\\x13\\xde0;\\xbd/u\\t\\xe9\\xb1\\x9ai\\xb2\\xe5\\xd8\\x86\\xb7-\\x8d\\xee$)\\xaaF\\xea\\xc0\\x81\\xd6c\\xfb\\x08\\x1b\\xed\\x0bT\\xadj$\\xa6&J\\x94`\\xaby&7?:y\\x8c\"\\x86\\xa5\\x11\\x1aI\\xf1\\xb6\\x95&\\x0f/xG\\xa8\\xa4`BT@\\xf7\\xa4];\\x13\\xa66\\x8e\\xa2c\\xc4\\x0e\\xb57\\x18\\xf1\\x1ev\\xf1\\x04\\x932<\\t\\x01^z\\x85un&`%ou\\x94<S\\xdb\\xcf\\xe5\\xd5`x\\xec\\x01\\xfd\\xda\"\\x9d$\\xfe^\\xb3\\xe9J*\\xebai;\\xc7\\xf8\\x11\\xfb4\\xb6\\x90$\\xdey\\x0eSq\\xfb\\x8a\\xd5\\x8d\\x08bW2\\xb5{\\xdf?\\xcb\\xcb\\xca\\xa4\\x97e1\\xb7P6<\\xa6\\xc3m\\xad\\x1c\\xe9JL\\xf7A\\xb0\\xe7\\xd7\\xd0\\xf4\\x98\\xf8SH\\xb9\\xf11\\x16\\xf4\\x11\\x1c\\xff\\x00J\\x87\\xb4j\\xa5\\xa5DU\\x8f!\\x06\\x01\\x1c\\xfe\\x1b\\xec6\\x8a\\xd1}\\x99c\\x8a\\xdaZ\\x14\\xa9\\t\\x88\\xee\\xec\\x9b\\x83q\\xcaE\\x81\\xdc\\xcf\\xa6\\x7f\\x8b=OM\\xf6;\\xcc\\x88\\x9d\\xc7\\x9dh\\x1e\\xcbXOb\\xb5A\\x04*\\xf2{\\xa4\\x91hH;\\x81\\xe1\\xcf\\xc6iv\\xd5\\x8f\\xda\\x12G\\x10\\x98\\xe1\\t\\xcf\\xe4\\xb4|\\xb4\\x08\\x00\\x02\\x07\\xcc\\xd4\\xb2\\x90\\x9b\\x91\\x13\\xc8]F\\xa23\\x8eKcy4\\xc3\\xf9\\xc6\\xae\\x7f\\x0bW\\x14\\x1aL\\xd8\\xa2\\x1dJ\\xa3\\xdd1d\\xe64\\x9d\\xd5\\xdd\\x1c\\x932}j\\xbf\\x13\\x9a\\xa5\\xa4J\\xc8JGS\\xa7\\xfb\\x93N\\x97\\xc13#\\xe3TY\\xf7\\x0c\\xe1\\xb1gQZ\\xdas\\x92\\x82\\xb5\\xa7\\xd5$\\xc0\\x1eQ[\\xd0e2\\xe0*\\xc8\\x1d\\x04\\xfd\\xbf\\x9b\\xabU\\xcc\\xd6CD\\xaa\\x0e \\xf6\\x98\\xe8\\x94a\\x02\\x11\\xfc\\xfaeG\\xfaA6\\xf3W\\xc2\\xa8\\xb0xA\\x8dH}\\xd5\\xadN\\xdc(\\xa9D\\xc9\\xf5\\xd8x\\n\\xb6k%KO\\x061\\x0c\\x82\\xb8\\x948\\x9b\\xa5\\xc4\\x8e`\\xfdA\\xb8\\xabe\\xe5\\xc8l\\x7f\\r\\xbd2f6\\xae\\xb2\\x85:\\x14i\\x8d\\xc0\\x89\\xe3\\xcf\\xcf_\\xe9s\\xd5\\xea\\xbd\\xee\\x87j\\x82\\x1e\\xe1\\xb7\\xf5\\x18\\t\\x8eW\\xae\\xa2\\x873\\xfc:IJ\\xd45\\x0b\\x1f1]D\\x8a\\x8fX\\xa4{\\'\\xce\\xd2\\xce\\x19\\xc4\\x125\\x17;\\xa0\\xf8\\x80>\\xb5{\\xc6\\xbc\\x1a\\xacj\\x03\\xc80\\xf2E\\xa7es\\x83\\xd3\\xce\\xb3^\\x1d-\\x8cS%\\xc8\\r\\xa5`\\xa8\\xf9u\\xf5\\x8a\\xfa\\x07\\x19\\x9a\\xb2\\xdb\\x1d\\xae\\xa1\\xa2\\xc1$\\x1d\\xc9\\xb0\\x8a\\xe7\\xf6\\x98~\\x1b\\x16+P\\xfa\\x9d\\x7f\\xe3*o\\x87\\xaa\\x1dO$tXvU\\xec\\xeb\\x18\\xea\\xcaV\\x8e\\xc8\\r\\xd4\\xab\\xfc \\xde\\xb6\\x0c\\xaf\\x85\\x90\\xc6\\x04a\\xd0v\\x12OUnI\\xf351\\xfc\\xc1\\x0c\\xb0\\xe3\\xce\\x98HL\\xcdFs\\x88G\\xd9;V\\xcaH\\xd3\\xd7\\xc2\\x83\\xc4\\xe3\\xf1\\x18\\xb8\\xcda6\\x8d3w[\\x06d>\\rABX\\xdc\\xc1\\xb4\\xb2\\xb6\\xb1\\x0f+A\\x90 \\xfc\\xadz\\xca\\x99\\xc1\\x97\\x1e\\xec\\x99\\x04\\x85*\\x01=\\'s\\xe9E\\xd8\\x0c\\xa5\\xecH\\xd4\\xfa\\xa1:\\x8d\\x80\\xb9\\x13\\xbd^\\xbb\\x84g\\n\\xd2\\x96\\x94\\x01\\xa5$\\xcf3]\\x1e\\x0e\\x90\\xc3H\\x06I\\xe04\\x9ez%\\xb8\\xaa\\xe2\\xa1\\xb0G\\x19^\\x10\\xb5\\x87m\\xb2A\\xd0\\x80$\\x0e\\x82\\xb3\\xae7\\xe2\\xf7\\x83\\xc5\\x96\\x8e\\x94\\xa2\\xcaP\\xdc\\x9d\\xe0t\\xa5a=\\xa8\\xf7\\x12\\x84\\xe1\\xe0\\xc5\\xca\\x97\\xdd\\xf4\\xb4\\xd3y\\x86T\\x8cZ\\xfbs)*\\x82Bv\\xa5X\\r\\x9bR\\x9db\\xfcC9\\xc6\\x9a\\xcf)F\\xd4\\xc6S\\x0c\\x86\\x9b\\xf6*\\xa7\\x85\\xb1\\xb8\\x871\\x01a\\xc5@\\xba\\x89\\xb8\\xf2\\xa2~&\\xe2u\\xb2\\x80I\\x99\\xb0H\\xb7\\xc6\\x9f\\xc1aR\\xd24\\xa1\\x10\\x07\\xcf\\xce\\x86x\\x9f-}\\xf5\\x05iJR\\x90y\\xefN\\r\\n/\\xa8\\x1c\\xf6\\x8f4\\xad\\xf8\\x9a\\x84e\\x06\\x02\\x10\\xcc1\\xaay\\xc2\\xb5n~B\\x9b\\xc34U:D\\x98\\xa2\\xae\\x1e\\xe0,F&\\xf2\\x84\\xa0\\x1b\\xaag\\xce\\x07:W\\x11\\xb4\\xce\\x10\\x96\\x182E\\x96\\xa2 \\xcfJ c(\\x9a\\x9b\\xa6\\x19wN\\x1d\\xca\\xae\\xe9\\xe1\\xb9\\x88\\x81\\xf3\\x86\\xa8_\\xecJL+V\\x93\\xca\\x8b\\xb8I\\xac\\xc5\\xc4\\x85%2\\x89\\x94\\xb8\\xe1\\xd2\\x0f\\x8aO\\xbc|\\xc0\\x8a\\x16\\xec\\x94\\xab\\xa8\\xc5\\xebJ\\xe0n$\\xc7<\\xf0`\\xe9q\\x1aI\\'\\xb2H)\\x03\\xdd\\xd4\\xa4\\x80\\x00\\xe5qX\\xe3*Um\"i\\xe5\\'\\x8c\\xf0\\x1f:\\x85\\xa50\\xc2\\xe8|\\xf9|\\xfe\\x15\\xd39\\xb6b\\x8bjiB>\\xf2\\xd2o\\xe7\\x13S\\xb0\\xb9\\x8e)`\\x07N\\x1c\\x1ea\\x00\\x9f\\xa9\\x151\\xdc3\\x82\\xebCd\\xf3(\\xd3\\x1f8?*S\\x0e\\r\\x8a~\\nH\\xfc\\xab\\x91\\xab_y\\xab[\\xe4#\\xe7\\xa2uJ\\x85036O\\x9c\\xa5\\xe1\\x9b_\\xe2\\x00\\xff\\x00(\\x1f\\xaf\\xe7R\\x8bc\\x98yG\\xc8}M\\xbet\\xeb]\\x8f\\xe13\\xe7?JZ\\xc8\\x02t\\x80:\\xadG\\xf5\\xa1\\xed2`\\xfc\\xec\\xbc\\xe7\\x92l\\x0f\\xd8\\x7f(o\\x1a\\xea\\xca\\xe18r\\x07Ui?0 VW\\xc7\\xf6\\xc4\\x11\\xda(\\x91\\xb8\\xb9H\\x9d\\xc2H\\x00\\x11<\\x87\\xe1<\\xefZ\\xd6a\\x88K\\x86\\x02\\x95\\xe4\\x98\\x03\\xe6\\x99\\xa0?i9t\\xa5\\x0e\\x04,@\\x8d\\x94D\\x03rO[\\x80\\x01\\xf1\\x89\\xa7;\\x1e\\xa8mp\\x08\\x89\\x1f5\\xfe\\x115\\x9aM+\\x88\\xf9\\xdd\\x05\\xe1\\x19I7\\x07R@\\xf1\\xe8I\\x81r\\x016\"H\\x80oH\\xc7\\xa8\\x9b\\xf2\\xf4>w\\x16\\xe4|\\xe2\\xe0\\x1a\\xe6\\x9e\\xe7h0\\x95^E\\xb5\\x10`\\xf3\\xfe\\x92<\\xeejF1\\x13y\\x04\\xc7T\\xf3\\x92.nl\\xa4\\xdc\\xff\\x00\\x8e\\x9f\\xfe\\xae\\x94T\\n\\xadj\\xb9\\xeb\\xfb\\xfd\\xfe\\xee\\xac2H\\x07\\x94G\\xac\\xf2\\xf1\\xff\\x004\\xe8n\\xfb~\\xf6>\\x1f\\xe4W\\x89\\x95\\x03\\xcc\\xff\\x00\\x8f\\xec>\\x1d+`\\xe5\\x82{\\xb4\\xb6\\xe0|\\xe3\\xf55\\xebz\\x86\\xd6\\xeb\\xb4\\x9f\\xed\\xfa\\t\\xa4v\\x13?\\xdf\\x9c~\\xbf\\xe7jX)JL\\xaa\\x0f\\x88\\xf5\\x06\\xfd}\\x7f*\\xab\\xdd6Vh\\xba\\x8e\\xff\\x00x\\xa4H\\xb9\\x10H\\xeb\\xd6v\\xf8\\xef\\xab\\x95j\\xde\\xcfZH\\xc3iRV\\xa92\\x9d\\x92\\x00 I\\xb0\\x9d\\xe7r|+3\\xc82\\xf3\\x8a\\xc5!\\x91\\x00\\xa8\\x98\\xb9\\x00Gx\\x9d\\xba\\x03\\xf2\\xad\\xe7,\\xcbKM!\\xb0\\x12\\x12\\x90\\x00H&\\xd1\\xe9\\x7f:C\\xb7q\\re6\\xd2\\xe2`\\xf2\\xb0\\xfc\\xa68xl\\x94\\xd3x&c\\xbc\\x14|eU#\\r\\x80d\\\\\"|M\\xfe\\xb4\\xea\\x90\\x94\\xdd@\\x0f35\\xe3\\xb9\\x92\\x12\\x0e\\x81\\'\\xa4\\x1a\\xe5s=\\xf6\\x04\\xa2\\x1c\\xe7\\xbf\\xe9\\x94\\xf3\\xae0\\x84\\x92\\xa5\\xb6\\x84\\xf3*\\xd2\\x91\\xeb5Z\\xe7\\x12`\\x82e\\x18\\x849\\xe0\\xdc.\\xfd%6\\xf9\\xd4$\\xa1\\xc2m&y\\x11j\\xaf\\xcc8eZJ\\x98i\\xb6\\xd7x\\x03\\xfd\"M\\xe5IM\\xd2w\\xbaz\\xedE\\xd0\\xa1\\x87.\\x02\\xb3\\x88\\xed\\x1fy\\xfc\\xa1\\xeb\\xd3\\xa8\\xc1\\xe02\\xa1gY\\xa3\\x98\\x92\\x03I\\xec\\xc2L\\xa4\\x84\\x05(\\xabb\\t\\x9e\\x9d:s\\xe5\\x19\\xcc\\xcb\\xb3\\x1a]p\\x15\\r\\xe7H?\\xf6\\xa4\\x93B\\x99\\xbea\\x89iKC\\x8e\\x92\\xa4\\xdbC}\\xc6\\xc7\\x85\\xae\\xafZ\\x16{\\x14\\xa5{\\xdf\\r\\x87\\xc2\\xbb\\x0c>\\x19\\x8c`e;7\\xd6}RZ\\x8f.2\\xedV\\x80\\xfeF\\xc3\\xaa.vg\\xbd\\x7f\\xf5\\x10>W\\x8a\\xea\\x03N-c\\xef\\x1f\\x89\\xafh\\x8d\\xdb\\xbf\\xfaY\\xa9,8\\x95\\xaa\\x04\\t\\xe6j\\xf9\\xfcBR\\xcaZs\\x17\\xa87t!;\\x03\\xca\\x86X\\xc3\\x91\\xb9\\x8aJ\\xbb0I&j\\x1dM\\xae#\\xa7\\x9a\\xbc\\x94m\\x9d\\xf1\\xc2\\xdf\\xc1+\\x0c\\xa6\\xbb\\xca\\xd2\\n\\x81\\xb1\\x00\\x83\\xb7[P\\x83\\x0by\\xb1\\xdcZ\\x80\\xdfL\\x98\\xf5\\x1bS.bE\\x806\\xa7Ym\\xd5J\\x92\\x95i\\x1c\\xe2\\xd5J\\x18vPam1\\x00\\x99W}G8\\xcb\\x91\\x06\\x0b\\x8d\\xddHJV\\xd0W-B\\xdf*\\x9b\\x9d\\xe7\\x89\\xc4a\\x1d\\x08\\x90\\xa0.\\x0f\\x9d\\t`\\x08\\'{\\xcd\\x85\\x19e<*\\x14\\xb4\\xf6\\xcb\\tB\\x88$m6\\x98\\x9a\\xf5R\\xcaM\\xceDE\\xfd\\x16a\\xb9\\x88\\x083&\\xc0\\x97\\x96\\x12\\x05\\xee~\\x14y\\x81\\xcc\\x9f\\xc2\\xa0\\x9cF\\x15\\xc2\\xd0L$\\xa0@\\x11\\xcc\\xd5\\xe6M\\x98\\xe1\\x1ay\\xbc\\x1a\\x19\\x82\\xa5*\\x16@\\x8b\\x13\\xb173W\\x1e\\xd11)o\\nd\\xc2I\\x00\\xc7Bo\\x14\\x9f\\x11\\xb4\\xdfR\\xb3h\\xe4 8\\xf3\\x83\\x04\\xea#D{0\\x81\\x9e\"t\\xe9\\xee\\x813.,\\xedKm\\xe0\\x90\\xa2\\xb5\\x0e\\xf0X\\xb8W >t8\\xac&1\\xe58\\xa5.4+J\\xf5+H\\x07\\xca\\xad\\xf2\\x9c>\\x1d+\\x0e\\xa3\\x11\\xdfGxD\\x03U\\xd8\\x0cv\\x1d\\xccoi\\x89\\x9f\\xb3\\x82IM\\xfb\\xca\\xe4T\\x06\\xf7\\xa6`:\\x9b\\x0eA \\x0e2\\xe7\\x13:u\\xb6\\x8b\\x06\\x96\\x17I\\x1a\\xf9\\x05\\xa9pnQ\\xd8`\\xd3\\x0b&d\\x95\\x03c7\\xb4\\xf2\\xac\\xa3\\x8a\\xb1\\xa1x\\xe5\\x86\\xf5(j\\t\\x12/<\\xfetS\\x9e\\xf1\\x1e+\\x1a\\xdfe\\x86l\\xb6\\xd2Ue\\x03\\xa4\\xa9#o*\\x8b\\xc3|8\\x1b_h\\xe2\\x82\\x96/\\x1b\\xc1\\xf1\\xa0\\xf6~\\x1a\\xa5\\'\\xbe\\xbd\\x7f\\xa9\\xd3nW\\xe3\\xd7\\xd9i\\x8b\\xc4\\xb1\\xcd\\x0co\\x04\\x8c\\'\\x08\\xa8\\x80\\xa7\\x15}\\xe0r\\xab\\xac\\xb1\\xe7\\xd8!\\x86\\xdc\\xd3&DD,s\\x07\\xc4MN[\\xd4\\xc0i\\xb5\\xb8\\xda\\x9c\\xee\\x84\\xa8\\x1d@\\x90@\\xe7\\xb7\\x85\\x13S+\\xdaC\\xc4\\x8e\\xd3\\xf6@\\xd3{\\x83\\xa4\\x15u\\x96\\'\\x14\\xb7V\\x1eB\\x03I\\xd9ru+\\xc9&G\\x99\\xb7\\x84\\xd5\\xd3xR\\xa9\\xd2-\\xd6\\x96\\x9c\\xdb\\x08\\x06\\xa5:\\x93\\xe1\\n\\xf9\\x08\\xbd!\\x8c\\xd7\\xed\\x04\\x84!Ils\\xb0\\x93\\xd2\\xdb\\xd7)]\\xb5\\x1d52eoh\\xf7\\xd4\\xfc\\x84\\xf6\\x96#Ff\\x93\\xcc\\xa5\\xa3\\x00N\\xeb\\x00|i\\x87\\xd8l\\x1b\\xac\\xaf\\xe4?3\\xf4\\xa9.\\x08\\xb0\\x06|.i\\t\\xc0\\xda\\\\:G\\xe1\\x1e\\xf1\\xf3<\\xa8V\\xbc\\xc4\\x94X\\xa8E\\xcb\\xbd!CS\\xe4\\x90\\x84\\x8f$\\x8f\\xdf\\xcc\\xd7f(m\\r,\\xbaJ\\xd5\\xa4\\xc3h\\x1a\\xcf\\x94}\\xe3\\xe1ST\\xb4\\xb6!#L\\xec\\x91u\\x1f3\\xbd@C:\\x95\\xde7\\xe8\\x0e\\xde\\xbc\\xab@\\xeb\\xe66\\x1fs\\xef\\n\\xed\\xf1\\x0eC\\xeeV\\x17\\x8byIp\\xeaAN\\xfd\\xd3\\x13}\\xa4|-\\xb5\\xbc\\xcdL\\xc3\\xe3\\x00\\x80d\\xa4\\x01\\n\\xefo \\x00`\\x8ev\\xf5\\xadS\\x888M\\x18\\xb8\\x82\\xa1\\xa7m\\xb4\\x83\\xd5S\\x05G\\xcdU\\x9cg<!\\x89e*Z\\x90\\nG\\xe1P$\\x89\\xb6\\xd7$@\\x1bs\\x9a\\xec0\\xdbF\\x86$A9]\\xcb\\xfd@\\xbe\\x89\\xe1u\\x1d,\\xa4\\xc9\\x06@\\n\\x9d\\xb7\\xefE\\x89\\xe8\"\\xe7a\\xb8\"\\x94\\xac7z \\x1d\\x88\\x13\\xbd\\xf4s\\x99\\x95[\\xdd\\xd9&\\xf5L\\xde*\\xe4\\x89\\xd8\\xccX\\x1e\\xa7\\xe6|)Z\\xd4\\xa2\\x07z\\x01\\x8d\\xe4\\xc4\\x9e\\x9e\"oG\\xee\\xdc\\x86\\xca\\n\\xb28\\x86\\xd3i\\x91k\\x01\\xe4/ o\\x1eW\\x02\\xd1L`\\xb2\\xb7\\xf1KJ\\x1b\\x02U\\xcdJ\\xb4\\x1ed\\xde\"\\xf6\\xde\\xa7\\xe5\\xbc\\x15\\x8b\\xc4] $wuj0A*\\x13\\x00\\x0b\\xc4\\xea>\\x1dk_\\xe1\\x0e\\x17o\\x0b\\x87m*B\\x14\\xe0\\x95)q\\xba\\x8c\\xed<\\x80\\xb7\\xa5,\\xc7m:XV\\xf8\\x08s\\xf4\\x8eV\\xd4\\xadE<\\xa7\\xc4,\\xab\\xb8O\\x86\\x86\\t\\xb2;B\\xa5\\xaa\\t \\x00$m\\x1c\\xfa\\xeey\\x9a\\xb6\\xc5c\\x14\\x90I\\xd4@\\xe6\\x01?J\\xb3s\\x02\\t\\xee\\xa8\\xa7\\xca\\xe3\\xe0i\\xb3\\x84P\\xe8|E\\x8f\\xc3\\x9dr51\\x06\\xb3\\xcdG\\xdc\\x9f$[j0 \\xcc\\xdb\\x14\\xf3\\xd6e\\xf4\\xb6\\x0f\\xf2\\x1d^=\\xedF=\\x00\\xa8\\xf8\\x0c\\xe7\\x1d\\x850\\xeb}\\xbb_\\xf3\\x1b\\x01K\\x1f\\xd6\\x8b\\x15y\\xa7\\xe0j\\xc7\\x1b\\x97\\x94:\\xad):fA\\x83\\x17\\xdc|j\\xc7\\x03\\x95\\x95B\\x8e\\xa0\\x9ed\\x03\\xf2\\xa6\\x06\\xad0\\xc0\\xdc\\xa0\\xb7\\xb5\\xfdE\\xe7\\xd5^\\xa8\\x06\\xe0\\xfc\\xed\\xa2|\\xf1\\xde_\\xd8!\\xe5\\xe2\\x10\\x94\\xacXB\\x89\\x91b4\\x816>\\x15T\\x9e3o\\x12\\xa0\\x8c\\x0ff\\xa3\\xba\\xbbMM\\x95\\'\\xf9a$\\xa4\\xf8\\x91P8\\xbf\\x83\\xd9\\x85b@@P\\xf7\\xf5BR\\xb1\\xcc\\xa8\\x1b\\x05\\x81\\xcco\\x17\\xebT\\xf9G\\r\\xa5\\x87\\xda}\\x92\\x9d;\\xa8oc\\xd0\\xd1\\x98,&\\n\\xa37\\x8d\\x92y\\x18\\x80z\\xf3\\xef\\xc7\\x90\\xd1\\'\\xafR\\xa53\\x97\\x87\\xcfE?2\\xca\\x9aZ\\x92T\\xd1AL\\xea\\x92\\x93$\\xf3\\x94\\x92\\x08\\xf3\\xac\\xeb\\x89\\x98B\\x1fPA\\x04xr\\xad;\\x88_\\xd0\\x1dp\\xa8i\\xd2H\\xf8V2\\xa5\\x13s\\xce\\x9f\\xe1\\x84\\x99@8\\xddy]^\\xd7Q\\x90\\xaa\\xa5\\xe21i\\xd5\\x1c\\xaa\\xbf\\x14\\xe8*1\\xb5x\\x10I\\x8aiI\\x8a\\x960\\x05\\xaa\\'\\xcb2\\xb6\\xcaPJ\\n\\x89\\xbc\\xcc$y\\xd6\\x87\\x95-\\x01\\x00i\\x11\\xb6\\xd5Y\\xc3\\xf8$v\\rH\\xd9 \\xf8T\\xaf\\xb6%\\xc7F\\x19\\xa5\\x02\\xb5X\\xc7\\xdd\\x03sK\\xeb\\xd4\\xb1q\\xe1>\\x8b6\\xcb\\xdd\\x01B\\xc4d\\xb8F]/L\\t\\x90\\x93\\xb4\\xf8S\\x81\\xd1\\x8em\\xc4\\xa0\\x94)\\xb3 u\\xf3\\xa3\\xd62l:[ \\xa5$$]J\\xb9\\x91\\xd4\\x9a\\x18\\xceXe,\\xb9\\x8a\\xc1\\xa9:\\x82HX\\x04A\\x1d|\\xc5/\\xc3\\xedFb\\x1d\\x96\\x0c\\xf0\\x9d?\\x1d\\x91\\xaf\\xc1\\xba\\x98\\xcco\\xd9x\\xd25\\x06J\\xdaHSB\\xcb\\xe7\"\\xd4\\xcf\\x10\\xb41)\\xd2\\xe2\\xccO+\\x9fJ\\xb3\\xc9\\xd01\\xd8\\x06\\xc2W\\xa1\\xd0\\x05\\xf9\\xeaO^\\xa0\\xfeu\\xce\\xe5e\\x94%.\\xba\\x95\\xac\\x9eB+,-z;\\xcd\\xd8l<\\x12\"\\xe4\\x81&\\xf2t\\x0b\\xd5\\xe9\\xd4,\\xcf\\x9aD\\x0e\\x88\\x038\\xe1\\xa0\\x16\\x951$D\\x10j\\x859j\\xd4\\xe8A\\x11{\\xfckRq\\x8f\\x1bxU\\x16e\\x87m\\xb5\\xfd\\xa2\\t\\t\\xf7\\x93\\xf9\\xd3\\xa6T<Pe\\xe4\\xd9[\\xe12\\xc5\\xba\\x90\\xcbj\\xec\\xd2\\x13u\\xc5\\xe3\\xc2\\x848{\\x18\\x18\\xc6:\\xd2\\xd6T\\n\\x8aB\\x89\\xdc\\xa4\\xd4\\xb3\\xc5\\x84\\x88B\\xb4\\xc8#W\\xd2\\xa1e\\xd8\\xbc\\x12\\xcb\\x8a\\xc4J\\x08H\\xd3\\xa2eJ\\xe6f(V\\x9a\\xacs\\xcb\\xc1-\\x81\\x00\\t:\\xea\\xb7\\xdd\\xb1\\xd4\\xda\\x01\\x19\\x8c\\xc9\\'\\xe7tr\\x1a\\xe7Mb\\x99\\xa1\\x0c\\xb3\\x8c\\x10\\xdfqAe\\xb0lM\\xc8\\x14K\\x82\\xcd\\x1ax\\xca\\x16\\x0f\\x87:\\xd1\\xec-BBXoQ\\x02@\\x98\\x12l\\x07\\x89\\xa3\\xcc&7\\n\\xda\\x12\\x80\\xf2!\"!$\\x12|O\\x99\\xbf\\xadgY\\xba\\xf4\\xa7T\\x80\\x98\\xde\\xa8qy\\xf2R\\n\\x1b\\x82t\\xddS\\xb7\\x95\\x05\\x89\\xc0\\xfe\\xeb,\\x93\\x03\\x87U\\xbd\\n\\xbb\\xb9\\xb6\\xabS\\xcc8\\xc9\\x94\\x94\\xa1\\x94\\xad\\xc5\\xac\\xc2P\\xd8\\nQ#\\xcc\\x80\\x07RMHC\\x8bV\\xe2\\x14w\\xbc\\xc7\\xaf:\\xa1\\xf6q\\xc2\\xff\\x00g`:\\xeaI\\xc4:$\\xcd\\xca\\x12n\\x94\\x0e\\x84\\xd8\\xab\\xc6\\x07\\xdd\\x14`\\xa4\\x86\\xc4\\xaa\\xe7`:\\x9f\\n\\xe6\\xb1[\\xa6<\\xb2\\x90\\x981\\x98\\xf1=#\\x87\\xbe\\xa9\\xe5\\x07\\xc3n.x(\\xa3\\n\\x12\\x9dK;\\xf2\\x1b\\x9f:{\\x03\\x97\\x81\\xde\"\\'\\x97J{\\r\\x85$\\xebs~C\\xa7\\xf7\\xa8\\x1cK\\xc4\\r\\xe1\\x86\\x92e\\xc2$ n\\x7f\\xf1\\x1e\\'\\xe7C\\xb1\\xb5*\\x1c\\x8c\\x12O%5+\\x90\\x08\\xcd\\xdc\\xf0Rs\\x17B\\x1bQ\\x1b$XuQ\\xb0\\xf9\\xd3\\x986\\x00lH\\xdd \\xab\\xcc\\x89\\xaa\\x07\\xddq\\xc4\\xb4\\xda\\xa3Y \\xac\\r\\x82\\xd5\\xf7G\\x82gL\\xf3\\x82h\\x8f\\x17d\\x84\\r\\xd5aSV\\x96P\\x193s>VV \\x864s\\xbf\\x97?t)\\x80\\xe0,\\x13d\\xab\\xb3\\xd6I:u\\x92\\xa0\\x91\\xe4w<\\xe6\\xad\\xf0|7\\x85miq\\x0c\\xa0(\\x1b*\\x04\\x82G.\\x9b\\x1d\\xba\\x9a\\xb7QJB\\xa7`4\\x8fZ\\xf5\\xa4I\\x07\\x90\\xfd#\\xf5\\xa9\\xa9\\x89\\xafR\\xeey3\\xd4\\xac\\xcb\\xcctM\\xad\\xbbwE\\xee~u\\xd8r@$^7I\\xf8\\xdb\\xf4\\xa9E1U\\x98l\\xc5\\xb9Z\\t\\x83\\xa8\\xee-\\xd0^\\xb2kHP%\\xcd0\\xa3\\xe1\\xf8\\xb7\\x02\\xa5)\\x1fji\\x0bI\\x82\\x85\\xa8!@\\xf8j\\x89\\xf4\\x9ao\\x17\\xc6x\\x06\\xcc\\x1cSJ7\\xee\\xa1A\\xc3a&\\xc8\\x98\\xf5\\xac3\\xda\\x16\\x11I\\xccq!Cu\\x82<RR\\x984>\\xdak\\xa8\\xa3\\xb0h\\xbd\\x8d\\xa8\\x1e`\\x80b\\xdcD\\xeb\\xf8@\\xbf\\x11\\x95\\xc4B\\xd4s\\xcfhj\\xed\\xca\\xf0JP\\xd6\\x94\\x8e\\xfc\\xe8\\xee\\xcc\\x92\\x83\\xcc\\xccz\\n\\x9d\\x96\\xfbPp&1\\x1a\\x14\\xae\\xad\\x88\\xf9\\x19\\xac\\xadi\\xf7w\\xda\\x8e\\xf8\\x0f$:\\x1c[\\x88\\x04-$\\x00E\\xc50\\xa9\\x80\\xc35\\x80e\\x06-\\xc2O\\x9a\\x1f|\\xe9\\x99Mgy\\x83X\\xc5\\x85\\x07\\xbbuI\\x86\\xf1\\x12 \\x1d\\xc3jn\\x12\\x9f\\x0e\\xe8?\\xcdD\\xbc7\\x84BZ\\xd0\\x82\\xb0\\x06\\xc9p\\xc9D\\xee\\'\\x9agc$P\\x0e\\x13\\x85\\x96\\xb2\\xadJ-\\x94\\xc9\\x07y\\x8f*\\xbc\\xe1lS\\xa9\\x80\\xe3\\xc2&\\x13&\\x14H\\xe875\\xab\\xe9\\x00\\xcc\\xac:p\\xff\\x00\\x16n3r\\x8as\\x9c\\x83\\xb6G|\\xa8\\xa7\\xa2Uj\\x10\\x7f\\x84p\\xfc\\x94\\xe0\\xde\\x00\\x83q\\xe7D\\xee\\xbc\\xa8U\\xcd\\xf9r?\\x90\\xa8\\xe8\\x12j\\x94\\xde\\xe6\\x88\\x05f\\xe8\\xe0\\x87?\\xdd6\\x7f\\x9b\\xfe\\xe1\\xfaWQ^\\x9f*\\xea\\xbe\\xfa\\xa75U\\x90\\x18\\x16\\x03\\xd6\\x9ai\\xd4\\xa5`\\x94\\xea\\x03\\x91\\xdajW`m\\xa8\\x8b\\x8a\\x8e\\x9c4\\xda\\xdb\\xd3\\x10B\\xd2U\\xd38\\xecn5a\\x86\\xa7k!\\x1d\\xd0\\x00\\xeazU\\xb7\\x0c\\xe5o`1\\xcd\\xab\\x12\\x9d2\\x08\\x06d\\x12b\\xd3F\\xfc\\x1b\\xc3l\\xe0\\xc0\\x85\\xce!\\xc6\\xe4\\x9f\\x0f\\x0f\\x00M1\\x9fd\\xeaPiO\\x92\\xb5\\xa5V \\xf8\\xc8\\xfaW=Si\\xb2\\xb5CA\\x80d\"42fn:&C\\niS\\xde\\x1dE\\xfa+\\xdc\\xc7\\n\\xe3\\xf8WZ\\x9d*P!0ngi\\xac\\xd3\\x03\\xc1\\xb8\\xb4\\x12\\x97e\\rOz\\x15c\\xf0\\xa2rq\\x1d\\xb6\\xb6\\x14\\xa2\\x98\\xef&mo:\\x95\\x8d\\xc7\\xad,\\x92\\xf3\\x96\\x99\\x81Y`\\x99^\\x81-ai\\x04\\x89\\x1cG\\xba\\xae\\'\\x10\\xca\\x8c\\xb8 \\xf0+\\xd6[\\r\\x04\\x96\\xfb\\xb1a\\x14\\x86\\xf1\\'T\\x9e\\xf0&\\xf3\\\\\\xce%*@V\\xc0\\xf5\\xb5S\\xb1\\x99\\x7f\\x1dM\\xf8\\x83M2\\t\\x9e)\\\\\\x9d\\x15\\xde\\'mI\\xda\\xaa\\x86n\\x86\\xae\\xa4\\x85\\x85\\xa8\\'O\\xd6\\xa7\\x8cX\\xd4\\xae\\x94\\x11\\xc4\\xed(w\\x81\\xb0Y\\xb7\\x9e\\xd5v4:\\xc5KL\\x19V\\xfcO\\x92\\x07TT\\xc3]\\x9aH\\x93\\xd0\\x9a\\xa1\\xc2\\xf0\\x93\\xebHWt\\x03\\xd6\\xacxk;q\\xc3\\xd9-r \\x01E\\x99\\x9a\\xb44t\\x911j\\xf33RnNJ\\xceys\\xa5\\x009\\xc2O\\x83\\x16>\\xb4Y\\x94\\xb0\\xb6Y\\x00\\xa5:\\xc0\\xfd\\xcdvX\\xc3\\xbaB\\x8fyJ\\xde\\xf6\\x02\\xa0;\\x8e|\\xe2J\\x03R\\x91c\\xd3\\xe3W..\\x10T(\\xb9\\x9eh\\xacD\\xa3E\\x92 \\x91\\xb0\\x8aO\\x04\\xe5hs\\x1c\\xd0s\\xdd\\xd4\\x0c\\x1d\\x8e\\x9e\\xf4|\\xa9\\xfcnm\\x87ee\\xa0 A\\xd5\\xa6\\xf75Z\\xce`\\xb6\\xa1m\\x18PV\\xa4\\xaa\\xc4\\x83\\xca$\\x11P\\xe6\\xb8\\xd3sYi\\x04Ouf\\x90\\x1c\\t[\\xf6k\\x9c\\xb1\\x84JK\\xcb\\tR\\xc8\\x08O\\xde$\\x98\\x90:\\t\\x92yS\\xf8v\\x82\\xbb\\xf6Q\\xe4f\\xc0xu\\xf3\\xaf\\x99\\xb1x\\x87\\\\p\\xbc\\xe2\\xd6\\xb7I\\xf7\\x96J\\x8f\\xcf\\x97\\x86\\xd4\\xa5b\\x16\\x8b\\x13sr\\x07\\xe6&\\x93\\xbb\\xf4\\xf8\\xc8\\xd0\\x1f\\x04ko\\x85\\x141dM\\x96\\xfd\\xc5<c\\x87\\xc16IZV\\xe9\\x07B\\x01\\xdc\\x81\\xb1\"\\xc9\\xfa\\xd0o\\r0\\xe63\\xfe3\\x12\\x90\\x10\\xa3\\xa9\\xb4\\x1b\\xa9j\\x06\\xcbQ\\xe4\\x80E\\x927\\x8e\\x9b\\xe5\\xcc6\\xa7\\xddm\\xa9=\\xf7\\x12\\x80$\\xc0\\xed\\x14\\x13a\\xcbz\\xfaS*\\xca\\x91\\xa4\\x12;\\xa9\\xb2\\x13\\xc8\\x04\\xd8}+\\x1cU6\\xe0\\x18)S>\\'\\xeay\\x0eC\\x94\\xf3\\xd7U\\xb5\\x02\\xda\\x84\\xbd\\xe2\\xc3\\x872\\x99\\xc8\\xf2\\xef\\xfdU\\x0b\\x9ft\\x1f\\xadNe:\\x94\\xa7\\x0e\\xc2\\xc9\\xfc\\xcd{\\x9a\\xe3\\x82\\x06\\x84\\x9e\\xf1\\xb4\\x0eU( i\\t\\x1bZ\\x92\\xbcI\\xb2)\\xef{\\xbcn\\xe3o%\\x17\\xb1\\xb8\\x9eW\\xf54\\x97\\x9e\\xd0\\x89\\x02`\\xc9\\x1e\\x06\\x94\\x9cse\\xf53\\xa8k\\x08\\n\\x89\\xbcLLt\\x98\\xf8\\xd4N \\xc7\\'\\x0e\\xca\\xde_\\xba\\xdbKQ\\x1dJv\\x1e\\xa4\\x81\\xebX\\x8aN\\x06\\x07\\x97Y\\xb2\\x80\\xeb\\xf8\\xbeqU\\xc3\\x8c\\xb0\\xaa+\\tR\\xd4\\xa6\\xd4R\\xb4\\xa5\\x04\\x90S\\xbf\\x9f\\xa5f9?\\x1bC\\xce\\xa1i.#\\xb5qM\\xa8wU\\xa0\\xadD\\x02\\x14:\\x1bN\\xdbr\\xa1\\x9e\\x19\\xcd\\\\m\\xe5\\xdcK\\xb3\\xa8\\xaat\\xea\\xba\\xb5\\x1f\\x8a\\xad\\xe2)\\xc6\\x02R\\xf2\\x9cY\\xd5e\\x12\\x04IU\\x88\\xf2\\x99\\xae\\xc6\\x9e\\xc8\\xa1D9\\xa6]#\\x9f.Q\\xf2\\x10-\\xc5\\xbc:[e7\\x8e\\x02\\x9c\\xc4\\x17\\xa6\\xc5)\\t\\x1b\\xc2F\\xc2y\\xee~46\\x94I\\xa2L\\xc3\\x14\\xeb\\x81:\\xd9\\xd0\\xda\\x87t\\xf5\\x1euDQ\\n\\xa6\\x14\\x80c\\x03[\\xc2\\xc8l\\xc5\\xc4\\xb8\\xeaQ\\xcf\\te\\x8d\\xa9\\xae\\xd5\\xc0\\x08L%#\\xa9\\x14J\\xacIH\\x81\\x00\\xf2\\xe9@\\x19#\\xcaQCaD\\x00\\xbdP6\\xbe\\xff\\x00J7\\xc5\\xb8\\xdbi%\\xe5Gt\\xa9$x\\t\\xa0\\xb1o\\x14\\xcc\\x9b\\xce\\x80/1\\x85\\xe6\\x02\\xcex\\x81\\xf7X\\xc4\\xba5\\x90\\xa2f\\x12\\xa3\\x03P\\x9f\\x8cr\\xaa\\xbc6=\\xc4/ZVux\\xdf\\xebQ\\xf1\\x0f\\x17\\x16\\xa5\\xa8\\xddD\\x93\\xeb\\xfb\\x8a\\xf1\\xb2A\\x04S6\\xb6\\x1a\\x03\\xb5\\x8b\\xaa\\x93\\xc9\\x1b`sW\\x9dHSfT7iQ}\\xa4!j\\xb8=\\x02\\xb5O^Us\\x95\\xe3\\x12\\xeaII2,\\xa0A\\n\\n\\xe8\\xa0v4\\x15\\x97\\xe6\\x97JT\\x91\\x04\\xde\\x04|\\x05[\\xba\\xf0Y\\x95(\\x826u\\x16q0\\x04\\x05\\x12F\\xb4\\xc96\\xf8\\x11X\\xb9\\x83M\\x14@(\\xa5\\xc7.D\\xedm\\xfaZ\\xba\\xa9\\xd9\\xca\\x1f)\\x11\\x8fA\\xf1\\xd2\\x0c\\xfc\\xeb\\xab\\x1c\\xa3\\x98U\\x84\\x04q)T[j@d\\xa9Fl7\\xa278{\\xb3\\x9e\\xec\\x14\\xf5\\xaaf\\xd8\\x95(\\xaeDQm\\xa8\\xd3v\\xab\\xadc\\xd9\\xb6`\\xa7\\xb0\\xeaS\\xb1\\x08\\xee\\x05\\xf3 \\n{\\x14\\xa4\\xb8\\xb3\\x04\\xc0\\xdaO\\xd6\\xa8x]iN\\\\\\x94\"\\xc5n\\x19\\xf8\\x9f\\xd2\\xae\\xf0Xp\\x04\\xc7\\xc6\\x91a\\xf0\\xed\\x15\\xeaU\\x8f\\xfa \\x0e\\xdcQX\\xaa\\xce\\xca\\xc6O\\x00J\\xac\\xc7\\xe3\\x16\\xc3\\x80\\xa5Vr\\xc4~t\\xcee\\x83s\\x12\\x90S`\\x93#\\xc6)X\\xb6\\x8b\\xaf\\x15\\x91\\x01=\\xd8;R\\xdf\\xc6-)\\x08lA\\xe6\\xaeB\\x8f\\r\\x83 \\tA\\xcc\\x88%Rg\\x8f\\x94\\xa5\\t3+0OA\\xb7\\xa5S<\\xb5a_\\nX&\\xdbu\\x1c\\xa8\\xcd\\xcc7\\xdaZ-\\xbb\\x00\\xf2X\\xb7\\xc6\\x97\\x9e\\xf0\\x9a\\x9f\\xc2!r;V\\xc4\\x13\\xc9@U\\xc5@\\xd8\\x0e\\xf3V\\x02E\\x90\\xf3\\x9cZ\\xd0\\x11\\xd9*w\\xe5T9\\xeef\\x1e\\x82\\x89\\x03\\x984\\xce/-^\\xb8\\x8f\\xd8\\xaa\\xe5\\x82-E2\\x9bE\\xc2\\xa0\\x85{\\xc2xT-\\xc5\\x15\\xabJP$\\xde(\\xcf/\\xcd0\\xaf$\\xa4\\x01\\xdd\\x98\\n\\xdc\\x81\\xce\\xb34\\x85\\x01\\xcc\\x03\\xf3\\xa9\\xb9^\\r\\xc7\\x16\\x12\\xde\\xfdzUjS\\x0e\\xbc\\xa8(\\xd3\\x87q\\x8bp\\xba\\x08\\x84&t\\xf57\\xb5\\'\\x05\\x99\\xa9\\xc4\\xa9%$\\x14\\xc8$s\\xaa\\xec~A\\x8cm \\xb2\\xa2\\xb2}\\xe0!?Z\\xf1\\x8cv$$2\\xd6\\ra\\xcf\\xbct\\x93~\\xb6\\x15\\x9eV\\x9b\\xb7\\xfcW\\x17C\\x19\\x8e\\x11M\\xae\\xe3s7\\xe7z\\xb5F \\xa5)XH\\xf2\\xab\\xf7\\xf8;\\x12\\xf8Iya\\x04xLz\\x0f\\xd4U\\xeeU\\xc3Hf9\\x91\\xcc\\xef\\xf1\\xd8z|j]]\\xb1\\xd5B\\x1eg,y\\xe6\\xf5\\xf6iK\\x83\\xdd\\n\\xb4\\x0f\\xe6\\xb7\\xbd\\xbfw\\x97>\\x95L\\xff\\x00\\x0b\\xe2\\x84\\x92\\xdc\\xf9)&O\\x85\\xe6\\xb5\\r\\t\\x02\\x04G\\x98\\x1f\\x9d6\\xe9JAQZD\\t$\\x91aX\\n\\xe5U\\x04\\xe4\\x1c0\\xe3O\\xb4\\xfb\\xca\\x08\\r\\xad+)\\x1d\\xe5\\x1d&b\\xd6\\xe5\\xe3GM\\xfbA8\\x8cBp\\xd8D\\xe9m)QZ\\xc83\\t\\xb0\\t\\x9d\\xaeE\\xfe\\x1dk=\\xe2\\x8e%.\\x92\\xdb*\\xd2\\xde\\xc4\\x89\\x05\\x7f)\\t\\xf0\\xe7\\xf2\\xa9\\xde\\xcc3|>\\r\\xf7W\\x88ZF\\xa6\\x88M\\xa6\\x08![\\xfd\\xd2b\\x00\\xe6c\\xd7\\x1cn\\x1byM\\xd5Ke\\xc0@\\x1f\\x8f;\"hT-p\\x07I\\x94]\\xc6\\xfcF\\x9c\\x1e\\x1b\\xb8g\\x12\\xe8!$\\x99)\\x9b)~\\x9c\\xbcMK\\xe1\\x8fh,\\x1c\\xb4:\\xea\\xff\\x00\\x8b\\x87BP\\xe2N\\xe5Q\\xa5*\\x1f\\x8bTO\\x9c\\x8a\\xc73\\xdc\\xd1x\\xa7\\xd6\\xf2\\xe6TL\\r\\x82S$\\x84\\x8d\\xf6\\x9f\\xadACRl\\x9f\\x8dgOb\\xd3\\xdc\\x06<\\xf8\\xa6I\\xfe;G\\xde\\xf7\\xe3\\xb5LYs\\xe7\\x82\\xbf\\x1cY\\x88\\x18\\xe5c\\xc2\\xa1\\xc10\\x93\\xb6\\x8d\\x82\\x0fQ\\xd7\\xc6\\xf5u\\xc7\\xbe\\xd1\\x13\\x8e\\xc36\\xcbM-\\xb2T\\x14\\xec\\x90Gv\\xe1)#q\\xaa\\x0c\\x98\\xf7E\\xa8)\\xe0\\x01\\x8an\\xfeT\\xc3\\xf6\\x94\\x0b\\xd8\\xfc\\xb7n\\x9eZwX\\x1a\\xae\\xbf]W\\x8c\\x8f\\xc5\\xfd\\xeb\\xa2\\x15\\x1c\\xb6\\xafA\\xeaoK\\x10DX\\xfdh\\x99\\xe6\\xb2^7\\x8cX\\x01:\\x8e\\x90gL\\xdav\\xda\\xa6\\xba\\xbd`/\\xe3\\xe6*\\xbf\\xb03\\xe1N)\\xc2\\x04\\x03R\\xe0\\x08^\\n\\xdf\\'\\xc4\\x96\\xd6\\x14\\x05=\\x9d\\xe6\\xa5\\xd1q\\xde\\xd8\\x89\\xb7\\xa5P\\xa1F*\\xd5y\\x13\\xfa\\x10\\xe2Q\\xad*\\x00\\x82\\x9b\\xc4\\xf5\\x1b\\xd6N\\xa4\\xcc\\xc1\\xce\\xd4h\\xac\\x1cZ\\x08\\x1cU2\\x90\\xa1\\xca<\\xaaF\\x03\\x0e\\x85\\xaa\\x1cs\\xb3\\x1c\\x94F\\xa1>0dU\\xaeQ\\x83q\\xa7\\x02\\xdc\\xc2\\xad\\xc1\\xb1\\x10y\\xee|mF,\\xa3\\x08\\xe8\\x04\\xe1\\x91\\x1dJJT\\x0f\\xf3\\x0bO\\xefz\\xf3\\xea\\x86\\xaa\\xd9Vd\\x9c2\\xc8\\x1d\\xa0t8\\x7f\\x10#H\\xfd\\x0f\\x99\\xa9\\x98\\xbc\\x02\"\\x125O\\xbd\\xd3\\xd3\\x99\\xabu`\\xf4\\x80\\x12\\xda\\x02~\\xee\\x91\\t\\xf4\\x83\\x14\\x97\\x1a)\\x1d<\\xbb\\xb4\\x1b\\x9eeT\\x94+\\xfe\\xcdZ;\\xa1\\xdd\\xbc:\\xdf\\xa7\\x8du\\x12B\\x7f`WU\\xb7\\xce^\\xcc\\xab\\xdesR\\xc1Q\\xde\\xf5S\\xc5\\r\\r=\\xcd\\xcduuy\\xb6p\\x01H7\\x95a\\xc0\\xac\\xac6R\\xa3aq\\xe1;\\xd1d\\xda\\x05y]U:\\x93\\xe6\\xbdS\\xeaA\\x186\\xdd{\\x16\\xb2VCaF\\xc0\\xf4\\xabR\\xea\\x92\\xfaSm\\x06\\xd1]]Z\\xbb_ \\xaa\\x9c\\xcf\\xf0\\ns\\xba\\x87\\n<\\x05\\xa8\\x8b\\x86\\x10[HeKR\\x84s3z\\xea\\xea\\xc6\\xa9\\x96\\x90W\\x9a\\xe2\\x1d\\n\\xbf\\x15\\x966;`\\xa4\\x883~w\\xac\\x99\\xe6{\\xea\\xd3\\xee\\x82c\\xcak\\xab\\xa8\\x8c+\\x89\\x17\\xe8\\xac\\xedW\\xae\\xa8\\x9d\\xf9l(\\xf3\\x81X\\x1d\\x8c\\xc0\\x92\\xa3]]ZV\\x1e\\x18T*/\\x16\\xe3J\\xddm\\x86\\xd6\\xa4\\x11%J\\x04\\x8f-\\xaaO\\r\\xe6\\xeaJ!j.\\x112U\\xd3\\xc3\\x9dy]X@ \\x03\\xf3U\\xa0\\xf0\\x8b+\\xc6V\\x1cIS\\x0e8\\x14\\x04\\x94\\x15*=&\\xd5\\x1f\\x86\\xb3\\x17\\x1c\\xc4\\x96\\x9e:\\x92A\\xd2`\\x02\\x08\\xeb\\x1b\\xd7WVDY\\xdd\\x95\\xb9(\\xd9\\xff\\x00\\x12\\x8c+\\xeai\\xc6u$D)\\n\\x83\\x1e \\xfe\\xb5$\\xa1\\x9ck!\\xc9u\\x08?w\\xba&\\x0f8*\\xe7]]Z\\xb5\\x8d\\xdd\\x07\\x81u\\x04\\x045\\x98p\\xb1\\x12[)\\xd3\\xc8\\t*\\xf5+\"g\\xf6\\x05A\\xff\\x00w\\\\\\x01JZV\\x1bH\\x95\\x11\\xd9\\x92\\x07\\x96\\xbf\\xd6\\xba\\xba\\xb4eW\\x13\\n\\x8a\\x9dq\\xfei\\xb0\\xed\\xeco\\xca\\xba\\xba\\xb7\\x02uV\\x94\\xc1]xI\\xafk\\xaa\\xc0(I5\\xe05\\xd5\\xd5\\xe0\\xbc\\xa7a\\xdd\\x04A\\xb1\\xa3<\\xbf)k\\x15\\x85oR{\\xc9\\x05!B\\xc4\\x00~|\\xacz\\xd7WV5\\xec\\x01\\nSG\\x82\\x9bI2\\xf2\\xc9\\x1c\\xe1>\\xa2\\xae\\xf0x^\\xc9\\xb4\\xa1$\\xc0\\x11x\\xf3\\xe5\\xe7^WPN\\xa8\\xe7X\\x95W\\x14\\xeb(\\xfa\\x1f\\xa1\\xa44\\x8eu\\xd5\\xd5\\x98UN\\xa5\\xc5\\x05*\\x0c\\r\\xa3q\\x1d\\x08\\xe7N\\x95\\x82\\x0c$$\\x8d\\xe6H\\xff\\x00\\xa7\\xfb\\xd7WU\\x82\\xf02a\\x0b\\xe33E\\x85\\xa8\\x0e\\xb5\\xeduu\\x11\\x94+\\xc2\\xff\\xd9'"
      ]
     },
     "execution_count": 55,
     "metadata": {},
     "output_type": "execute_result"
    }
   ],
   "source": [
    "data"
   ]
  },
  {
   "cell_type": "code",
   "execution_count": 56,
   "metadata": {},
   "outputs": [],
   "source": [
    "data = data[:len(data)//2]"
   ]
  },
  {
   "cell_type": "code",
   "execution_count": 57,
   "metadata": {},
   "outputs": [],
   "source": [
    "f = open('flower123.jpg','wb')"
   ]
  },
  {
   "cell_type": "code",
   "execution_count": 58,
   "metadata": {},
   "outputs": [
    {
     "data": {
      "text/plain": [
       "6288"
      ]
     },
     "execution_count": 58,
     "metadata": {},
     "output_type": "execute_result"
    }
   ],
   "source": [
    "f.write(data)"
   ]
  },
  {
   "cell_type": "code",
   "execution_count": 59,
   "metadata": {},
   "outputs": [],
   "source": [
    "f.close()"
   ]
  },
  {
   "cell_type": "code",
   "execution_count": 60,
   "metadata": {},
   "outputs": [],
   "source": [
    "from IPython.display import Image"
   ]
  },
  {
   "cell_type": "code",
   "execution_count": 62,
   "metadata": {},
   "outputs": [
    {
     "data": {
      "image/jpeg": "[encoded data removed]",
      "text/plain": [
       "<IPython.core.display.Image object>"
      ]
     },
     "execution_count": 62,
     "metadata": {},
     "output_type": "execute_result"
    }
   ],
   "source": [
    "Image('flower123.jpg')"
   ]
  },
  {
   "cell_type": "code",
   "execution_count": 63,
   "metadata": {},
   "outputs": [
    {
     "data": {
      "image/jpeg": "[encoded data removed]",
      "text/plain": [
       "<IPython.core.display.Image object>"
      ]
     },
     "execution_count": 63,
     "metadata": {},
     "output_type": "execute_result"
    }
   ],
   "source": [
    "Image('flower.jpg')"
   ]
  },
  {
   "cell_type": "code",
   "execution_count": 64,
   "metadata": {},
   "outputs": [
    {
     "data": {
      "text/plain": [
       "True"
      ]
     },
     "execution_count": 64,
     "metadata": {},
     "output_type": "execute_result"
    }
   ],
   "source": [
    "f.closed"
   ]
  },
  {
   "cell_type": "code",
   "execution_count": 65,
   "metadata": {},
   "outputs": [],
   "source": [
    "f = open('percentage.txt','w')\n",
    "\n",
    "s = 'Name\\tP\\tC\\tM'\n",
    "f.write(s)\n",
    "f.close()"
   ]
  },
  {
   "cell_type": "code",
   "execution_count": 66,
   "metadata": {},
   "outputs": [
    {
     "name": "stdout",
     "output_type": "stream",
     "text": [
      "Enter Name: Shalini\n",
      "Physics: 98\n",
      "Chemistry: 95\n",
      "Maths: 99\n",
      "Enter Name: Soumya\n",
      "Physics: 78\n",
      "Chemistry: 90\n",
      "Maths: 87\n",
      "Enter Name: Deepika\n",
      "Physics: 67\n",
      "Chemistry: 87\n",
      "Maths: 76\n"
     ]
    }
   ],
   "source": [
    "f = open('percentage.txt','a')\n",
    "for i in range(3):\n",
    "    \n",
    "    s = f\"\\n{input('Enter Name: ')}\\t{input('Physics: ')}\\t{input('Chemistry: ')}\\t{input('Maths: ')}\"\n",
    "    f.write(s)\n",
    "    \n",
    "f.close()"
   ]
  },
  {
   "cell_type": "code",
   "execution_count": 67,
   "metadata": {},
   "outputs": [
    {
     "name": "stdout",
     "output_type": "stream",
     "text": [
      "Name\tP\tC\tM\n",
      "Shalini\t98\t95\t99\n",
      "Soumya\t78\t90\t87\n",
      "Deepika\t67\t87\t76\n"
     ]
    }
   ],
   "source": [
    "!type percentage.txt"
   ]
  },
  {
   "cell_type": "code",
   "execution_count": 68,
   "metadata": {},
   "outputs": [],
   "source": [
    "f = open('percentage.txt')"
   ]
  },
  {
   "cell_type": "code",
   "execution_count": 69,
   "metadata": {},
   "outputs": [],
   "source": [
    "data = f.read()"
   ]
  },
  {
   "cell_type": "code",
   "execution_count": 70,
   "metadata": {},
   "outputs": [
    {
     "name": "stdout",
     "output_type": "stream",
     "text": [
      "Name\tP\tC\tM\n",
      "Shalini\t98\t95\t99\n",
      "Soumya\t78\t90\t87\n",
      "Deepika\t67\t87\t76\n"
     ]
    }
   ],
   "source": [
    "print(data)"
   ]
  },
  {
   "cell_type": "code",
   "execution_count": 71,
   "metadata": {},
   "outputs": [
    {
     "data": {
      "text/plain": [
       "'Name\\tP\\tC\\tM\\nShalini\\t98\\t95\\t99\\nSoumya\\t78\\t90\\t87\\nDeepika\\t67\\t87\\t76'"
      ]
     },
     "execution_count": 71,
     "metadata": {},
     "output_type": "execute_result"
    }
   ],
   "source": [
    "data"
   ]
  },
  {
   "cell_type": "code",
   "execution_count": 72,
   "metadata": {},
   "outputs": [],
   "source": [
    "data = data.split('\\n')"
   ]
  },
  {
   "cell_type": "code",
   "execution_count": 73,
   "metadata": {},
   "outputs": [
    {
     "data": {
      "text/plain": [
       "['Name\\tP\\tC\\tM',\n",
       " 'Shalini\\t98\\t95\\t99',\n",
       " 'Soumya\\t78\\t90\\t87',\n",
       " 'Deepika\\t67\\t87\\t76']"
      ]
     },
     "execution_count": 73,
     "metadata": {},
     "output_type": "execute_result"
    }
   ],
   "source": [
    "data"
   ]
  },
  {
   "cell_type": "code",
   "execution_count": null,
   "metadata": {},
   "outputs": [],
   "source": [
    "# ADVANCED FILE HANDLING"
   ]
  },
  {
   "cell_type": "code",
   "execution_count": 74,
   "metadata": {},
   "outputs": [],
   "source": [
    "d = {1001:{'Name':'Shalini','Bal':10000,'Pwd':'shecoders'}}"
   ]
  },
  {
   "cell_type": "code",
   "execution_count": 75,
   "metadata": {},
   "outputs": [],
   "source": [
    "f=open('bank.txt','w')"
   ]
  },
  {
   "cell_type": "code",
   "execution_count": 76,
   "metadata": {},
   "outputs": [
    {
     "data": {
      "text/plain": [
       "61"
      ]
     },
     "execution_count": 76,
     "metadata": {},
     "output_type": "execute_result"
    }
   ],
   "source": [
    "f.write(str(d))"
   ]
  },
  {
   "cell_type": "code",
   "execution_count": 77,
   "metadata": {},
   "outputs": [],
   "source": [
    "f.close()"
   ]
  },
  {
   "cell_type": "code",
   "execution_count": 78,
   "metadata": {},
   "outputs": [],
   "source": [
    "f= open('bank.txt')"
   ]
  },
  {
   "cell_type": "code",
   "execution_count": 79,
   "metadata": {},
   "outputs": [],
   "source": [
    "data = f.read()"
   ]
  },
  {
   "cell_type": "code",
   "execution_count": 80,
   "metadata": {},
   "outputs": [
    {
     "name": "stdout",
     "output_type": "stream",
     "text": [
      "{1001: {'Name': 'Shalini', 'Bal': 10000, 'Pwd': 'shecoders'}}\n"
     ]
    }
   ],
   "source": [
    "print(data)"
   ]
  },
  {
   "cell_type": "code",
   "execution_count": 81,
   "metadata": {},
   "outputs": [
    {
     "data": {
      "text/plain": [
       "str"
      ]
     },
     "execution_count": 81,
     "metadata": {},
     "output_type": "execute_result"
    }
   ],
   "source": [
    "type(data)"
   ]
  },
  {
   "cell_type": "code",
   "execution_count": 19,
   "metadata": {},
   "outputs": [],
   "source": [
    "data = data[1:-1].split(':',1)[-1][1:]"
   ]
  },
  {
   "cell_type": "code",
   "execution_count": 20,
   "metadata": {},
   "outputs": [],
   "source": [
    "data= data[1:-1]"
   ]
  },
  {
   "cell_type": "code",
   "execution_count": 21,
   "metadata": {},
   "outputs": [
    {
     "data": {
      "text/plain": [
       "\"'Name': 'Shalini', 'Bal': 10000, 'Pwd': 'shecoders'\""
      ]
     },
     "execution_count": 21,
     "metadata": {},
     "output_type": "execute_result"
    }
   ],
   "source": [
    "data"
   ]
  },
  {
   "cell_type": "code",
   "execution_count": 22,
   "metadata": {},
   "outputs": [
    {
     "name": "stdout",
     "output_type": "stream",
     "text": [
      "'Name'  'Shalini'\n",
      " 'Bal'  10000\n",
      " 'Pwd'  'shecoders'\n"
     ]
    }
   ],
   "source": [
    "for i in data.split(','):\n",
    "    print(*i.split(':'))"
   ]
  },
  {
   "cell_type": "code",
   "execution_count": 82,
   "metadata": {},
   "outputs": [],
   "source": [
    "f=open('bank.txt')"
   ]
  },
  {
   "cell_type": "code",
   "execution_count": 83,
   "metadata": {},
   "outputs": [],
   "source": [
    "data = f.read()"
   ]
  },
  {
   "cell_type": "code",
   "execution_count": 84,
   "metadata": {},
   "outputs": [],
   "source": [
    "x = eval(data)"
   ]
  },
  {
   "cell_type": "code",
   "execution_count": 85,
   "metadata": {},
   "outputs": [
    {
     "data": {
      "text/plain": [
       "dict"
      ]
     },
     "execution_count": 85,
     "metadata": {},
     "output_type": "execute_result"
    }
   ],
   "source": [
    "type(x)"
   ]
  },
  {
   "cell_type": "code",
   "execution_count": 86,
   "metadata": {},
   "outputs": [
    {
     "name": "stdout",
     "output_type": "stream",
     "text": [
      "Enter Expression4+5\n",
      "9\n",
      "Enter Expressionshecoders\n"
     ]
    },
    {
     "ename": "NameError",
     "evalue": "name 'shecoders' is not defined",
     "output_type": "error",
     "traceback": [
      "\u001b[1;31m---------------------------------------------------------------------------\u001b[0m",
      "\u001b[1;31mNameError\u001b[0m                                 Traceback (most recent call last)",
      "\u001b[1;32m<ipython-input-86-fa2a812ab11c>\u001b[0m in \u001b[0;36m<module>\u001b[1;34m\u001b[0m\n\u001b[0;32m      1\u001b[0m \u001b[1;32mwhile\u001b[0m \u001b[1;32mTrue\u001b[0m\u001b[1;33m:\u001b[0m\u001b[1;33m\u001b[0m\u001b[1;33m\u001b[0m\u001b[0m\n\u001b[1;32m----> 2\u001b[1;33m     \u001b[0mprint\u001b[0m\u001b[1;33m(\u001b[0m\u001b[0meval\u001b[0m\u001b[1;33m(\u001b[0m\u001b[0minput\u001b[0m\u001b[1;33m(\u001b[0m\u001b[1;34m'Enter Expression'\u001b[0m\u001b[1;33m)\u001b[0m\u001b[1;33m)\u001b[0m\u001b[1;33m)\u001b[0m\u001b[1;33m\u001b[0m\u001b[1;33m\u001b[0m\u001b[0m\n\u001b[0m",
      "\u001b[1;32m<string>\u001b[0m in \u001b[0;36m<module>\u001b[1;34m\u001b[0m\n",
      "\u001b[1;31mNameError\u001b[0m: name 'shecoders' is not defined"
     ]
    }
   ],
   "source": [
    "while True:\n",
    "    print(eval(input('Enter Expression')))"
   ]
  },
  {
   "cell_type": "code",
   "execution_count": 92,
   "metadata": {},
   "outputs": [],
   "source": [
    "import json"
   ]
  },
  {
   "cell_type": "code",
   "execution_count": 93,
   "metadata": {},
   "outputs": [],
   "source": [
    "import pickle"
   ]
  },
  {
   "cell_type": "code",
   "execution_count": 94,
   "metadata": {},
   "outputs": [],
   "source": [
    "d = {'Name':'Shalini','Course':'Python'}"
   ]
  },
  {
   "cell_type": "code",
   "execution_count": 95,
   "metadata": {},
   "outputs": [
    {
     "data": {
      "text/plain": [
       "dict"
      ]
     },
     "execution_count": 95,
     "metadata": {},
     "output_type": "execute_result"
    }
   ],
   "source": [
    "type(d)"
   ]
  },
  {
   "cell_type": "markdown",
   "metadata": {},
   "source": [
    "        JSON ---> dump,dumps, load,loads"
   ]
  },
  {
   "cell_type": "code",
   "execution_count": 96,
   "metadata": {},
   "outputs": [],
   "source": [
    "x = json.dumps(d) # serialization"
   ]
  },
  {
   "cell_type": "code",
   "execution_count": 97,
   "metadata": {},
   "outputs": [
    {
     "data": {
      "text/plain": [
       "'{\"Name\": \"Shalini\", \"Course\": \"Python\"}'"
      ]
     },
     "execution_count": 97,
     "metadata": {},
     "output_type": "execute_result"
    }
   ],
   "source": [
    "x"
   ]
  },
  {
   "cell_type": "code",
   "execution_count": 98,
   "metadata": {},
   "outputs": [
    {
     "data": {
      "text/plain": [
       "str"
      ]
     },
     "execution_count": 98,
     "metadata": {},
     "output_type": "execute_result"
    }
   ],
   "source": [
    "type(x)"
   ]
  },
  {
   "cell_type": "code",
   "execution_count": 99,
   "metadata": {},
   "outputs": [],
   "source": [
    "y = json.loads(x) # deserialization"
   ]
  },
  {
   "cell_type": "code",
   "execution_count": 100,
   "metadata": {},
   "outputs": [
    {
     "data": {
      "text/plain": [
       "{'Name': 'Shalini', 'Course': 'Python'}"
      ]
     },
     "execution_count": 100,
     "metadata": {},
     "output_type": "execute_result"
    }
   ],
   "source": [
    "y"
   ]
  },
  {
   "cell_type": "code",
   "execution_count": 101,
   "metadata": {},
   "outputs": [
    {
     "data": {
      "text/plain": [
       "dict"
      ]
     },
     "execution_count": 101,
     "metadata": {},
     "output_type": "execute_result"
    }
   ],
   "source": [
    "type(y)"
   ]
  },
  {
   "cell_type": "code",
   "execution_count": 102,
   "metadata": {},
   "outputs": [],
   "source": [
    "f = open('hello.txt','w')"
   ]
  },
  {
   "cell_type": "code",
   "execution_count": 103,
   "metadata": {},
   "outputs": [
    {
     "data": {
      "text/plain": [
       "{'Name': 'Shalini', 'Course': 'Python'}"
      ]
     },
     "execution_count": 103,
     "metadata": {},
     "output_type": "execute_result"
    }
   ],
   "source": [
    "d"
   ]
  },
  {
   "cell_type": "code",
   "execution_count": 104,
   "metadata": {},
   "outputs": [],
   "source": [
    "json.dump(d,f)"
   ]
  },
  {
   "cell_type": "code",
   "execution_count": 105,
   "metadata": {},
   "outputs": [],
   "source": [
    "f.close()"
   ]
  },
  {
   "cell_type": "code",
   "execution_count": 106,
   "metadata": {},
   "outputs": [],
   "source": [
    "f = open('hello.txt')"
   ]
  },
  {
   "cell_type": "code",
   "execution_count": 107,
   "metadata": {},
   "outputs": [],
   "source": [
    "data = f.read()"
   ]
  },
  {
   "cell_type": "code",
   "execution_count": 108,
   "metadata": {},
   "outputs": [
    {
     "name": "stdout",
     "output_type": "stream",
     "text": [
      "{\"Name\": \"Shalini\", \"Course\": \"Python\"}\n"
     ]
    }
   ],
   "source": [
    "print(data)"
   ]
  },
  {
   "cell_type": "code",
   "execution_count": 109,
   "metadata": {},
   "outputs": [
    {
     "data": {
      "text/plain": [
       "str"
      ]
     },
     "execution_count": 109,
     "metadata": {},
     "output_type": "execute_result"
    }
   ],
   "source": [
    "type(data)"
   ]
  },
  {
   "cell_type": "code",
   "execution_count": 110,
   "metadata": {},
   "outputs": [
    {
     "data": {
      "text/plain": [
       "0"
      ]
     },
     "execution_count": 110,
     "metadata": {},
     "output_type": "execute_result"
    }
   ],
   "source": [
    "f.seek(0)"
   ]
  },
  {
   "cell_type": "code",
   "execution_count": 111,
   "metadata": {},
   "outputs": [],
   "source": [
    "data=json.load(f)"
   ]
  },
  {
   "cell_type": "code",
   "execution_count": 112,
   "metadata": {},
   "outputs": [
    {
     "data": {
      "text/plain": [
       "dict"
      ]
     },
     "execution_count": 112,
     "metadata": {},
     "output_type": "execute_result"
    }
   ],
   "source": [
    "type(data)"
   ]
  },
  {
   "cell_type": "code",
   "execution_count": 113,
   "metadata": {},
   "outputs": [
    {
     "data": {
      "text/plain": [
       "{'Name': 'Shalini', 'Course': 'Python'}"
      ]
     },
     "execution_count": 113,
     "metadata": {},
     "output_type": "execute_result"
    }
   ],
   "source": [
    "data"
   ]
  },
  {
   "cell_type": "code",
   "execution_count": 114,
   "metadata": {},
   "outputs": [
    {
     "data": {
      "text/plain": [
       "{'Name': 'Shalini', 'Course': 'Python'}"
      ]
     },
     "execution_count": 114,
     "metadata": {},
     "output_type": "execute_result"
    }
   ],
   "source": [
    "d"
   ]
  },
  {
   "cell_type": "code",
   "execution_count": 115,
   "metadata": {},
   "outputs": [],
   "source": [
    "x = pickle.dumps(d)"
   ]
  },
  {
   "cell_type": "code",
   "execution_count": 116,
   "metadata": {},
   "outputs": [
    {
     "data": {
      "text/plain": [
       "bytes"
      ]
     },
     "execution_count": 116,
     "metadata": {},
     "output_type": "execute_result"
    }
   ],
   "source": [
    "type(x)"
   ]
  },
  {
   "cell_type": "code",
   "execution_count": 117,
   "metadata": {},
   "outputs": [
    {
     "data": {
      "text/plain": [
       "b'\\x80\\x04\\x95(\\x00\\x00\\x00\\x00\\x00\\x00\\x00}\\x94(\\x8c\\x04Name\\x94\\x8c\\x07Shalini\\x94\\x8c\\x06Course\\x94\\x8c\\x06Python\\x94u.'"
      ]
     },
     "execution_count": 117,
     "metadata": {},
     "output_type": "execute_result"
    }
   ],
   "source": [
    "x"
   ]
  },
  {
   "cell_type": "code",
   "execution_count": 118,
   "metadata": {},
   "outputs": [],
   "source": [
    "y = pickle.loads(x)"
   ]
  },
  {
   "cell_type": "code",
   "execution_count": 119,
   "metadata": {},
   "outputs": [
    {
     "data": {
      "text/plain": [
       "{'Name': 'Shalini', 'Course': 'Python'}"
      ]
     },
     "execution_count": 119,
     "metadata": {},
     "output_type": "execute_result"
    }
   ],
   "source": [
    "y"
   ]
  },
  {
   "cell_type": "code",
   "execution_count": 120,
   "metadata": {},
   "outputs": [
    {
     "data": {
      "text/plain": [
       "dict"
      ]
     },
     "execution_count": 120,
     "metadata": {},
     "output_type": "execute_result"
    }
   ],
   "source": [
    "type(y)"
   ]
  },
  {
   "cell_type": "code",
   "execution_count": 121,
   "metadata": {},
   "outputs": [],
   "source": [
    "f= open('data.txt','wb')"
   ]
  },
  {
   "cell_type": "code",
   "execution_count": 122,
   "metadata": {},
   "outputs": [],
   "source": [
    "pickle.dump(d,f)"
   ]
  },
  {
   "cell_type": "code",
   "execution_count": 123,
   "metadata": {},
   "outputs": [],
   "source": [
    "f.close()"
   ]
  },
  {
   "cell_type": "code",
   "execution_count": 124,
   "metadata": {},
   "outputs": [],
   "source": [
    "f = open('data.txt','rb')"
   ]
  },
  {
   "cell_type": "code",
   "execution_count": 125,
   "metadata": {},
   "outputs": [],
   "source": [
    "data = f.read()"
   ]
  },
  {
   "cell_type": "code",
   "execution_count": 126,
   "metadata": {},
   "outputs": [
    {
     "data": {
      "text/plain": [
       "bytes"
      ]
     },
     "execution_count": 126,
     "metadata": {},
     "output_type": "execute_result"
    }
   ],
   "source": [
    "type(data)"
   ]
  },
  {
   "cell_type": "code",
   "execution_count": 127,
   "metadata": {},
   "outputs": [
    {
     "data": {
      "text/plain": [
       "b'\\x80\\x04\\x95(\\x00\\x00\\x00\\x00\\x00\\x00\\x00}\\x94(\\x8c\\x04Name\\x94\\x8c\\x07Shalini\\x94\\x8c\\x06Course\\x94\\x8c\\x06Python\\x94u.'"
      ]
     },
     "execution_count": 127,
     "metadata": {},
     "output_type": "execute_result"
    }
   ],
   "source": [
    "data"
   ]
  },
  {
   "cell_type": "code",
   "execution_count": 128,
   "metadata": {},
   "outputs": [
    {
     "data": {
      "text/plain": [
       "0"
      ]
     },
     "execution_count": 128,
     "metadata": {},
     "output_type": "execute_result"
    }
   ],
   "source": [
    "f.seek(0)"
   ]
  },
  {
   "cell_type": "code",
   "execution_count": 129,
   "metadata": {},
   "outputs": [],
   "source": [
    "data=pickle.load(f)"
   ]
  },
  {
   "cell_type": "code",
   "execution_count": 130,
   "metadata": {},
   "outputs": [
    {
     "data": {
      "text/plain": [
       "dict"
      ]
     },
     "execution_count": 130,
     "metadata": {},
     "output_type": "execute_result"
    }
   ],
   "source": [
    "type(data)"
   ]
  },
  {
   "cell_type": "code",
   "execution_count": 67,
   "metadata": {},
   "outputs": [
    {
     "data": {
      "text/plain": [
       "{'Name': 'Shalini', 'Course': 'Python'}"
      ]
     },
     "execution_count": 67,
     "metadata": {},
     "output_type": "execute_result"
    }
   ],
   "source": [
    "data"
   ]
  }
 ],
 "metadata": {
  "kernelspec": {
   "display_name": "Python 3",
   "language": "python",
   "name": "python3"
  },
  "language_info": {
   "codemirror_mode": {
    "name": "ipython",
    "version": 3
   },
   "file_extension": ".py",
   "mimetype": "text/x-python",
   "name": "python",
   "nbconvert_exporter": "python",
   "pygments_lexer": "ipython3",
   "version": "3.8.5"
  }
 },
 "nbformat": 4,
 "nbformat_minor": 2
}
