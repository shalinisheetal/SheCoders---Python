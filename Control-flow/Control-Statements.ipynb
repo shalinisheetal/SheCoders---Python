{
 "cells": [
  {
   "cell_type": "markdown",
   "metadata": {},
   "source": [
    "### Indentation"
   ]
  },
  {
   "cell_type": "code",
   "execution_count": 2,
   "metadata": {},
   "outputs": [],
   "source": [
    "# Spacing --> Scope"
   ]
  },
  {
   "cell_type": "markdown",
   "metadata": {},
   "source": [
    "# Conditonal Statements"
   ]
  },
  {
   "cell_type": "markdown",
   "metadata": {},
   "source": [
    "1. if\n",
    "2. if-else\n",
    "3. if-elif-else\n",
    "4. if else ladder\n",
    "5. nested if-else"
   ]
  },
  {
   "cell_type": "markdown",
   "metadata": {},
   "source": [
    "<h4 style=\"font-family:Comic Sans Ms;color:red\"> Note : - Everything is True in Python except seven things 0, False, None, \"\",{},[],()</h4>"
   ]
  },
  {
   "cell_type": "markdown",
   "metadata": {},
   "source": [
    "### syntax - if\n",
    "\n",
    "\n",
    "    if condition:\n",
    "        statements...1\n",
    "        .............2\n",
    "        ..............\n",
    "        ..............\n",
    "        .............n"
   ]
  },
  {
   "cell_type": "code",
   "execution_count": 3,
   "metadata": {},
   "outputs": [],
   "source": [
    "a = 40\n",
    "\n",
    "if a >= 95:\n",
    "    print(\"Award\")"
   ]
  },
  {
   "cell_type": "code",
   "execution_count": 2,
   "metadata": {},
   "outputs": [
    {
     "name": "stdout",
     "output_type": "stream",
     "text": [
      "Python Is Awesome\n"
     ]
    }
   ],
   "source": [
    "if \"Shecoders\":\n",
    "    print(\"Python Is Awesome\")"
   ]
  },
  {
   "cell_type": "code",
   "execution_count": 4,
   "metadata": {},
   "outputs": [],
   "source": [
    "if 0:\n",
    "    print(\"hello\")"
   ]
  },
  {
   "cell_type": "code",
   "execution_count": 4,
   "metadata": {},
   "outputs": [
    {
     "name": "stdout",
     "output_type": "stream",
     "text": [
      "hey\n"
     ]
    }
   ],
   "source": [
    "if 1:\n",
    "    print(\"hey\")"
   ]
  },
  {
   "cell_type": "code",
   "execution_count": 7,
   "metadata": {},
   "outputs": [],
   "source": [
    "if \"\":\n",
    "    print(\"how are you??\")"
   ]
  },
  {
   "cell_type": "markdown",
   "metadata": {},
   "source": [
    "### syntax - if-else:\n",
    "\n",
    "    if condition:\n",
    "        statement..1\n",
    "        ...........2\n",
    "        ...........\n",
    "        ...........\n",
    "        ...........n\n",
    "    else:\n",
    "        statement..1\n",
    "        ...........2\n",
    "        ...........\n",
    "        ...........\n",
    "        ...........n"
   ]
  },
  {
   "cell_type": "code",
   "execution_count": 9,
   "metadata": {},
   "outputs": [
    {
     "name": "stdout",
     "output_type": "stream",
     "text": [
      "Average\n"
     ]
    }
   ],
   "source": [
    "marks = 80\n",
    "\n",
    "if marks>=95:\n",
    "    print(\"Excellent\")\n",
    "    \n",
    "else:\n",
    "    print(\"Average\")"
   ]
  },
  {
   "cell_type": "code",
   "execution_count": 9,
   "metadata": {},
   "outputs": [
    {
     "name": "stdout",
     "output_type": "stream",
     "text": [
      "442 is Greater\n"
     ]
    }
   ],
   "source": [
    "#to find greatest among two numbers\n",
    "\n",
    "num1 = 442\n",
    "num2 = 331\n",
    "\n",
    "if num1>num2:\n",
    "    print(f\"{num1} is Greater\")\n",
    "else:\n",
    "    print(f\"{num2} is Greater\")"
   ]
  },
  {
   "cell_type": "markdown",
   "metadata": {},
   "source": [
    "### syntax - if-elif-else\n",
    "\n",
    "\n",
    "    if condition:\n",
    "        statements ..1\n",
    "        .............2\n",
    "        ..............\n",
    "        ..............\n",
    "        .............n\n",
    "    elif condition:\n",
    "        statements ..1\n",
    "        .............2\n",
    "        ..............\n",
    "        ..............\n",
    "        .............n\n",
    "    else:\n",
    "        statements ..1\n",
    "        .............2\n",
    "        ..............\n",
    "        ..............\n",
    "        .............n"
   ]
  },
  {
   "cell_type": "code",
   "execution_count": 7,
   "metadata": {},
   "outputs": [
    {
     "name": "stdout",
     "output_type": "stream",
     "text": [
      "B\n"
     ]
    }
   ],
   "source": [
    "marks = 86  #if-else ladder\n",
    "if marks >=95:\n",
    "    print(\"A\")\n",
    "elif marks >=80 and marks <95:\n",
    "    print(\"B\")\n",
    "elif marks >=70 and marks <80:\n",
    "    print(\"C\")\n",
    "else:\n",
    "    print(\"D\")"
   ]
  },
  {
   "cell_type": "code",
   "execution_count": 19,
   "metadata": {},
   "outputs": [],
   "source": [
    "#How to take an input from user"
   ]
  },
  {
   "cell_type": "code",
   "execution_count": 10,
   "metadata": {},
   "outputs": [
    {
     "name": "stdout",
     "output_type": "stream",
     "text": [
      "Enter a number ---> 4\n"
     ]
    }
   ],
   "source": [
    "a = input(\"Enter a number ---> \")"
   ]
  },
  {
   "cell_type": "code",
   "execution_count": 11,
   "metadata": {},
   "outputs": [
    {
     "name": "stdout",
     "output_type": "stream",
     "text": [
      "4\n"
     ]
    }
   ],
   "source": [
    "print(a)"
   ]
  },
  {
   "cell_type": "code",
   "execution_count": 22,
   "metadata": {},
   "outputs": [
    {
     "name": "stdout",
     "output_type": "stream",
     "text": [
      "<class 'str'>\n"
     ]
    }
   ],
   "source": [
    "print(type(a))"
   ]
  },
  {
   "cell_type": "code",
   "execution_count": 12,
   "metadata": {},
   "outputs": [
    {
     "name": "stdout",
     "output_type": "stream",
     "text": [
      "Enter a number ---> 5\n"
     ]
    }
   ],
   "source": [
    "a = int(input(\"Enter a number ---> \"))"
   ]
  },
  {
   "cell_type": "code",
   "execution_count": 13,
   "metadata": {},
   "outputs": [
    {
     "name": "stdout",
     "output_type": "stream",
     "text": [
      "<class 'int'>\n"
     ]
    }
   ],
   "source": [
    "print(type(a))"
   ]
  },
  {
   "cell_type": "code",
   "execution_count": 25,
   "metadata": {},
   "outputs": [],
   "source": [
    "#to find the greatest no among three nos"
   ]
  },
  {
   "cell_type": "code",
   "execution_count": 26,
   "metadata": {},
   "outputs": [
    {
     "name": "stdout",
     "output_type": "stream",
     "text": [
      "Enter the 1st number --> 44\n",
      "Enter the 2nd number --> 66\n",
      "Enter the 3rd number --> 65\n",
      "66 is Greatest\n"
     ]
    }
   ],
   "source": [
    "num1 = int(input(\"Enter the 1st number --> \"))\n",
    "num2 = int(input(\"Enter the 2nd number --> \"))\n",
    "num3 = int(input(\"Enter the 3rd number --> \"))\n",
    "\n",
    "if num1 > num2 and num1 > num3:\n",
    "    print(f\"{num1} is Greatest\")\n",
    "elif num2 > num3:\n",
    "    print(f\"{num2} is Greatest\")\n",
    "else:\n",
    "    print(f\"{num3} is Greatest\")"
   ]
  },
  {
   "cell_type": "code",
   "execution_count": 27,
   "metadata": {},
   "outputs": [],
   "source": [
    "#to find the greatest no among four nos"
   ]
  },
  {
   "cell_type": "code",
   "execution_count": 28,
   "metadata": {},
   "outputs": [
    {
     "name": "stdout",
     "output_type": "stream",
     "text": [
      "Enter the 1st number --> 4\n",
      "Enter the 2nd number --> 4\n",
      "Enter the 3rd number --> 5\n",
      "Enter the 4th number --> 5\n",
      "5 is Greatest\n"
     ]
    }
   ],
   "source": [
    "num1 = int(input(\"Enter the 1st number --> \"))\n",
    "num2 = int(input(\"Enter the 2nd number --> \"))\n",
    "num3 = int(input(\"Enter the 3rd number --> \"))\n",
    "num4 = int(input(\"Enter the 4th number --> \"))\n",
    "\n",
    "if num1 > num2 and num1 > num3 and num1 > num4:\n",
    "    print(f\"{num1} is Greatest\")\n",
    "elif num2 > num3 and num2 > num4:\n",
    "    print(f\"{num2} is Greatest\")\n",
    "elif num3 > num4:\n",
    "    print(f\"{num3} is Greatest\")\n",
    "else:\n",
    "    print(f\"{num4} is Greatest\")"
   ]
  },
  {
   "cell_type": "markdown",
   "metadata": {},
   "source": [
    "#Grade System \n",
    "\n",
    "    5 subjects --> Average\n",
    "    avg >=85 --> A\n",
    "    75=<avg <85 --> B\n",
    "    65=<avg<75 --> C\n",
    "    45=<avg<65 --> D\n",
    "    below 45 --> F"
   ]
  },
  {
   "cell_type": "code",
   "execution_count": 14,
   "metadata": {},
   "outputs": [
    {
     "name": "stdout",
     "output_type": "stream",
     "text": [
      "Enter marks of English --> 97\n",
      "Enter marks of Mathematics --> 99\n",
      "Enter marks of Hindi --> 75\n",
      "Enter marks of Computer Science --> 90\n",
      "Enter marks of SST --> 56\n",
      "Grade B\n"
     ]
    }
   ],
   "source": [
    "eng = int(input(\"Enter marks of English --> \"))\n",
    "maths = int(input(\"Enter marks of Mathematics --> \"))\n",
    "hindi = int(input(\"Enter marks of Hindi --> \"))\n",
    "comp = int(input(\"Enter marks of Computer Science --> \"))\n",
    "sst = int(input(\"Enter marks of SST --> \"))\n",
    "\n",
    "avg = (eng+maths+hindi+comp+sst)/5\n",
    "\n",
    "if avg>=85:\n",
    "    print(\"Grade A\")\n",
    "elif avg<85 and avg>=75:\n",
    "    print(\"Grade B\")\n",
    "elif avg<75 and avg>=65:\n",
    "    print(\"Grade C\")\n",
    "elif avg<65 and avg>=45:\n",
    "    print(\"Grade D\")\n",
    "else:\n",
    "    print(\"Grade F\")"
   ]
  },
  {
   "cell_type": "code",
   "execution_count": 30,
   "metadata": {},
   "outputs": [],
   "source": [
    "#vowel or consonant"
   ]
  },
  {
   "cell_type": "code",
   "execution_count": 31,
   "metadata": {},
   "outputs": [
    {
     "name": "stdout",
     "output_type": "stream",
     "text": [
      "Enter a character --> 3\n",
      "3 is Consonant\n"
     ]
    }
   ],
   "source": [
    "c = input(\"Enter a character --> \").lower().strip()\n",
    "v = ['a','e','i','o','u']\n",
    "\n",
    "if c in v: # Membership Operator\n",
    "    print(f\"{c} is Vowel\")\n",
    "else:\n",
    "    print(f\"{c} is Consonant\")"
   ]
  },
  {
   "cell_type": "code",
   "execution_count": 32,
   "metadata": {},
   "outputs": [
    {
     "name": "stdout",
     "output_type": "stream",
     "text": [
      "Julia\n",
      "C++\n",
      ".net\n",
      "Ruby\n"
     ]
    }
   ],
   "source": [
    "if True:\n",
    "    if False:\n",
    "        print(\"Python\")\n",
    "    elif True:\n",
    "        print(\"Julia\")\n",
    "        if True:\n",
    "            if True:\n",
    "                print(\"C++\")\n",
    "                if False:\n",
    "                    print(\"c#\")\n",
    "                else:\n",
    "                    print(\".net\")\n",
    "            print(\"Ruby\")\n",
    "        else:\n",
    "            print(\"Java\")\n",
    "    else:\n",
    "        print(\"JS\")\n",
    "elif True:\n",
    "    print(\"Swift\")\n",
    "else:\n",
    "    print(\"C\")"
   ]
  },
  {
   "cell_type": "markdown",
   "metadata": {},
   "source": [
    "## Loops"
   ]
  },
  {
   "cell_type": "markdown",
   "metadata": {},
   "source": [
    "1. while\n",
    "2. for"
   ]
  },
  {
   "cell_type": "code",
   "execution_count": 53,
   "metadata": {},
   "outputs": [],
   "source": [
    "#syntax --> "
   ]
  },
  {
   "cell_type": "markdown",
   "metadata": {},
   "source": [
    "    while condition:\n",
    "        statements..1\n",
    "        ............2\n",
    "        .............\n",
    "        .............\n",
    "        .............\n",
    "        ............n\n",
    "        loop var increment/decrement"
   ]
  },
  {
   "cell_type": "code",
   "execution_count": 15,
   "metadata": {},
   "outputs": [
    {
     "name": "stdout",
     "output_type": "stream",
     "text": [
      "1 Hello\n",
      "2 Hello\n",
      "3 Hello\n",
      "4 Hello\n",
      "5 Hello\n",
      "6 Hello\n",
      "7 Hello\n",
      "8 Hello\n",
      "9 Hello\n",
      "10 Hello\n",
      "11\n"
     ]
    }
   ],
   "source": [
    "c = 1\n",
    "while c <= 10:\n",
    "    print(c,\"Hello\")\n",
    "    c += 1\n",
    "    \n",
    "print(c)"
   ]
  },
  {
   "cell_type": "code",
   "execution_count": 55,
   "metadata": {},
   "outputs": [
    {
     "name": "stdout",
     "output_type": "stream",
     "text": [
      "100 99 98 97 96 95 94 93 92 91 90 89 88 87 86 85 84 83 82 81 80 79 78 77 76 75 74 73 72 71 70 69 68 67 66 65 64 63 62 61 60 59 58 57 56 55 54 53 52 51 50 49 48 47 46 45 44 43 42 41 40 39 38 37 36 35 34 33 32 31 30 29 28 27 26 25 24 23 22 21 20 19 18 17 16 15 14 13 12 11 10 9 8 7 6 5 4 3 2 1 "
     ]
    }
   ],
   "source": [
    "c = 100\n",
    "while c > 0:\n",
    "    print(c,end=\" \")\n",
    "    c -= 1\n",
    "    "
   ]
  },
  {
   "cell_type": "code",
   "execution_count": 56,
   "metadata": {},
   "outputs": [],
   "source": [
    "# NEVER FORGET TO UPDATE COUNTER INSIDE LOOP\n",
    "\n",
    "#while 9:\n",
    "#    print(\"SHECODERS\")"
   ]
  },
  {
   "cell_type": "code",
   "execution_count": 57,
   "metadata": {},
   "outputs": [],
   "source": [
    "while \"\":\n",
    "    print(\"PYTHON TUTORIAL\")"
   ]
  },
  {
   "cell_type": "code",
   "execution_count": 58,
   "metadata": {},
   "outputs": [],
   "source": [
    "# multiplication table of a num"
   ]
  },
  {
   "cell_type": "code",
   "execution_count": 16,
   "metadata": {},
   "outputs": [
    {
     "name": "stdout",
     "output_type": "stream",
     "text": [
      "Enter a number --> 5\n",
      "5 X 1 = 5\n",
      "5 X 2 = 10\n",
      "5 X 3 = 15\n",
      "5 X 4 = 20\n",
      "5 X 5 = 25\n",
      "5 X 6 = 30\n",
      "5 X 7 = 35\n",
      "5 X 8 = 40\n",
      "5 X 9 = 45\n",
      "5 X 10 = 50\n"
     ]
    }
   ],
   "source": [
    "num = int(input(\"Enter a number --> \"))\n",
    "i = 1\n",
    "while i <= 10:\n",
    "    print(f\"{num} X {i} = {i*num}\")\n",
    "    i = i+1"
   ]
  },
  {
   "cell_type": "code",
   "execution_count": 60,
   "metadata": {},
   "outputs": [],
   "source": [
    "l = [\"Ravi\",\"Kajal\",\"Raj\",\"Rahul\",\"Simi\",\"Feny\",\"Hiren\",\"Narendra Modi\",\"Kejriwal\",\"Kavi\"]"
   ]
  },
  {
   "cell_type": "code",
   "execution_count": 61,
   "metadata": {},
   "outputs": [
    {
     "name": "stdout",
     "output_type": "stream",
     "text": [
      "Ravi\n",
      "Simi\n",
      "Feny\n",
      "Kavi\n"
     ]
    }
   ],
   "source": [
    "c = 0\n",
    "while c < len(l):\n",
    "    if len(l[c]) == 4:\n",
    "        print(l[c])\n",
    "    c += 1"
   ]
  },
  {
   "cell_type": "code",
   "execution_count": 62,
   "metadata": {},
   "outputs": [],
   "source": [
    "l = [12,31,24,132,4,134,3,5,234,523,5,23,4,32,4,32,4,324,23,423]"
   ]
  },
  {
   "cell_type": "code",
   "execution_count": 63,
   "metadata": {},
   "outputs": [
    {
     "name": "stdout",
     "output_type": "stream",
     "text": [
      "1976\n"
     ]
    }
   ],
   "source": [
    "c = 0\n",
    "temp = 0\n",
    "while c < len(l):\n",
    "    temp += l[c]\n",
    "    c += 1\n",
    "print(temp)"
   ]
  },
  {
   "cell_type": "code",
   "execution_count": 64,
   "metadata": {},
   "outputs": [
    {
     "data": {
      "text/plain": [
       "1976"
      ]
     },
     "execution_count": 64,
     "metadata": {},
     "output_type": "execute_result"
    }
   ],
   "source": [
    "sum(l)"
   ]
  },
  {
   "cell_type": "code",
   "execution_count": 65,
   "metadata": {},
   "outputs": [],
   "source": [
    "# to find reverse of an int number"
   ]
  },
  {
   "cell_type": "code",
   "execution_count": 66,
   "metadata": {},
   "outputs": [
    {
     "name": "stdout",
     "output_type": "stream",
     "text": [
      "Enter a number --> 66\n",
      "Reverse of the number 66 is 66\n"
     ]
    }
   ],
   "source": [
    "num = int(input(\"Enter a number --> \"))\n",
    "num1 = num\n",
    "res = 0\n",
    "\n",
    "while num!=0:\n",
    "    rem = num %10\n",
    "    res = res*10+rem\n",
    "    num = num//10\n",
    "    \n",
    "print(f\"Reverse of the number {num1} is {res}\")"
   ]
  },
  {
   "cell_type": "code",
   "execution_count": 67,
   "metadata": {},
   "outputs": [],
   "source": [
    "# CHECK if a number is Palindrome"
   ]
  },
  {
   "cell_type": "code",
   "execution_count": 17,
   "metadata": {},
   "outputs": [
    {
     "name": "stdout",
     "output_type": "stream",
     "text": [
      "Enter a number --> 67\n",
      "67 is Not a Palindrome\n"
     ]
    }
   ],
   "source": [
    "num = int(input(\"Enter a number --> \"))\n",
    "num1 = num\n",
    "res = 0\n",
    "\n",
    "while num != 0:\n",
    "    rem = num %10\n",
    "    res = res*10+rem\n",
    "    num = num//10\n",
    "    \n",
    "if num1 == res:\n",
    "    print(f\"{num1} is Palindrome\")\n",
    "else:\n",
    "    print(f\"{num1} is Not a Palindrome\")"
   ]
  },
  {
   "cell_type": "code",
   "execution_count": 69,
   "metadata": {},
   "outputs": [],
   "source": [
    "#Prime or not"
   ]
  },
  {
   "cell_type": "code",
   "execution_count": 70,
   "metadata": {},
   "outputs": [
    {
     "name": "stdout",
     "output_type": "stream",
     "text": [
      "Enter a number -->4545\n",
      "4545 is Non-Prime\n"
     ]
    }
   ],
   "source": [
    "num = int(input(\"Enter a number -->\"))\n",
    "c = 2\n",
    "flag = 1\n",
    "while c < num:\n",
    "    if num%c == 0:\n",
    "        flag=0\n",
    "        break\n",
    "    else:\n",
    "        flag=1\n",
    "    c+=1\n",
    "if flag == 0:\n",
    "    print(f\"{num} is Non-Prime\")\n",
    "else:\n",
    "    print(f\"{num} is Prime\")"
   ]
  },
  {
   "cell_type": "code",
   "execution_count": 72,
   "metadata": {},
   "outputs": [
    {
     "name": "stdout",
     "output_type": "stream",
     "text": [
      "Enter a number -->545\n",
      "545 is Non-Prime\n"
     ]
    }
   ],
   "source": [
    "# without using flag\n",
    "\n",
    "num = int(input(\"Enter a number -->\"))\n",
    "c = 2\n",
    "\n",
    "while c<num:\n",
    "    if num%c==0:\n",
    "        print(f\"{num} is Non-Prime\")\n",
    "        break\n",
    "    c+=1\n",
    "else:\n",
    "    print(f\"{num} is Prime\")\n",
    "    "
   ]
  },
  {
   "cell_type": "code",
   "execution_count": 80,
   "metadata": {},
   "outputs": [],
   "source": [
    "#factorial"
   ]
  },
  {
   "cell_type": "code",
   "execution_count": 85,
   "metadata": {},
   "outputs": [
    {
     "name": "stdout",
     "output_type": "stream",
     "text": [
      "Enter a number --> 6\n",
      "Factorial of 6 is 720\n"
     ]
    }
   ],
   "source": [
    "num = int(input(\"Enter a number --> \"))\n",
    "fact = 1\n",
    "\n",
    "for var in range(1,num+1):\n",
    "    fact = fact*var\n",
    "    \n",
    "print(f\"Factorial of {num} is {fact}\")"
   ]
  },
  {
   "cell_type": "markdown",
   "metadata": {},
   "source": [
    "1,1,2,3,5,8,13,21,34,55,89,144........"
   ]
  },
  {
   "cell_type": "code",
   "execution_count": 93,
   "metadata": {},
   "outputs": [
    {
     "name": "stdout",
     "output_type": "stream",
     "text": [
      "Enter the value of n --> 10\n",
      "0\t1\t1\t2\t3\t5\t8\t13\t21\t34\t55\t"
     ]
    }
   ],
   "source": [
    "n = int(input(\"Enter the value of n --> \"))\n",
    "a = 0\n",
    "b = 1\n",
    "\n",
    "print(a,end=\"\\t\")\n",
    "\n",
    "for var in range(1,n+1):\n",
    "    print(b,end='\\t')\n",
    "    b,a = a+b,b"
   ]
  },
  {
   "cell_type": "code",
   "execution_count": 94,
   "metadata": {},
   "outputs": [],
   "source": [
    "#prime in a range"
   ]
  },
  {
   "cell_type": "code",
   "execution_count": 98,
   "metadata": {},
   "outputs": [
    {
     "name": "stdout",
     "output_type": "stream",
     "text": [
      "Enter Starting point of the range --> 1\n",
      "Enter Stop Point of the range --> 1000\n",
      "1\t2\t3\t5\t7\t11\t13\t17\t19\t23\t29\t31\t37\t41\t43\t47\t53\t59\t61\t67\t71\t73\t79\t83\t89\t97\t101\t103\t107\t109\t113\t127\t131\t137\t139\t149\t151\t157\t163\t167\t173\t179\t181\t191\t193\t197\t199\t211\t223\t227\t229\t233\t239\t241\t251\t257\t263\t269\t271\t277\t281\t283\t293\t307\t311\t313\t317\t331\t337\t347\t349\t353\t359\t367\t373\t379\t383\t389\t397\t401\t409\t419\t421\t431\t433\t439\t443\t449\t457\t461\t463\t467\t479\t487\t491\t499\t503\t509\t521\t523\t541\t547\t557\t563\t569\t571\t577\t587\t593\t599\t601\t607\t613\t617\t619\t631\t641\t643\t647\t653\t659\t661\t673\t677\t683\t691\t701\t709\t719\t727\t733\t739\t743\t751\t757\t761\t769\t773\t787\t797\t809\t811\t821\t823\t827\t829\t839\t853\t857\t859\t863\t877\t881\t883\t887\t907\t911\t919\t929\t937\t941\t947\t953\t967\t971\t977\t983\t991\t997\t\n",
      "Total Prime nos in the range --> 169\n"
     ]
    }
   ],
   "source": [
    "from math import sqrt\n",
    "s = int(input(\"Enter Starting point of the range --> \"))\n",
    "e = int(input(\"Enter Stop Point of the range --> \"))\n",
    "count=0\n",
    "\n",
    "for num in range(s,e+1):\n",
    "    check = round(sqrt(num))+1\n",
    "    for var in range(2,check):\n",
    "        if num%var==0:\n",
    "            break\n",
    "    else:\n",
    "        print(num,end='\\t')\n",
    "        count = count+1\n",
    "        \n",
    "print(f\"\\nTotal Prime nos in the range --> {count}\")"
   ]
  },
  {
   "cell_type": "markdown",
   "metadata": {},
   "source": [
    "# List Comprehension"
   ]
  },
  {
   "cell_type": "code",
   "execution_count": 136,
   "metadata": {},
   "outputs": [],
   "source": [
    "l = [24,12,4,12,412,4,12,4,124,21,4,325,43,5634,635,7,456,856,7,6344,13,532,5,235,325,23,5,23,523,5,32523,65,34,5]"
   ]
  },
  {
   "cell_type": "code",
   "execution_count": 100,
   "metadata": {},
   "outputs": [],
   "source": [
    "l1 = []"
   ]
  },
  {
   "cell_type": "code",
   "execution_count": 101,
   "metadata": {},
   "outputs": [],
   "source": [
    "for var in l:\n",
    "    if var%2:\n",
    "        l1.append(var)"
   ]
  },
  {
   "cell_type": "code",
   "execution_count": 102,
   "metadata": {},
   "outputs": [
    {
     "data": {
      "text/plain": [
       "[21, 325, 43, 635, 7, 7, 13, 5, 235, 325, 23, 5, 23, 523, 5, 32523, 65, 5]"
      ]
     },
     "execution_count": 102,
     "metadata": {},
     "output_type": "execute_result"
    }
   ],
   "source": [
    "l1"
   ]
  },
  {
   "cell_type": "code",
   "execution_count": 105,
   "metadata": {},
   "outputs": [],
   "source": [
    "l1 = [var for var in l if var%2] #list comprehension"
   ]
  },
  {
   "cell_type": "code",
   "execution_count": 106,
   "metadata": {},
   "outputs": [
    {
     "data": {
      "text/plain": [
       "[21, 325, 43, 635, 7, 7, 13, 5, 235, 325, 23, 5, 23, 523, 5, 32523, 65, 5]"
      ]
     },
     "execution_count": 106,
     "metadata": {},
     "output_type": "execute_result"
    }
   ],
   "source": [
    "l1"
   ]
  },
  {
   "cell_type": "code",
   "execution_count": 19,
   "metadata": {},
   "outputs": [],
   "source": [
    "import random"
   ]
  },
  {
   "cell_type": "code",
   "execution_count": 20,
   "metadata": {},
   "outputs": [
    {
     "data": {
      "text/plain": [
       "36"
      ]
     },
     "execution_count": 20,
     "metadata": {},
     "output_type": "execute_result"
    }
   ],
   "source": [
    "random.randint(1,100)"
   ]
  },
  {
   "cell_type": "code",
   "execution_count": 21,
   "metadata": {},
   "outputs": [],
   "source": [
    "from random import randint"
   ]
  },
  {
   "cell_type": "code",
   "execution_count": 22,
   "metadata": {},
   "outputs": [
    {
     "data": {
      "text/plain": [
       "176"
      ]
     },
     "execution_count": 22,
     "metadata": {},
     "output_type": "execute_result"
    }
   ],
   "source": [
    "randint(1,500)"
   ]
  },
  {
   "cell_type": "code",
   "execution_count": 125,
   "metadata": {},
   "outputs": [
    {
     "name": "stdout",
     "output_type": "stream",
     "text": [
      "2\t48\t1\t24\t32\t38\t30\t35\t46\t13\t42\t27\t33\t48\t24\t15\t38\t23\t13\t42\t38\t30\t16\t49\t9\t40\t26\t25\t7\t39\t39\t37\t16\t24\t48\t20\t1\t41\t20\t21\t36\t25\t1\t36\t10\t24\t30\t30\t6\t35\t47\t24\t25\t3\t13\t31\t28\t4\t33\t43\t7\t17\t8\t2\t3\t47\t8\t32\t20\t42\t18\t18\t28\t19\t3\t5\t36\t45\t6\t30\t28\t42\t26\t15\t30\t26\t12\t25\t17\t6\t34\t37\t25\t32\t44\t35\t14\t48\t17\t16\t"
     ]
    }
   ],
   "source": [
    "for var in range(100):\n",
    "    print(randint(1,50),end='\\t')"
   ]
  },
  {
   "cell_type": "code",
   "execution_count": 23,
   "metadata": {},
   "outputs": [],
   "source": [
    "l = [randint(1,50) for var in range(100)]"
   ]
  },
  {
   "cell_type": "code",
   "execution_count": 24,
   "metadata": {},
   "outputs": [
    {
     "name": "stdout",
     "output_type": "stream",
     "text": [
      "[47, 25, 20, 34, 1, 19, 41, 49, 16, 13, 48, 38, 41, 36, 28, 32, 42, 23, 46, 27, 42, 35, 22, 35, 37, 26, 15, 24, 34, 37, 37, 37, 8, 6, 8, 30, 4, 2, 7, 32, 12, 28, 46, 6, 28, 26, 45, 40, 9, 24, 8, 33, 28, 30, 34, 17, 45, 44, 46, 12, 23, 29, 6, 41, 44, 5, 34, 9, 6, 30, 27, 11, 35, 21, 24, 37, 50, 47, 47, 27, 32, 23, 35, 33, 36, 5, 1, 39, 26, 17, 18, 1, 13, 11, 7, 48, 24, 10, 37, 32]\n"
     ]
    }
   ],
   "source": [
    "print(l)"
   ]
  },
  {
   "cell_type": "code",
   "execution_count": 25,
   "metadata": {},
   "outputs": [
    {
     "data": {
      "text/plain": [
       "100"
      ]
     },
     "execution_count": 25,
     "metadata": {},
     "output_type": "execute_result"
    }
   ],
   "source": [
    "len(l)"
   ]
  },
  {
   "cell_type": "code",
   "execution_count": 132,
   "metadata": {},
   "outputs": [],
   "source": [
    "l = [1 for var in range(10)]"
   ]
  },
  {
   "cell_type": "code",
   "execution_count": 133,
   "metadata": {},
   "outputs": [
    {
     "data": {
      "text/plain": [
       "[1, 1, 1, 1, 1, 1, 1, 1, 1, 1]"
      ]
     },
     "execution_count": 133,
     "metadata": {},
     "output_type": "execute_result"
    }
   ],
   "source": [
    "l"
   ]
  },
  {
   "cell_type": "code",
   "execution_count": 139,
   "metadata": {},
   "outputs": [],
   "source": [
    "l1 = [var for var in l if var%2==0]"
   ]
  },
  {
   "cell_type": "code",
   "execution_count": 141,
   "metadata": {},
   "outputs": [
    {
     "data": {
      "text/plain": [
       "[24, 12, 4, 12, 412, 4, 12, 4, 124, 4, 5634, 456, 856, 6344, 532, 34]"
      ]
     },
     "execution_count": 141,
     "metadata": {},
     "output_type": "execute_result"
    }
   ],
   "source": [
    "l1"
   ]
  },
  {
   "cell_type": "code",
   "execution_count": 144,
   "metadata": {},
   "outputs": [],
   "source": [
    "l = [\"hi\" if var%2==0 else \"hello\" for var in range(1,20)]"
   ]
  },
  {
   "cell_type": "code",
   "execution_count": 145,
   "metadata": {},
   "outputs": [
    {
     "data": {
      "text/plain": [
       "['hello',\n",
       " 'hi',\n",
       " 'hello',\n",
       " 'hi',\n",
       " 'hello',\n",
       " 'hi',\n",
       " 'hello',\n",
       " 'hi',\n",
       " 'hello',\n",
       " 'hi',\n",
       " 'hello',\n",
       " 'hi',\n",
       " 'hello',\n",
       " 'hi',\n",
       " 'hello',\n",
       " 'hi',\n",
       " 'hello',\n",
       " 'hi',\n",
       " 'hello']"
      ]
     },
     "execution_count": 145,
     "metadata": {},
     "output_type": "execute_result"
    }
   ],
   "source": [
    "l"
   ]
  },
  {
   "cell_type": "code",
   "execution_count": 146,
   "metadata": {},
   "outputs": [],
   "source": [
    "#[True if condition else false loop]"
   ]
  },
  {
   "cell_type": "code",
   "execution_count": 147,
   "metadata": {},
   "outputs": [],
   "source": [
    "l = ['sun','mon','tue','wed','thu','fri','sat']"
   ]
  },
  {
   "cell_type": "code",
   "execution_count": 148,
   "metadata": {},
   "outputs": [],
   "source": [
    "l1 = [\"Weekend\" if var[0] == 's' else \"WeekDay\" for var in l]"
   ]
  },
  {
   "cell_type": "code",
   "execution_count": 149,
   "metadata": {},
   "outputs": [
    {
     "data": {
      "text/plain": [
       "['Weekend', 'WeekDay', 'WeekDay', 'WeekDay', 'WeekDay', 'WeekDay', 'Weekend']"
      ]
     },
     "execution_count": 149,
     "metadata": {},
     "output_type": "execute_result"
    }
   ],
   "source": [
    "l1"
   ]
  },
  {
   "cell_type": "code",
   "execution_count": 150,
   "metadata": {},
   "outputs": [],
   "source": [
    "l = ['rina','meena','try','sheela','dry','munni','chulbul','fry','raju','ramesh','cry']"
   ]
  },
  {
   "cell_type": "code",
   "execution_count": 155,
   "metadata": {},
   "outputs": [
    {
     "name": "stdout",
     "output_type": "stream",
     "text": [
      "['rina', 'meena', 'sheela', 'munni', 'chulbul', 'raju', 'ramesh']\n"
     ]
    }
   ],
   "source": [
    "l1=[]\n",
    "v = \"a,e,i,o,u\"\n",
    "for word in l:\n",
    "    for letter in word:\n",
    "        if letter in v.split(','):\n",
    "            if word not in l1:\n",
    "                l1.append(word)\n",
    "print(l1)"
   ]
  },
  {
   "cell_type": "markdown",
   "metadata": {},
   "source": [
    "# Games"
   ]
  },
  {
   "cell_type": "code",
   "execution_count": 1,
   "metadata": {},
   "outputs": [],
   "source": [
    "# Guessing Game"
   ]
  },
  {
   "cell_type": "code",
   "execution_count": 9,
   "metadata": {},
   "outputs": [
    {
     "name": "stdout",
     "output_type": "stream",
     "text": [
      "*****************************************************************************************************************************\n",
      "-----------------------------------------------------------------------------------------------------------------------------\n",
      "                                                       Guessing Game!!                                                       \n",
      "-----------------------------------------------------------------------------------------------------------------------------\n",
      "*****************************************************************************************************************************\n",
      "\n",
      "Enter Your Name --> Shalini\n",
      "Enter a number (1-100) --> 50\n",
      "Move up!!!\n",
      "Enter a number (1-100) --> 70\n",
      "Move up!!!\n",
      "Enter a number (1-100) --> 90\n",
      "Move down!!!\n",
      "Enter a number (1-100) --> 80\n",
      "Move up!!!\n",
      "Enter a number (1-100) --> 85\n",
      "Move up!!!\n",
      "Shalini lose the Game!! Ans --> 89\n"
     ]
    }
   ],
   "source": [
    "from random import randint\n",
    "print(\"*\"*125)\n",
    "print(\"-\"*125)\n",
    "print(\"Guessing Game!!\".center(125))\n",
    "print(\"-\"*125)\n",
    "print(\"*\"*125)\n",
    "name = input(\"\\nEnter Your Name --> \")\n",
    "ans = randint(1,100)\n",
    "c = 1\n",
    "\n",
    "while c<=5:\n",
    "    num = int(input(\"Enter a number (1-100) --> \"))\n",
    "    if num == ans:\n",
    "        print(f\"{name} Wins !!! Ans --> {ans}\")\n",
    "        break\n",
    "    elif num > ans:\n",
    "        print(\"Move down!!!\")\n",
    "    elif num < ans:\n",
    "        print(\"Move up!!!\")\n",
    "    else:\n",
    "        print(\"Invalid!!!\")\n",
    "    c+=1\n",
    "else:\n",
    "    print(f\"{name} lose the Game!! Ans --> {ans}\")"
   ]
  },
  {
   "cell_type": "code",
   "execution_count": 10,
   "metadata": {},
   "outputs": [],
   "source": [
    "# Rock, Paper and Scissors"
   ]
  },
  {
   "cell_type": "code",
   "execution_count": 1,
   "metadata": {},
   "outputs": [],
   "source": [
    "from random import choice"
   ]
  },
  {
   "cell_type": "code",
   "execution_count": 2,
   "metadata": {},
   "outputs": [
    {
     "name": "stdout",
     "output_type": "stream",
     "text": [
      "************************************************************************************************************************\n",
      "------------------------------------------------------------------------------------------------------------------------\n",
      "                                                   Rock, Paper & Scissors!!                                                  \n",
      "------------------------------------------------------------------------------------------------------------------------\n",
      "************************************************************************************************************************\n",
      "\n",
      "Enter Your Name --> Shalini\n",
      "\n",
      "Enter your Choice (r|p|s) -->r\n",
      "Shalini lose     comp --> p\n",
      "\n",
      "Do you really want to play again??? n\n",
      "\n",
      "Bye - Bye\n"
     ]
    }
   ],
   "source": [
    "print(\"*\"*120)\n",
    "print(\"-\"*120)\n",
    "print(\"Rock, Paper & Scissors!!\".center(125))\n",
    "print(\"-\"*120)\n",
    "print(\"*\"*120)\n",
    "name = input(\"\\nEnter Your Name --> \")\n",
    "win = [('p','r'),('s','p'),('r','s')]\n",
    "\n",
    "while True:\n",
    "    com = choice(['r','p','s'])\n",
    "    p = input(\"\\nEnter your Choice (r|p|s) --> \")\n",
    "    if (p,com) in win:\n",
    "        print(f\"{name} wins     comp --> {com}\")\n",
    "    elif p==com:\n",
    "        print(\"\\nMatch Tie\")\n",
    "    else:\n",
    "        print(f\"{name} lose     comp --> {com}\")\n",
    "    ch = input(\"\\nDo you really want to play again??? \")\n",
    "    if ch == \"y\" or ch == \"yes\":\n",
    "        continue\n",
    "    else:\n",
    "        print(\"\\nBye - Bye\")\n",
    "        break"
   ]
  },
  {
   "cell_type": "code",
   "execution_count": null,
   "metadata": {},
   "outputs": [],
   "source": []
  }
 ],
 "metadata": {
  "kernelspec": {
   "display_name": "Python 3",
   "language": "python",
   "name": "python3"
  },
  "language_info": {
   "codemirror_mode": {
    "name": "ipython",
    "version": 3
   },
   "file_extension": ".py",
   "mimetype": "text/x-python",
   "name": "python",
   "nbconvert_exporter": "python",
   "pygments_lexer": "ipython3",
   "version": "3.8.5"
  }
 },
 "nbformat": 4,
 "nbformat_minor": 4
}
